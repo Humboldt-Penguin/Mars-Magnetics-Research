{
 "cells": [
  {
   "cell_type": "markdown",
   "id": "dcb17212-8ec5-4f88-acd9-9a8f05be03b9",
   "metadata": {},
   "source": [
    "TODO:\n",
    "* ~~move GRS stuff to its own class~~\n",
    "  * ~~double check i'm getting concentrations at the right coordinates~~\n",
    "  * ~~double check volatile normalization~~\n",
    "  * ~~double check plotting~~\n",
    "* ~~data downloader~~\n",
    "* come up with a crater class"
   ]
  },
  {
   "cell_type": "markdown",
   "id": "f7dfec5a-08a4-4b20-b42d-ca1474db0f96",
   "metadata": {
    "tags": []
   },
   "source": [
    "---\n",
    "# 0. Setup"
   ]
  },
  {
   "cell_type": "markdown",
   "id": "cda36e89-8451-47bb-b13a-178ca2f2349a",
   "metadata": {
    "tags": []
   },
   "source": [
    "## Add path to source"
   ]
  },
  {
   "cell_type": "code",
   "execution_count": 1,
   "id": "a22f0293-5fc5-48ce-a60d-64ee86cce285",
   "metadata": {
    "tags": []
   },
   "outputs": [
    {
     "name": "stdout",
     "output_type": "stream",
     "text": [
      "Path to source: D:\\sync\\01_Research\\Mars_Magnetics\\code\\05_mag_src_map\\src\n"
     ]
    }
   ],
   "source": [
    "## This is OD way to deal with paths\n",
    "\n",
    "def getPath(*args):\n",
    "    \"\"\"Join all arguments into a single path. Use 'current' as a stand in for path to current file.\"\"\"\n",
    "    import os\n",
    "    args = [os.getcwd() if arg == 'current' else arg for arg in args]\n",
    "    return os.path.abspath(os.path.join(*args))\n",
    "\n",
    "    \n",
    "def path_addSrc(fullpath_src = None, relpath_src = None, parent = False, verbose = False):\n",
    "    \"\"\"\n",
    "    Add directory \"src/\" to path.\n",
    "        \n",
    "    PARAMETERS:\n",
    "        fullpath_src : string\n",
    "            Path to source from root.\n",
    "        relpath_src : string\n",
    "            Path to source from directory of current file.\n",
    "        parent : boolean\n",
    "            Use parent folder as source\n",
    "        verbose : boolean\n",
    "            Prints source directory path.\n",
    "    \n",
    "    RETURN:\n",
    "        path_src : string\n",
    "            Path to source from root.\n",
    "    \"\"\"\n",
    "    \n",
    "    import sys\n",
    "    import os\n",
    "\n",
    "    if fullpath_src:\n",
    "        path_src = getPath(fullpath_src)\n",
    "    elif relpath_src:\n",
    "        path_src = getPath('current', relpath_src)\n",
    "    elif parent:\n",
    "        path_src = getPath('current', '..')\n",
    "        \n",
    "    if verbose: print(\"Path to source: \" + path_src)\n",
    "    \n",
    "    sys.path.append(path_src)\n",
    "    return path_src\n",
    "\n",
    "\n",
    "path_src = path_addSrc(parent=True, verbose=True)"
   ]
  },
  {
   "cell_type": "markdown",
   "id": "32cc9614-1716-4e2a-8403-021687023352",
   "metadata": {},
   "source": [
    "## Download data"
   ]
  },
  {
   "cell_type": "code",
   "execution_count": 2,
   "id": "2ec57823-e021-4e77-9af2-7bd3f80b9209",
   "metadata": {
    "tags": []
   },
   "outputs": [
    {
     "name": "stdout",
     "output_type": "stream",
     "text": [
      "Data folder already exists. To overwrite, add `overwrite=True` param.\n",
      "\n",
      "Data folder contents: \n",
      "\tcraters\n",
      "\tcrustal_heat_flow\n",
      "\tcrustal_thickness\n",
      "\tGRS\n",
      "\tmagnetization_depth\n",
      "\tmvn_mag\n",
      "\tREADME.txt\n"
     ]
    }
   ],
   "source": [
    "from lib.DataDownloader import DataDownloader as dd\n",
    "\n",
    "dd.download_folder(path_src=path_src, url=\"https://drive.google.com/drive/u/0/folders/1D8oWu05X83Xa8dKB1C_SUutBNvbJUt4n\", overwrite=False)"
   ]
  },
  {
   "cell_type": "markdown",
   "id": "fefd72d6-11e0-4cf3-ab4d-f5808c35f06d",
   "metadata": {},
   "source": [
    "## Import"
   ]
  },
  {
   "cell_type": "code",
   "execution_count": 3,
   "id": "379a0482-d0ee-44db-b1e6-b25464b6e9cc",
   "metadata": {
    "tags": []
   },
   "outputs": [],
   "source": [
    "import numpy as np\n",
    "# import scipy.optimize as sy\n",
    "import matplotlib.pyplot as plt\n",
    "# from numba import jit\n",
    "import math\n",
    "\n",
    "\n",
    "from lib.GRS import GRS as GRSClass\n",
    "\n",
    "GRS = GRSClass(getPath(path_src, \"data/GRS/\"))\n",
    "GRS.loadData()"
   ]
  },
  {
   "cell_type": "markdown",
   "id": "d8b10680-bfe6-4cd0-b9eb-c6f96ebda72c",
   "metadata": {},
   "source": [
    "---\n",
    "# 1. Analysis"
   ]
  },
  {
   "cell_type": "code",
   "execution_count": 4,
   "id": "ecb3b0c3-9b46-4f53-8828-a20a46465ce9",
   "metadata": {
    "tags": []
   },
   "outputs": [],
   "source": [
    "Lyot = {\n",
    "    \"lon\": 29.32,\n",
    "    \"lat\": 50.47,\n",
    "    \"formation\": 3.4e9,\n",
    "    \"diameter_km\": 220.31,\n",
    "}\n",
    "Henry = {\n",
    "    \"lon\": 23.4,\n",
    "    \"lat\": 10.8,\n",
    "    \"formation\": 3.6e9,\n",
    "    \"diameter_km\": 167.58,\n",
    "}\n",
    "Newton = {\n",
    "    \"lon\": -158.07,\n",
    "    \"lat\": -40.44,\n",
    "    \"formation\": 4.11e9,\n",
    "    \"diameter_km\": 312.43,\n",
    "}"
   ]
  },
  {
   "cell_type": "markdown",
   "id": "74c95756-dc4f-41ef-8983-2d3d3eb94983",
   "metadata": {
    "tags": []
   },
   "source": [
    "---\n",
    "### checking the new crustal thickness class!! :)"
   ]
  },
  {
   "cell_type": "code",
   "execution_count": 5,
   "id": "31990c5f-b24e-4acf-8f20-13f2a58398ec",
   "metadata": {
    "tags": []
   },
   "outputs": [
    {
     "data": {
      "text/plain": [
       "39.783"
      ]
     },
     "execution_count": 5,
     "metadata": {},
     "output_type": "execute_result"
    }
   ],
   "source": [
    "from lib.Crust import Crust as CrustClass\n",
    "\n",
    "Crust = CrustClass()\n",
    "Crust.loadData(path_src, 0.1)\n",
    "Crust.getThickness(0,0)"
   ]
  },
  {
   "cell_type": "markdown",
   "id": "bed107fb-01fe-4c49-aee4-f5df1c60958c",
   "metadata": {
    "tags": []
   },
   "source": [
    "---\n",
    "### Heat Analysis Codes"
   ]
  },
  {
   "cell_type": "code",
   "execution_count": 6,
   "id": "4fadef16-7211-4f8b-a8bb-00b9e97d1c6d",
   "metadata": {
    "tags": []
   },
   "outputs": [
    {
     "data": {
      "text/plain": [
       "[30.61676025390625]"
      ]
     },
     "execution_count": 6,
     "metadata": {},
     "output_type": "execute_result"
    }
   ],
   "source": [
    "\"\"\"\n",
    "Heat analysis codes\n",
    "\"\"\"\n",
    "\n",
    "HPE = {\n",
    "    # Constants from:\n",
    "    #     - \"Amagmantic Hydrothermal Systems on Mars from Radiogenic Heat\", by Ojha et al. 2021,\n",
    "    #     - \"Geodynamics\", by Turcotte & Schubert 2014.\n",
    "    \"U238\": {\n",
    "        \"isotopic_frac\": 0.9928, # natural abundance of this isotope relative to all isotopes of this element\n",
    "        \"heat_release_const\": 9.46e-5, # net energy per unit mass [W/kg]\n",
    "        \"half_life\": 4.47e9\n",
    "    },\n",
    "    \"U235\": {\n",
    "        \"isotopic_frac\": 0.0071,\n",
    "        \"heat_release_const\": 5.69e-4,\n",
    "        \"half_life\": 7.04e8\n",
    "    },\n",
    "    \"Th232\": {\n",
    "        \"isotopic_frac\": 1.00,\n",
    "        \"heat_release_const\": 2.64e-5,\n",
    "        \"half_life\": 1.40e10\n",
    "    },\n",
    "    \"K40\": {\n",
    "        \"isotopic_frac\": 1.191e-4,\n",
    "        \"heat_release_const\": 2.92e-5,\n",
    "        \"half_life\": 1.25e9\n",
    "    }\n",
    "}\n",
    "\n",
    "\n",
    "def calc_H(thisGRS, lon, lat, t, volatile_adjusted=True):\n",
    "    \"\"\"\n",
    "    Calculate heat production rate in lithosphere [W/kg?] at a specific coordinate/time due to decay of radiogenic heat producing elements (U238, U235, Th232, K40).\n",
    "    \n",
    "    PARAMETERS:\n",
    "        thisGRS : GRS type object\n",
    "            Contains elemental abundances from GRS orbiter.\n",
    "        lon, lat : float\n",
    "            Coordinates at which to calculate H. These are used to find GRS data.\n",
    "        time : float\n",
    "            How many years in the past to calculate H. These are used to calculate elapsed half-lives of radiogenic HPEs.\n",
    "            Ex: `t=3.4e9` would specify 3.4 billion years in the past.\n",
    "        volatile_adjusted : bool\n",
    "            Determine whether or not to normalize GRS radiogenic HPE concentrations to a volatile-free basis. See the next method \"getAdjustedConcentration\" in the GRS.py class for details.\n",
    "\n",
    "    RETURN:\n",
    "        H : float\n",
    "            Heat production rate in lithosphere [W/kg?] at a specific coordinate/time due to decay of radiogenic heat producing elements (U238, U235, Th232, K40).\n",
    "            \n",
    "    METHODOLOGIES:\n",
    "        - Hahn et al 2011: Martian surface production and crustal heat flow from Mars Odyssey Gamma-Ray spectrometry\n",
    "        - Turcotte and Schubert 2001: Geodynamics (textbook)    \n",
    "    \"\"\"\n",
    "\n",
    "    \n",
    "    thisHPE = HPE\n",
    "    \n",
    "    # get concentrations of each element (these coordinates, current day)\n",
    "    for element in thisHPE:\n",
    "        elementname = ''.join([char for char in element if not char.isdigit()]).lower()\n",
    "        if elementname == 'u':\n",
    "            concentration = thisGRS.getConcentration(lon, lat, \"th\", volatile_adjusted) / 3.8\n",
    "        else:\n",
    "            concentration = thisGRS.getConcentration(lon, lat, elementname, volatile_adjusted)\n",
    "    \n",
    "    \n",
    "        if concentration == thisGRS.getNanVal():\n",
    "            return thisGRS.getNanVal()\n",
    "        thisHPE[element][\"concentration\"] = concentration\n",
    "    \n",
    "    # calculate crustal heat production (these coordinates, `t` years ago)\n",
    "    H = 0\n",
    "    for element in thisHPE:\n",
    "        H += (\n",
    "            thisHPE[element][\"isotopic_frac\"] \n",
    "            * thisHPE[element][\"concentration\"] \n",
    "            * thisHPE[element][\"heat_release_const\"] \n",
    "            * math.exp((t * math.log(2))/(thisHPE[element][\"half_life\"]))\n",
    "        )\n",
    "    return H\n",
    "            \n",
    "    \n",
    "\n",
    "def calc_CurieDepths(thisGRS, thisCrust, lon, lat, t, q_b_mW, curie_temps, volatile_adjusted=True):\n",
    "    \"\"\"\n",
    "    Calculate curie depths [km] at a specific coordinate/time due to decay of radiogenic heat producing elements (U238, U235, Th232, K40). Assume surface temperature is 0 Celsius.\n",
    "    \n",
    "    PARAMETERS:\n",
    "        thisGRS : GRS type object\n",
    "            Contains elemental abundances from GRS orbiter.\n",
    "        lon, lat : float\n",
    "            Coordinates at which to calculate H. These are used to find GRS data.\n",
    "        time : float\n",
    "            How many years in the past to calculate H. These are used to calculate elapsed half-lives of radiogenic HPEs.\n",
    "                - Ex: `t=3.4e9` would specify 3.4 billion years in the past.\n",
    "        q_b_mW : float\n",
    "            Heat flow [mW m^-2] from the lower mantle into the base of the lithosphere. Presently varies between 1.3 and 13.5, average of 7. On ancient Mars, this could have been anything from 20 to 60.\n",
    "        curie_temps : 1D float array\n",
    "            The purpose of this function is to find the depth at which the ambient temperature [degrees Celsius!!!] reaches these temperatures.\n",
    "                - Ex: `curie_temps=(320,580,670)` would correspond to single domain pyrrhotite, single domain magnetite, and multidomain hematite respectively (Artemieva et al., 2005).\n",
    "        volatile_adjusted : bool\n",
    "            Determine whether or not to normalize GRS radiogenic HPE concentrations to a volatile-free basis. See the next method \"getAdjustedConcentration\" in the GRS.py class for details.\n",
    "\n",
    "    RETURN:\n",
    "        curie_depths : 1D float array\n",
    "            Return the depth below the surface at which temperature due to HPE decay reaches the curie points specified as input. \n",
    "            The input `curie_temps` will correspond element-wise with the output `curie_depths`, i.e. we ensure len(curie_temps) == len(curie_depths).\n",
    "            \n",
    "    METHODOLOGIES:\n",
    "        - Hahn et al 2011: Martian surface production and crustal heat flow from Mars Odyssey Gamma-Ray spectrometry\n",
    "        - Turcotte and Schubert 2001: Geodynamics (textbook)    \n",
    "    \"\"\"\n",
    "    \n",
    "    # curie_temps = (320,580,670)\n",
    "    \n",
    "    H = calc_H(thisGRS, lon, lat, t, volatile_adjusted) # heat production in crust [W kg^-1]    \n",
    "\n",
    "    if H == thisGRS.getNanVal():\n",
    "        return (GRS.getNanVal(),)*len(curie_temps)\n",
    "\n",
    "    rho = thisCrust.getDensity() # density of crust [kg m^-3]\n",
    "\n",
    "    # thickness_crust_m = 40e3 # from random map i found online -- eventually automate this!\n",
    "    thickness_crust_m = thisCrust.getThickness(lon, lat) * 1000\n",
    "    \n",
    "    \n",
    "    \n",
    "    \n",
    "    k_cr = 2.5 # thermal conductivity of crust [W m^-1 K^-1]\n",
    "    k_m = 4 # thermal conductivity of mantle [W m^-1 K^-1]\n",
    "    q_b = q_b_mW * 10**-3 # basal heat flow, parameter sweep this from 0-50\n",
    "    \n",
    "    def calc_T(depth_km):\n",
    "        \"\"\"\n",
    "        From supplemental text 3 of \"Depletion of Heat Producting Elements in the Martian Mantle\" by Ojha et al. 2019\n",
    "        \"\"\"\n",
    "        depth_m = depth_km*1000\n",
    "        if depth_m <= thickness_crust_m:\n",
    "            T = ((rho * H * depth_m)/(k_cr))*(thickness_crust_m - depth_m/2) + (q_b * depth_m)/(k_cr)\n",
    "        else:\n",
    "            left = ((rho * H * thickness_crust_m)/(k_cr))*(thickness_crust_m - thickness_crust_m/2) + (q_b * thickness_crust_m)/(k_cr)\n",
    "            right = ((rho * H * thickness_crust_m**2)/(2*k_m)) + ((q_b * thickness_crust_m)/(k_m))\n",
    "            T_0 = left-right\n",
    "\n",
    "            T = T_0 + ((rho * H * thickness_crust_m**2)/(2*k_m)) + ((q_b * depth_m)/(k_m))\n",
    "        return T\n",
    "    \n",
    "    \n",
    "    ## ensure curie_depths is iterable\n",
    "    if type(curie_temps) is not list and type(curie_temps) is not tuple:\n",
    "        curie_temps = (curie_temps,)\n",
    "    \n",
    "    \n",
    "    \n",
    "    curie_depths = []\n",
    "    error = 0.01\n",
    "    \n",
    "    for curie_temp in curie_temps:\n",
    "        depth_left = 0\n",
    "        depth_right = 500\n",
    "        depth_mid = (depth_right+depth_left)/2\n",
    "\n",
    "        temp_left = calc_T(depth_left)\n",
    "        temp_right = calc_T(depth_right)\n",
    "        temp_mid = calc_T(depth_mid)\n",
    "\n",
    "        assert temp_left < curie_temp and curie_temp < temp_right, 'erm what the fish'\n",
    "        \n",
    "        while abs( temp_mid - curie_temp ) > error:\n",
    "            if temp_mid < curie_temp:\n",
    "                depth_left = depth_mid\n",
    "                temp_left = temp_mid\n",
    "            else:\n",
    "                depth_right = depth_mid\n",
    "                temp_right = temp_mid                \n",
    "            depth_mid = (depth_right+depth_left)/2\n",
    "            temp_mid = calc_T(depth_mid)\n",
    "        \n",
    "        curie_depths.append(depth_mid)\n",
    "        \n",
    "        \n",
    "    return curie_depths\n",
    "            \n",
    "    \n",
    "# thiscrater = Lyot\n",
    "\n",
    "# # import time\n",
    "# # start_time = time.time()\n",
    "# # for i in range(360*180):\n",
    "# #     x = calc_CurieDepths(GRS, thiscrater['lon'], thiscrater['lat'], thiscrater['formation'], 15, volatile_adjusted=True)\n",
    "# # s = time.time() - start_time\n",
    "# # print(s)\n",
    "\n",
    "# import timeit\n",
    "# timeit.timeit(lambda: calc_CurieDepths(GRS, thiscrater['lon'], thiscrater['lat'], thiscrater['formation'], 15, volatile_adjusted=True), number = 10000)\n",
    "\n",
    "calc_CurieDepths(GRS, Crust, 0, 0, t=4e9, q_b_mW=30, curie_temps=(580,), volatile_adjusted=True)"
   ]
  },
  {
   "cell_type": "code",
   "execution_count": 7,
   "id": "d21bc605-2474-4cad-a0ae-d197df329064",
   "metadata": {
    "tags": []
   },
   "outputs": [
    {
     "data": {
      "text/plain": [
       "[<matplotlib.lines.Line2D at 0x26a002d6910>]"
      ]
     },
     "execution_count": 7,
     "metadata": {},
     "output_type": "execute_result"
    },
    {
     "data": {
      "image/png": "[encoded data removed]",
      "text/plain": [
       "<Figure size 640x480 with 1 Axes>"
      ]
     },
     "metadata": {},
     "output_type": "display_data"
    }
   ],
   "source": [
    "\"\"\"\n",
    "Make a temperature vs depth profile of the lithosphere for a crater\n",
    "\n",
    "(verify plotting works with this rewritten code)\n",
    "\"\"\"\n",
    "\n",
    "def calc_TempDepthProfile(thisGRS, thisCrust, lon, lat, t, depths_km, q_b_mW, volatile_adjusted=True):\n",
    "    \n",
    "\n",
    "    H = calc_H(thisGRS, lon, lat, t, volatile_adjusted) # heat production in crust [W kg^-1]    \n",
    "\n",
    "    # i address nanvals later on to make sure it's an arraylike :)\n",
    "    # if H == thisGRS.getNanVal():\n",
    "    #     return thisGRS.getNanVal()\n",
    "\n",
    "    rho = thisCrust.getDensity() # density of crust [kg m^-3]\n",
    "\n",
    "    # thickness_crust_m = 40e3 # from random map i found online -- eventually automate this!\n",
    "    thickness_crust_m = thisCrust.getThickness(lon, lat) * 1000\n",
    "    \n",
    "    \n",
    "    k_cr = 2.5 # thermal conductivity of crust [W m^-1 K^-1]\n",
    "    k_m = 4 # thermal conductivity of mantle [W m^-1 K^-1]\n",
    "    q_b = q_b_mW * 10**-3 # basal heat flow, parameter sweep this from 0-50\n",
    "    \n",
    "    \n",
    "    def calc_T(depth_km):\n",
    "        depth_m = depth_km*1000\n",
    "        if depth_m <= thickness_crust_m:\n",
    "            T = ((rho * H * depth_m)/(k_cr))*(thickness_crust_m - depth_m/2) + (q_b * depth_m)/(k_cr)\n",
    "        else:\n",
    "            left = ((rho * H * thickness_crust_m)/(k_cr))*(thickness_crust_m - thickness_crust_m/2) + (q_b * thickness_crust_m)/(k_cr)\n",
    "            right = ((rho * H * thickness_crust_m**2)/(2*k_m)) + ((q_b * thickness_crust_m)/(k_m))\n",
    "            T_0 = left-right\n",
    "\n",
    "            T = T_0 + ((rho * H * thickness_crust_m**2)/(2*k_m)) + ((q_b * depth_m)/(k_m))\n",
    "        return T\n",
    "            \n",
    "            \n",
    "    # depths_km = np.arange(0, 100, 0.1)\n",
    "    \n",
    "    if H == thisGRS.getNanVal():\n",
    "        temps_C = [thisGRS.getNanVal() for d in depths_km]\n",
    "    else:\n",
    "        temps_C = [calc_T(d) for d in depths_km]\n",
    "    \n",
    "    # vfunc_calc_T = np.vectorize(calc_T)\n",
    "    # temps_C = vfunc_calc_T(depths_m)\n",
    "        \n",
    "    return temps_C\n",
    "\n",
    "\n",
    "\n",
    "\n",
    "\n",
    "\n",
    "\n",
    "thiscrater = Henry\n",
    "\n",
    "depths_km = np.arange(0, 100, 0.1)\n",
    "temps_C = calc_TempDepthProfile(GRS, Crust, thiscrater['lon'], thiscrater['lat'], thiscrater['formation'], depths_km, 30)\n",
    "\n",
    "# test nanvals (silicon is undefined at these coords\n",
    "# depths_km, temps_C = calc_TempDepthProfile(GRS, 0, 55, thiscrater['formation'], 15)\n",
    "\n",
    "\n",
    "plt.plot(depths_km, temps_C)"
   ]
  },
  {
   "cell_type": "code",
   "execution_count": 8,
   "id": "07a3cc1f-8395-4d62-9cbd-0e4b49fbd0b8",
   "metadata": {
    "tags": []
   },
   "outputs": [
    {
     "data": {
      "text/plain": [
       "<matplotlib.colorbar.Colorbar at 0x26a03d00850>"
      ]
     },
     "execution_count": 8,
     "metadata": {},
     "output_type": "execute_result"
    },
    {
     "data": {
      "image/png": "[encoded data removed]",
      "text/plain": [
       "<Figure size 1000x700 with 2 Axes>"
      ]
     },
     "metadata": {},
     "output_type": "display_data"
    }
   ],
   "source": [
    "\"\"\"\n",
    "Plot curie depths for 580 km globally\n",
    "\"\"\"\n",
    "\n",
    "dat = []\n",
    "curie_temps = (580,)\n",
    "\n",
    "for lat in np.arange(-90,90,2):\n",
    "    newline = []\n",
    "    for lon in np.arange(-180,180,2):\n",
    "        x = calc_CurieDepths(GRS, Crust, lon, lat, t=4e9, q_b_mW=30, curie_temps=curie_temps, volatile_adjusted=True)\n",
    "        newline.append(x)\n",
    "    dat.append(newline)\n",
    "\n",
    "# plt.imshow(test[::-1], cmap=\"jet\")\n",
    "# plt.colorbar()\n",
    "dat = np.asarray(dat)\n",
    "dat = np.ma.masked_where((dat == GRS.getNanVal()), dat)\n",
    "\n",
    "fig = plt.figure(figsize=(10,7))\n",
    "ax = plt.axes()\n",
    "im = ax.imshow(dat[::-1], cmap=\"jet\")\n",
    "\n",
    "cax = fig.add_axes([ax.get_position().x1+0.02,ax.get_position().y0,0.02,ax.get_position().height])\n",
    "plt.colorbar(im, cax=cax)"
   ]
  },
  {
   "cell_type": "code",
   "execution_count": 13,
   "id": "c309b18a-c6e5-4398-a754-b733fcb37cf0",
   "metadata": {
    "tags": []
   },
   "outputs": [
    {
     "data": {
      "text/plain": [
       "<matplotlib.colorbar.Colorbar at 0x26a06455590>"
      ]
     },
     "execution_count": 13,
     "metadata": {},
     "output_type": "execute_result"
    },
    {
     "data": {
      "image/png": "[encoded data removed]",
      "text/plain": [
       "<Figure size 1000x700 with 2 Axes>"
      ]
     },
     "metadata": {},
     "output_type": "display_data"
    }
   ],
   "source": [
    "\"\"\"\n",
    "Plot curie depths for 580 km henry\n",
    "\"\"\"\n",
    "\n",
    "dat = []\n",
    "curie_temps = (580,)\n",
    "\n",
    "for lat in np.arange(6.65,14.5,0.1):\n",
    "    newline = []\n",
    "    for lon in np.arange(20,27.3,0.1):\n",
    "        x = calc_CurieDepths(GRS, Crust, lon, lat, t=3.6e9, q_b_mW=30, curie_temps=curie_temps, volatile_adjusted=True)\n",
    "        newline.append(x)\n",
    "    dat.append(newline)\n",
    "\n",
    "# plt.imshow(test[::-1], cmap=\"jet\")\n",
    "# plt.colorbar()\n",
    "dat = np.asarray(dat)\n",
    "dat = np.ma.masked_where((dat == GRS.getNanVal()), dat)\n",
    "\n",
    "fig = plt.figure(figsize=(10,7))\n",
    "ax = plt.axes()\n",
    "im = ax.imshow(dat[::-1], cmap=\"jet\")\n",
    "    \n",
    "cax = fig.add_axes([ax.get_position().x1+0.02,ax.get_position().y0,0.02,ax.get_position().height])\n",
    "plt.colorbar(im, cax=cax)"
   ]
  },
  {
   "cell_type": "markdown",
   "id": "fe55f55e-2db8-44f6-a7f8-30ce0ab6123f",
   "metadata": {},
   "source": [
    "---\n",
    "### henry meta crater yipe"
   ]
  },
  {
   "cell_type": "code",
   "execution_count": 10,
   "id": "327a65ef-f301-434b-a4ae-5efc5e958a45",
   "metadata": {
    "tags": []
   },
   "outputs": [],
   "source": [
    "def calc_P(diameter_km, r_km, z_km):\n",
    "    \n",
    "    ## unit conversions\n",
    "    diameter_m = diameter_km * 1000\n",
    "    r_m = r_km * 1000 # horizontal distance from impact site\n",
    "    z_m = z_km * 1000 # depth from floor of crater (?)\n",
    "    \n",
    "    \n",
    "    ## start complicated math shit -- NOTE THAT EVERYTHING IS IN SI, I.E. METERS NOT KILOMETERS!!!\n",
    "    \n",
    "    diam_obs = diameter_m # observed crater diameter\n",
    "    diam_star = 7 * 1000 # transition diameter from simple to complex crater, assumed 7km for mars\n",
    "    diam_trans = 0.7576 * (diam_obs ** 0.921) * (diam_star ** 0.079)\n",
    "    # print(diam_trans / 1000)\n",
    "    \n",
    "    v_proj = 10 * 1000 # impact velocity, varies from 8-12 km/s, assumed 10 km/s\n",
    "    g = 3.721 # surface gravity\n",
    "    E = ((diam_trans * v_proj**0.09 * g**0.22)/(0.2212)) ** (1/0.26) # energy of impactor\n",
    "    \n",
    "    rho = 2900 # density of impactor, assumed 2900 kg/m^3 for basaltic\n",
    "    r_proj = ((3 * E)/(2 * math.pi * rho * v_proj**2))**(1/3) # radius of impactor, assumed to be spherical basaltic projectile\n",
    "    \n",
    "    R_0 = 0.75 * r_proj # radius of isobaric core, ~70% of projectile radius\n",
    "    \n",
    "    C_basalt = 3.5 * 1000 # bulk speed of sound in material, assumed 3.5 km/s for kinosaki basalt\n",
    "    S_basalt = 1.5 # shock parameter of material, assumed 1.5 for kinosaki basalt\n",
    "    \n",
    "    P_0 = 0.25 * rho * v_proj * (2*C_basalt + S_basalt*v_proj) # isobaric pressure (within isobaric core)\n",
    "    \n",
    "    R_direct = math.sqrt( (z_m - R_0)**2 + r_m**2 ) # distance travelled by direct pressure waves\n",
    "    R_reflect = math.sqrt( (z_m + R_0)**2 + r_m**2 ) # distance travelled by reflected pressure waves\n",
    "    \n",
    "    tau = (R_reflect - R_direct) / C_basalt # time delay between arrival of initial and reflected pressure waves\n",
    "    tau_rise = r_proj / v_proj # time rise (?)\n",
    "    \n",
    "    def naive_P(this_r):\n",
    "        if (this_r <= R_0):\n",
    "            P = P_0\n",
    "        else:        \n",
    "            n = 1.87 # exponential decay constant, assumed invariant with distance from impact\n",
    "            # P = P_0 * ((this_r / R_0) ** -n) # for some reason this blows up ????? so i use the shahnas equation instead lol\n",
    "            P = rho * (0.5*v_proj) * (C_basalt + S_basalt * (0.5*v_proj) * (R_0/this_r)**n ) * (R_0/this_r)**n\n",
    "        return P\n",
    "    \n",
    "    if (tau > tau_rise):\n",
    "        P_eff = naive_P(R_direct)\n",
    "    else: # reduced peak pressure due to interference of waves\n",
    "        P_eff = naive_P(R_direct) - naive_P(R_reflect) * (1 - (tau / tau_rise)) \n",
    "        \n",
    "    P_eff = P_eff * 1e-9 # adjust to units of gigapascals\n",
    "\n",
    "    return P_eff\n",
    "\n",
    "\n",
    "\n",
    "###################################\n",
    "# # calc_P(henry[\"diameter_km\"], 10, 10)\n",
    "\n",
    "# pressures = []\n",
    "# for depth in range(71):\n",
    "#     newline = []\n",
    "#     for distance in range(71):\n",
    "#         newline.append(calc_P(thiscrater[\"diameter_km\"], distance, depth))\n",
    "#     pressures.append(newline)\n",
    "\n",
    "        \n",
    "# fig1 = plt.figure(figsize=(7,5))\n",
    "# ax1 = plt.axes()\n",
    "# im1 = ax1.imshow(pressures, cmap=\"jet\")\n",
    "# cax1 = fig1.add_axes([ax1.get_position().x1+0.02,ax1.get_position().y0,0.02,ax1.get_position().height])\n",
    "# cbar1 = plt.colorbar(im1, cax=cax1)\n",
    "\n",
    "# ax1.set_title(\"Shockwave Pressures at Lyot Impact\\n\")\n",
    "# # plt.text(x=0.45, y=0.95, s=\"Shockwave Pressures at Newton Impact\", fontsize=14, ha=\"center\", transform=fig.transFigure)\n",
    "# # plt.text(x=0.45, y=0.90, s= \"Coordinates = (-158.07, -40.44); Diam = 312.43 km; Age = 4.11 Ga\", fontsize=10, color='grey', ha=\"center\", transform=fig.transFigure)\n",
    "# # plt.subplots_adjust(top=0.85, wspace=0.3)\n",
    "# ax1.set_xlabel(\"Radius (km)\")\n",
    "# ax1.set_ylabel(\"Depth (km)\")\n",
    "# cbar1.set_label(r'Pressure (GPa)', y=0.7)\n",
    "\n",
    "\n",
    "# threshold = 2\n",
    "# demag = [[1 if point > threshold else 0 for point in line] for line in pressures]\n",
    "\n",
    "\n",
    "# fig2 = plt.figure(figsize=(7,5))\n",
    "# ax2 = plt.axes()\n",
    "# im2 = ax2.imshow(demag, cmap=\"jet\")\n",
    "# cax2 = fig2.add_axes([ax2.get_position().x1+0.02,ax2.get_position().y0,0.02,ax2.get_position().height])\n",
    "# plt.colorbar(im2, cax=cax2)\n",
    "\n",
    "# ax2.set_title(\"Shock Demagnetization Extent at Lyot Impact\\n\")\n",
    "# # plt.text(x=0.45, y=0.95, s=\"Shock Demagnetization Extent at Newton Impact\", fontsize=14, ha=\"center\", transform=fig.transFigure)\n",
    "# # plt.text(x=0.45, y=0.90, s= \"Coordinates = (-158.07, -40.44); Diam = 312.43 km; Age = 4.11 Ga\", fontsize=10, color='grey', ha=\"center\", transform=fig.transFigure)\n",
    "# ax2.set_xlabel(\"Radius (km)\")\n",
    "# ax2.set_ylabel(\"Depth (km)\")\n",
    "\n",
    "\n",
    "\n",
    "\n",
    "\n",
    "# # print(calc_P(henry[\"diameter_km\"], 30, 30))"
   ]
  },
  {
   "cell_type": "code",
   "execution_count": 19,
   "id": "5727f059-953e-421f-9a67-2d73b42ebbec",
   "metadata": {
    "tags": []
   },
   "outputs": [
    {
     "data": {
      "image/png": "[encoded data removed]",
      "text/plain": [
       "<Figure size 1500x1200 with 3 Axes>"
      ]
     },
     "metadata": {},
     "output_type": "display_data"
    }
   ],
   "source": [
    "thicrater = Henry\n",
    "\n",
    "depths_km = np.arange(0, 80, 1)\n",
    "radii_km = np.arange(thiscrater['diameter_km'] * (-1/2), thiscrater['diameter_km'] * (1/2), 1)\n",
    "\n",
    "\n",
    "temps_C = calc_TempDepthProfile(GRS, Crust, thiscrater['lon'], thiscrater['lat'], thiscrater['formation'], depths_km, 30)\n",
    "\n",
    "\n",
    "\n",
    "Pdat = []\n",
    "Tdat = []\n",
    "for i, depth in enumerate(depths_km):\n",
    "    Pline = []\n",
    "    Tline = []\n",
    "    for j, radius in enumerate(radii_km):\n",
    "        Pline.append(calc_P(thiscrater[\"diameter_km\"], radius, depth))\n",
    "        Tline.append(temps_C[i])\n",
    "    Pdat.append(Pline)\n",
    "    Tdat.append(Tline)\n",
    "\n",
    "fig, axs = plt.subplots(nrows=2,figsize=(15,12))\n",
    "\n",
    "ax = axs[1]\n",
    "\n",
    "# labels = [1.24, 2, 4.5, 15]\n",
    "# locs = [(55,55),(65,38),(70,30),(75,20)]\n",
    "labels = [1.24, 2, 4.5, 15]\n",
    "locs = [(82,60),(82,42),(82,30),(82,20)]\n",
    "Pcont = ax.contour(Pdat, labels, linestyles='dashed', colors='k')\n",
    "tab = ax.clabel(Pcont, Pcont.levels, inline=True, fontsize=12, manual=locs, fmt='%.2f GPa')\n",
    "for t in tab:\n",
    "    # t.set_rotation(-25)\n",
    "    t.set_rotation(0)\n",
    "\n",
    "\n",
    "Tim = ax.imshow(Tdat, cmap='OrRd')\n",
    "cax = fig.add_axes([ax.get_position().x1+0.02,ax.get_position().y0,0.02,ax.get_position().height])\n",
    "cbar = plt.colorbar(Tim, cax=cax)\n",
    "# cbar.ax.invert_yaxis()\n",
    "\n",
    "\n",
    "# ax.axhline(y=44, linestyle='dotted', color='k')\n",
    "# ax.text(135,42,'Curie $= 580 \\degree C$',fontsize=12)\n",
    "ax.axhline(y=30,linestyle='dotted', color='k')\n",
    "ax.text(140,28,'$T_{\\t{Curie}}= 580 \\degree C$',fontsize=12)\n",
    "\n",
    "# ax.set_xticks(radii_km)\n",
    "t1 = ax.get_xticks()\n",
    "t1 += 3\n",
    "t2 = np.linspace(-100,100,t1.shape[0])\n",
    "ax.set_xticks(t1[1:-1], t2[1:-1])\n",
    "plt.show()\n",
    "\n",
    "\n",
    "\n",
    "#################\n",
    "\n",
    "ax2 = axs[0]\n",
    "\n"
   ]
  },
  {
   "cell_type": "code",
   "execution_count": 12,
   "id": "bde70066-2dab-47d2-b0c7-a3b89191f9c4",
   "metadata": {
    "tags": []
   },
   "outputs": [
    {
     "ename": "ValueError",
     "evalue": "math domain error",
     "output_type": "error",
     "traceback": [
      "\u001b[1;31m---------------------------------------------------------------------------\u001b[0m",
      "\u001b[1;31mValueError\u001b[0m                                Traceback (most recent call last)",
      "Cell \u001b[1;32mIn[12], line 17\u001b[0m\n\u001b[0;32m     15\u001b[0m Tline \u001b[38;5;241m=\u001b[39m []\n\u001b[0;32m     16\u001b[0m \u001b[38;5;28;01mfor\u001b[39;00m j, radius \u001b[38;5;129;01min\u001b[39;00m \u001b[38;5;28menumerate\u001b[39m(radii_km):\n\u001b[1;32m---> 17\u001b[0m     Pline\u001b[38;5;241m.\u001b[39mappend(\u001b[43mcalc_P\u001b[49m\u001b[43m(\u001b[49m\u001b[43mthiscrater\u001b[49m\u001b[43m[\u001b[49m\u001b[38;5;124;43m\"\u001b[39;49m\u001b[38;5;124;43mdiameter_km\u001b[39;49m\u001b[38;5;124;43m\"\u001b[39;49m\u001b[43m]\u001b[49m\u001b[43m,\u001b[49m\u001b[43m \u001b[49m\u001b[43mradius\u001b[49m\u001b[43m,\u001b[49m\u001b[43m \u001b[49m\u001b[43mdepth\u001b[49m\u001b[43m)\u001b[49m)\n\u001b[0;32m     18\u001b[0m     Tline\u001b[38;5;241m.\u001b[39mappend(temps_C[i])\n\u001b[0;32m     19\u001b[0m Pdat\u001b[38;5;241m.\u001b[39mappend(Pline)\n",
      "Cell \u001b[1;32mIn[10], line 30\u001b[0m, in \u001b[0;36mcalc_P\u001b[1;34m(diameter_km, r_km, z_km)\u001b[0m\n\u001b[0;32m     26\u001b[0m S_basalt \u001b[38;5;241m=\u001b[39m \u001b[38;5;241m1.5\u001b[39m \u001b[38;5;66;03m# shock parameter of material, assumed 1.5 for kinosaki basalt\u001b[39;00m\n\u001b[0;32m     28\u001b[0m P_0 \u001b[38;5;241m=\u001b[39m \u001b[38;5;241m0.25\u001b[39m \u001b[38;5;241m*\u001b[39m rho \u001b[38;5;241m*\u001b[39m v_proj \u001b[38;5;241m*\u001b[39m (\u001b[38;5;241m2\u001b[39m\u001b[38;5;241m*\u001b[39mC_basalt \u001b[38;5;241m+\u001b[39m S_basalt\u001b[38;5;241m*\u001b[39mv_proj) \u001b[38;5;66;03m# isobaric pressure (within isobaric core)\u001b[39;00m\n\u001b[1;32m---> 30\u001b[0m R_direct \u001b[38;5;241m=\u001b[39m math\u001b[38;5;241m.\u001b[39msqrt( (z_m \u001b[38;5;241m-\u001b[39m R_0)\u001b[38;5;241m*\u001b[39m\u001b[38;5;241m*\u001b[39m\u001b[38;5;241m2\u001b[39m \u001b[38;5;241m+\u001b[39m r_m\u001b[38;5;241m*\u001b[39m\u001b[38;5;241m*\u001b[39m\u001b[38;5;241m2\u001b[39m ) \u001b[38;5;66;03m# distance travelled by direct pressure waves\u001b[39;00m\n\u001b[0;32m     31\u001b[0m R_reflect \u001b[38;5;241m=\u001b[39m math\u001b[38;5;241m.\u001b[39msqrt( (z_m \u001b[38;5;241m+\u001b[39m R_0)\u001b[38;5;241m*\u001b[39m\u001b[38;5;241m*\u001b[39m\u001b[38;5;241m2\u001b[39m \u001b[38;5;241m+\u001b[39m r_m\u001b[38;5;241m*\u001b[39m\u001b[38;5;241m*\u001b[39m\u001b[38;5;241m2\u001b[39m ) \u001b[38;5;66;03m# distance travelled by reflected pressure waves\u001b[39;00m\n\u001b[0;32m     33\u001b[0m tau \u001b[38;5;241m=\u001b[39m (R_reflect \u001b[38;5;241m-\u001b[39m R_direct) \u001b[38;5;241m/\u001b[39m C_basalt \u001b[38;5;66;03m# time delay between arrival of initial and reflected pressure waves\u001b[39;00m\n",
      "\u001b[1;31mValueError\u001b[0m: math domain error"
     ]
    }
   ],
   "source": [
    "thicrater = Henry\n",
    "\n",
    "depths_km = np.arange(0, 80, 1)\n",
    "radii_km = np.arange(-120,120,1)\n",
    "\n",
    "\n",
    "temps_C = calc_TempDepthProfile(GRS, Crust, thiscrater['lon'], thiscrater['lat'], thiscrater['formation'], depths_km, 30)\n",
    "\n",
    "\n",
    "\n",
    "Pdat = []\n",
    "Tdat = []\n",
    "for i, depth in enumerate(depths_km):\n",
    "    Pline = []\n",
    "    Tline = []\n",
    "    for j, radius in enumerate(radii_km):\n",
    "        Pline.append(calc_P(thiscrater[\"diameter_km\"], radius, depth))\n",
    "        Tline.append(temps_C[i])\n",
    "    Pdat.append(Pline)\n",
    "    Tdat.append(Tline)\n",
    "\n",
    "fig, ax = plt.subplots(figsize=(10,7))\n",
    "\n",
    "\n",
    "labels = [1.24, 2, 4.5, 15]\n",
    "locs = [(82,60),(82,42),(82,30),(82,20)]\n",
    "Pcont = ax.contour(Pdat, labels, linestyles='dashed', colors='k')\n",
    "tab = ax.clabel(Pcont, Pcont.levels, inline=True, fontsize=12, manual=locs, fmt='%.2f GPa')\n",
    "for t in tab:\n",
    "    t.set_rotation(0)\n",
    "\n",
    "\n",
    "Tim = ax.imshow(Tdat, cmap='OrRd')\n",
    "cax = fig.add_axes([ax.get_position().x1+0.02,ax.get_position().y0,0.02,ax.get_position().height])\n",
    "cbar = plt.colorbar(Tim, cax=cax)\n",
    "cbar.ax.invert_yaxis()\n",
    "\n",
    "\n",
    "ax.axhline(y=42,linestyle='dotted', color='k')\n",
    "ax.text(135,40,'$T_{\\t{curie}}= 580 \\degree C$',fontsize=12)\n",
    "\n",
    "\n",
    "ax.set_ylabel('Depth from surface (km)')\n",
    "ax.set_xlabel('Observed Magnetic Field')\n",
    "cbar.set_label('Temperature (C)',y=0.5)\n",
    "\n",
    "# # ax.set_xticks(radii_km)\n",
    "t1 = ax.get_xticks()\n",
    "t2 = t1 - 120\n",
    "# t2 = np.linspace(-100,100,t1.shape[0])\n",
    "ax.set_xticks(t1[1:-1],t2[1:-1])\n",
    "# plt.show()"
   ]
  },
  {
   "cell_type": "code",
   "execution_count": null,
   "id": "60224eca-dc63-4640-86b1-650885336511",
   "metadata": {},
   "outputs": [],
   "source": [
    "# plt.imshow(Tdat, cmap='Reds')\n",
    "# plt.imshow(Tdat, cmap='autumn_r')\n",
    "# plt.contour(Pdat, [0.5,1,1.5,2,2.5,5,10,50,100], linestyles='dotted')\n",
    "    \n",
    "        \n",
    "# fig1 = plt.figure(figsize=(7,5))\n",
    "# ax1 = plt.axes()\n",
    "# im1 = ax1.imshow(pressures, cmap=\"jet\")\n",
    "# cax1 = fig1.add_axes([ax1.get_position().x1+0.02,ax1.get_position().y0,0.02,ax1.get_position().height])\n",
    "# cbar1 = plt.colorbar(im1, cax=cax1)\n",
    "\n",
    "# ax1.set_title(\"Shockwave Pressures at Lyot Impact\\n\")\n",
    "# ax1.set_xlabel(\"Radius (km)\")\n",
    "# ax1.set_ylabel(\"Depth (km)\")\n",
    "# cbar1.set_label(r'Pressure (GPa)', y=0.7)\n",
    "\n",
    "\n",
    "# threshold = 2\n",
    "# demag = [[1 if point > threshold else 0 for point in line] for line in pressures]\n",
    "\n",
    "\n",
    "# fig2 = plt.figure(figsize=(7,5))\n",
    "# ax2 = plt.axes()\n",
    "# im2 = ax2.imshow(demag, cmap=\"jet\")\n",
    "# cax2 = fig2.add_axes([ax2.get_position().x1+0.02,ax2.get_position().y0,0.02,ax2.get_position().height])\n",
    "# plt.colorbar(im2, cax=cax2)\n",
    "\n",
    "# ax2.set_title(\"Shock Demagnetization Extent at Lyot Impact\\n\")\n",
    "# # plt.text(x=0.45, y=0.95, s=\"Shock Demagnetization Extent at Newton Impact\", fontsize=14, ha=\"center\", transform=fig.transFigure)\n",
    "# # plt.text(x=0.45, y=0.90, s= \"Coordinates = (-158.07, -40.44); Diam = 312.43 km; Age = 4.11 Ga\", fontsize=10, color='grey', ha=\"center\", transform=fig.transFigure)\n",
    "# ax2.set_xlabel(\"Radius (km)\")\n",
    "# ax2.set_ylabel(\"Depth (km)\")"
   ]
  },
  {
   "cell_type": "markdown",
   "id": "d67389bd-84c0-464e-b6b8-007127d862c5",
   "metadata": {},
   "source": [
    "---\n",
    "### plotting maven tracks"
   ]
  },
  {
   "cell_type": "code",
   "execution_count": null,
   "id": "29aacbf5-e885-4251-ad71-76dc17886d45",
   "metadata": {
    "tags": []
   },
   "outputs": [],
   "source": [
    "# format:\n",
    "# dat.X; dat.Y; dat.Blon; dat.Bcola; dat.Br; dat.Bmag; dat.Bmag_norm\n",
    "fn = getPath(path_src,'data','mvn_mag','mvn_henry.dat')\n",
    "dat = np.loadtxt(fn, delimiter=',')\n",
    "\n",
    "jumps = [0]\n",
    "for i in range(dat.shape[0]-1):\n",
    "    if abs(dat[i,1]-dat[i+1,1]) > 0.1:\n",
    "        jumps.append(i+1)"
   ]
  },
  {
   "cell_type": "code",
   "execution_count": null,
   "id": "cf0f5be7-2a0f-4440-bfd1-74d5be13d0d5",
   "metadata": {
    "tags": []
   },
   "outputs": [],
   "source": [
    "tracks = []\n",
    "for i in range(len(jumps)-1):\n",
    "    track = dat[jumps[i]:jumps[i+1]]\n",
    "    \n",
    "    # lat check\n",
    "    inlat = np.any(10 < track[:,1]) and np.any(track[:,1] < 12.1)\n",
    "    inlon = np.any(23.7 < track[:,0]) and np.any(track[:,0] < 24.6)\n",
    "    \n",
    "    if inlat and inlon:\n",
    "        tracks.append(track)\n",
    "        \n",
    "print(len(tracks))"
   ]
  },
  {
   "cell_type": "code",
   "execution_count": null,
   "id": "5e3bad98-6626-4a71-9b99-ad5344e77069",
   "metadata": {
    "tags": []
   },
   "outputs": [],
   "source": [
    "i=5\n",
    "plt.plot(tracks[i][:,1], tracks[i][:,4])\n",
    "\n",
    "bmag = tracks[2]\n",
    "br = tracks[5]"
   ]
  },
  {
   "cell_type": "code",
   "execution_count": null,
   "id": "3ac3f47a-75d3-4e0b-a3cb-faead5d0d647",
   "metadata": {},
   "outputs": [],
   "source": []
  },
  {
   "cell_type": "code",
   "execution_count": null,
   "id": "906c67b3-5d7e-4bd4-8215-2aa76c4f60d6",
   "metadata": {},
   "outputs": [],
   "source": []
  },
  {
   "cell_type": "code",
   "execution_count": null,
   "id": "e295b560-01e2-4b85-b90c-5023b3d6ac09",
   "metadata": {},
   "outputs": [],
   "source": []
  },
  {
   "cell_type": "code",
   "execution_count": null,
   "id": "51060375-de2a-4be3-90d3-7dcff1d32df2",
   "metadata": {
    "tags": []
   },
   "outputs": [],
   "source": [
    "fig,ax = plt.subplots(figsize=(30,30))\n",
    "arr = (bmag[:,6][::50],)*10\n",
    "arrim = plt.imshow(arr,cmap='jet')\n",
    "\n",
    "\n",
    "\n",
    "# Tim = ax.imshow(Tdat, cmap='OrRd')\n",
    "cax = fig.add_axes([ax.get_position().x1+0.02,ax.get_position().y0,0.02,ax.get_position().height])\n",
    "cbar = plt.colorbar(arrim, cax=cax)"
   ]
  },
  {
   "cell_type": "code",
   "execution_count": null,
   "id": "42336464-9e45-4a27-82e4-e299f77252e3",
   "metadata": {
    "tags": []
   },
   "outputs": [],
   "source": [
    "fig,ax = plt.subplots(figsize=(10,7))\n",
    "arr = (bmag[:,6][::10],)*50\n",
    "arrim = plt.imshow(arr,cmap='jet')\n",
    "\n",
    "\n",
    "# Tim = ax.imshow(Tdat, cmap='OrRd')\n",
    "# cax = fig.add_axes([ax.get_position().x1+0.02,ax.get_position().y0,0.02,ax.get_position().height])\n",
    "# cbar = plt.colorbar(arrim, cax=cax)"
   ]
  },
  {
   "cell_type": "code",
   "execution_count": null,
   "id": "e59b9bf6-c55b-45e4-86b5-27d7516e3394",
   "metadata": {},
   "outputs": [],
   "source": []
  },
  {
   "cell_type": "code",
   "execution_count": null,
   "id": "92c0aa91-142f-40ca-8a61-cceb03f145b1",
   "metadata": {},
   "outputs": [],
   "source": []
  },
  {
   "cell_type": "code",
   "execution_count": null,
   "id": "e46a7acf-634f-4d71-a01b-25be65e90624",
   "metadata": {},
   "outputs": [],
   "source": []
  },
  {
   "cell_type": "code",
   "execution_count": null,
   "id": "75a90651-5b5a-4a87-82d3-b43102e1ccbd",
   "metadata": {},
   "outputs": [],
   "source": []
  },
  {
   "cell_type": "code",
   "execution_count": null,
   "id": "bafb983d-3103-4277-81de-0b700f22bdc7",
   "metadata": {
    "tags": []
   },
   "outputs": [],
   "source": [
    "fig,ax = plt.subplots(figsize=(30,30))\n",
    "arr = (br[:,4][::50],)*10\n",
    "arrim = plt.imshow(arr,cmap='jet')\n",
    "\n",
    "\n",
    "\n",
    "# Tim = ax.imshow(Tdat, cmap='OrRd')\n",
    "cax = fig.add_axes([ax.get_position().x1+0.02,ax.get_position().y0,0.02,ax.get_position().height])\n",
    "cbar = plt.colorbar(arrim, cax=cax)"
   ]
  },
  {
   "cell_type": "code",
   "execution_count": null,
   "id": "7fb75feb-1b07-401f-b858-1106f205aff3",
   "metadata": {
    "tags": []
   },
   "outputs": [],
   "source": [
    "fig,ax = plt.subplots(figsize=(10,7))\n",
    "arr = (br[:,4][::10],)*50\n",
    "arrim = plt.imshow(arr,cmap='jet')\n",
    "\n",
    "\n",
    "# Tim = ax.imshow(Tdat, cmap='OrRd')\n",
    "# cax = fig.add_axes([ax.get_position().x1+0.02,ax.get_position().y0,0.02,ax.get_position().height])\n",
    "# cbar = plt.colorbar(arrim, cax=cax)"
   ]
  },
  {
   "cell_type": "code",
   "execution_count": null,
   "id": "51ba23e4-d1ac-4baf-a285-c3d42834547b",
   "metadata": {},
   "outputs": [],
   "source": []
  },
  {
   "cell_type": "code",
   "execution_count": null,
   "id": "97b069a1-be2f-49af-8bf1-a65eee8824ad",
   "metadata": {},
   "outputs": [],
   "source": []
  },
  {
   "cell_type": "code",
   "execution_count": null,
   "id": "aade62f3-ab21-41e8-80a9-ac89cbaf32ba",
   "metadata": {},
   "outputs": [],
   "source": []
  },
  {
   "cell_type": "code",
   "execution_count": null,
   "id": "995fbd86-3e57-4c81-939b-01dba86f5dfd",
   "metadata": {},
   "outputs": [],
   "source": []
  },
  {
   "cell_type": "code",
   "execution_count": null,
   "id": "50189d29-6644-473d-b70e-ff463b91b1b1",
   "metadata": {},
   "outputs": [],
   "source": []
  },
  {
   "cell_type": "code",
   "execution_count": null,
   "id": "cc6c04f8-6a07-4bee-a03b-6ee55e9952f2",
   "metadata": {},
   "outputs": [],
   "source": [
    "fig,ax = plt.subplots(figsize=(30,30))\n",
    "arr = (bmag[:,1][::10],)*100\n",
    "arrim = plt.imshow(arr,cmap='jet')\n",
    "\n",
    "\n",
    "# Tim = ax.imshow(Tdat, cmap='OrRd')\n",
    "cax = fig.add_axes([ax.get_position().x1+0.02,ax.get_position().y0,0.02,ax.get_position().height])\n",
    "cbar = plt.colorbar(arrim, cax=cax)"
   ]
  },
  {
   "cell_type": "code",
   "execution_count": null,
   "id": "1417f122-73ba-4505-8d6c-4dffed236cee",
   "metadata": {
    "tags": []
   },
   "outputs": [],
   "source": [
    "def diameter2angular(diameter):\n",
    "    \"\"\"\n",
    "    Converts a crater's diameter from kilometers to degrees. \n",
    "\n",
    "    This equation is obtained by looking at many craters on JMars and\n",
    "    roughly measuring the angular separation between the left and right\n",
    "    edges. We then plot this against diameter in km (accessed from\n",
    "    generate_crater_locations.m) and then finding the line of best fit,\n",
    "    which is linear. Rough calculations here:\n",
    "        https://docs.google.com/spreadsheets/d/1Ylr_Oowq_jV1KNXEGuSvXbWNbPZNGUQF1jjv2eTC7Jg/edit?usp=sharing\n",
    "    \"\"\"\n",
    "    theta = 0.0186*diameter - 0.122\n",
    "    return theta\n",
    "def angular2diameter(theta):\n",
    "    diameter = (theta+0.122)/0.0186\n",
    "    return diameter"
   ]
  }
 ],
 "metadata": {
  "kernelspec": {
   "display_name": "Python 3 (ipykernel)",
   "language": "python",
   "name": "python3"
  },
  "language_info": {
   "codemirror_mode": {
    "name": "ipython",
    "version": 3
   },
   "file_extension": ".py",
   "mimetype": "text/x-python",
   "name": "python",
   "nbconvert_exporter": "python",
   "pygments_lexer": "ipython3",
   "version": "3.11.3"
  }
 },
 "nbformat": 4,
 "nbformat_minor": 5
}
