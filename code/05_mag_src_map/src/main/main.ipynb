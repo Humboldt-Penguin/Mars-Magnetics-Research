{
 "cells": [
  {
   "cell_type": "markdown",
   "id": "dcb17212-8ec5-4f88-acd9-9a8f05be03b9",
   "metadata": {},
   "source": [
    "TODO:\n",
    "* ~~move GRS stuff to its own class~~\n",
    "  * ~~double check i'm getting concentrations at the right coordinates~~\n",
    "  * ~~double check volatile normalization~~\n",
    "  * ~~double check plotting~~\n",
    "* ~~data downloader~~\n",
    "* come up with a crater class"
   ]
  },
  {
   "cell_type": "markdown",
   "id": "f7dfec5a-08a4-4b20-b42d-ca1474db0f96",
   "metadata": {
    "tags": []
   },
   "source": [
    "---\n",
    "# 0. Setup"
   ]
  },
  {
   "cell_type": "markdown",
   "id": "cda36e89-8451-47bb-b13a-178ca2f2349a",
   "metadata": {},
   "source": [
    "## Add path to source"
   ]
  },
  {
   "cell_type": "code",
   "execution_count": 1,
   "id": "a22f0293-5fc5-48ce-a60d-64ee86cce285",
   "metadata": {
    "tags": []
   },
   "outputs": [],
   "source": [
    "## This is OD way to deal with paths\n",
    "\n",
    "def joinPath(args):\n",
    "    import os\n",
    "    args = [os.getcwd() if arg == 'current' else arg]\n",
    "    return os.path.abspath(os.path.join(*args))\n",
    "\n",
    "    \n",
    "def path_addSrc(fullpath_src = None, relpath_src = None, parent = False, verbose = False):\n",
    "    \"\"\"\n",
    "    Add directory \"src/\" to path.\n",
    "        \n",
    "    PARAMETERS:\n",
    "        fullpath_src : string\n",
    "            Path to source from root.\n",
    "        relpath_src : string\n",
    "            Path to source from directory of current file.\n",
    "        parent : boolean\n",
    "            Use parent folder as source\n",
    "        verbose : boolean\n",
    "            Prints source directory path.\n",
    "    \n",
    "    RETURN:\n",
    "        path_src : string\n",
    "            Path to source from root.\n",
    "    \"\"\"\n",
    "    \n",
    "    import sys\n",
    "    import os\n",
    "\n",
    "    if fullpath_src:\n",
    "        path_src = os.path.abspath(fullpath_src)\n",
    "    elif relpath_src:\n",
    "        path_src = os.path.abspath(os.path.join(os.getcwd(), relpath_src))\n",
    "    elif parent:\n",
    "        path_src = os.path.abspath(os.path.join(os.getcwd(), os.pardir))\n",
    "        \n",
    "    if verbose: print(\"Path to source: \" + path_src)\n",
    "    \n",
    "    sys.path.append(path_src)\n",
    "    return path_src"
   ]
  },
  {
   "cell_type": "code",
   "execution_count": 2,
   "id": "35313b37-e222-47c1-94d9-f3a00bae5830",
   "metadata": {
    "tags": []
   },
   "outputs": [
    {
     "name": "stdout",
     "output_type": "stream",
     "text": [
      "Path to source: /home/lain/sync/01_Research/Mars_Magnetics/code/05_mag_src_map/src\n"
     ]
    }
   ],
   "source": [
    "path_src = path_addSrc(parent=True, verbose=True)"
   ]
  },
  {
   "cell_type": "markdown",
   "id": "32cc9614-1716-4e2a-8403-021687023352",
   "metadata": {},
   "source": [
    "## Download data"
   ]
  },
  {
   "cell_type": "code",
   "execution_count": 3,
   "id": "2ec57823-e021-4e77-9af2-7bd3f80b9209",
   "metadata": {
    "tags": []
   },
   "outputs": [
    {
     "name": "stdout",
     "output_type": "stream",
     "text": [
      "Data folder already exists. To overwrite, add `overwrite=True` param.\n",
      "\n",
      "Data folder contents: \n",
      "\tREADME.txt\n",
      "\tcraters\n",
      "\tGRS\n",
      "\tcrustal_heat_flow\n"
     ]
    }
   ],
   "source": [
    "from lib.DataDownloader import DataDownloader as dd\n",
    "\n",
    "dd.download_folder(path_src=path_src, url=\"https://drive.google.com/drive/u/0/folders/1TF29m-zZGOpxP6kgpJiojLmVYRt3oF3t\", overwrite=False)"
   ]
  },
  {
   "cell_type": "markdown",
   "id": "d8b10680-bfe6-4cd0-b9eb-c6f96ebda72c",
   "metadata": {},
   "source": [
    "---\n",
    "# 1. Analysis"
   ]
  },
  {
   "cell_type": "code",
   "execution_count": 3,
   "id": "379a0482-d0ee-44db-b1e6-b25464b6e9cc",
   "metadata": {
    "tags": []
   },
   "outputs": [
    {
     "data": {
      "image/png": "[encoded data removed]",
      "text/plain": [
       "<Figure size 700x500 with 2 Axes>"
      ]
     },
     "metadata": {},
     "output_type": "display_data"
    }
   ],
   "source": [
    "from lib.GRS import GRS as grs\n",
    "\n",
    "GRS = grs(os.path.abspath(os.path.join(path_src, \"data/GRS/\")))\n",
    "GRS.loadData()\n",
    "GRS.visualize('k')"
   ]
  },
  {
   "cell_type": "code",
   "execution_count": 4,
   "id": "b444484d-e32c-49cf-a061-91fe2d979939",
   "metadata": {
    "tags": []
   },
   "outputs": [
    {
     "data": {
      "text/plain": [
       "0.004308186917415633"
      ]
     },
     "execution_count": 4,
     "metadata": {},
     "output_type": "execute_result"
    }
   ],
   "source": [
    "GRS.getConcentration(0,0,'k',normalized=True)"
   ]
  },
  {
   "cell_type": "code",
   "execution_count": null,
   "id": "4fadef16-7211-4f8b-a8bb-00b9e97d1c6d",
   "metadata": {},
   "outputs": [],
   "source": []
  },
  {
   "cell_type": "code",
   "execution_count": null,
   "id": "18ee3454-67d9-4014-8fb7-c478579299db",
   "metadata": {},
   "outputs": [],
   "source": []
  },
  {
   "cell_type": "code",
   "execution_count": null,
   "id": "9edb4ace-77f3-4a97-9dcf-b8cf2e31b5ff",
   "metadata": {},
   "outputs": [],
   "source": []
  }
 ],
 "metadata": {
  "kernelspec": {
   "display_name": "Python 3 (ipykernel)",
   "language": "python",
   "name": "python3"
  },
  "language_info": {
   "codemirror_mode": {
    "name": "ipython",
    "version": 3
   },
   "file_extension": ".py",
   "mimetype": "text/x-python",
   "name": "python",
   "nbconvert_exporter": "python",
   "pygments_lexer": "ipython3",
   "version": "3.11.0"
  }
 },
 "nbformat": 4,
 "nbformat_minor": 5
}
