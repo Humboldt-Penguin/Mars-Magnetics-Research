{
 "cells": [
  {
   "cell_type": "markdown",
   "id": "dcb17212-8ec5-4f88-acd9-9a8f05be03b9",
   "metadata": {},
   "source": [
    "TODO:\n",
    "* ~~move GRS stuff to its own class~~\n",
    "  * ~~double check i'm getting concentrations at the right coordinates~~\n",
    "  * ~~double check volatile normalization~~\n",
    "  * ~~double check plotting~~\n",
    "* ~~data downloader~~\n",
    "* come up with a crater class"
   ]
  },
  {
   "cell_type": "markdown",
   "id": "f7dfec5a-08a4-4b20-b42d-ca1474db0f96",
   "metadata": {
    "tags": []
   },
   "source": [
    "---\n",
    "# 0. Setup"
   ]
  },
  {
   "cell_type": "markdown",
   "id": "cda36e89-8451-47bb-b13a-178ca2f2349a",
   "metadata": {},
   "source": [
    "## Add path to source"
   ]
  },
  {
   "cell_type": "code",
   "execution_count": 2,
   "id": "a22f0293-5fc5-48ce-a60d-64ee86cce285",
   "metadata": {
    "tags": []
   },
   "outputs": [],
   "source": [
    "## This is OD way to deal with paths\n",
    "\n",
    "def getPath(*args):\n",
    "    \"\"\"Join all arguments into a single path. Use 'current' as a stand in for path to current file.\"\"\"\n",
    "    import os\n",
    "    args = [os.getcwd() if arg == 'current' else arg for arg in args]\n",
    "    return os.path.abspath(os.path.join(*args))\n",
    "\n",
    "    \n",
    "def path_addSrc(fullpath_src = None, relpath_src = None, parent = False, verbose = False):\n",
    "    \"\"\"\n",
    "    Add directory \"src/\" to path.\n",
    "        \n",
    "    PARAMETERS:\n",
    "        fullpath_src : string\n",
    "            Path to source from root.\n",
    "        relpath_src : string\n",
    "            Path to source from directory of current file.\n",
    "        parent : boolean\n",
    "            Use parent folder as source\n",
    "        verbose : boolean\n",
    "            Prints source directory path.\n",
    "    \n",
    "    RETURN:\n",
    "        path_src : string\n",
    "            Path to source from root.\n",
    "    \"\"\"\n",
    "    \n",
    "    import sys\n",
    "    import os\n",
    "\n",
    "    if fullpath_src:\n",
    "        path_src = getPath(fullpath_src)\n",
    "    elif relpath_src:\n",
    "        path_src = getPath('current', relpath_src)\n",
    "    elif parent:\n",
    "        path_src = getPath('current', '..')\n",
    "        \n",
    "    if verbose: print(\"Path to source: \" + path_src)\n",
    "    \n",
    "    sys.path.append(path_src)\n",
    "    return path_src"
   ]
  },
  {
   "cell_type": "code",
   "execution_count": 3,
   "id": "35313b37-e222-47c1-94d9-f3a00bae5830",
   "metadata": {
    "tags": []
   },
   "outputs": [
    {
     "name": "stdout",
     "output_type": "stream",
     "text": [
      "Path to source: /home/lain/sync/01_Research/Mars_Magnetics/code/05_mag_src_map/src\n"
     ]
    }
   ],
   "source": [
    "path_src = path_addSrc(parent=True, verbose=True)"
   ]
  },
  {
   "cell_type": "markdown",
   "id": "32cc9614-1716-4e2a-8403-021687023352",
   "metadata": {},
   "source": [
    "## Download data"
   ]
  },
  {
   "cell_type": "code",
   "execution_count": 4,
   "id": "2ec57823-e021-4e77-9af2-7bd3f80b9209",
   "metadata": {
    "tags": []
   },
   "outputs": [
    {
     "name": "stdout",
     "output_type": "stream",
     "text": [
      "Data folder already exists. To overwrite, add `overwrite=True` param.\n",
      "\n",
      "Data folder contents: \n",
      "\tREADME.txt\n",
      "\tcraters\n",
      "\tGRS\n",
      "\tcrustal_heat_flow\n"
     ]
    }
   ],
   "source": [
    "from lib.DataDownloader import DataDownloader as dd\n",
    "\n",
    "dd.download_folder(path_src=path_src, url=\"https://drive.google.com/drive/u/0/folders/1TF29m-zZGOpxP6kgpJiojLmVYRt3oF3t\", overwrite=False)"
   ]
  },
  {
   "cell_type": "markdown",
   "id": "d8b10680-bfe6-4cd0-b9eb-c6f96ebda72c",
   "metadata": {},
   "source": [
    "---\n",
    "# 1. Analysis"
   ]
  },
  {
   "cell_type": "code",
   "execution_count": 5,
   "id": "379a0482-d0ee-44db-b1e6-b25464b6e9cc",
   "metadata": {
    "tags": []
   },
   "outputs": [],
   "source": [
    "import numpy as np\n",
    "# import scipy.optimize as sy\n",
    "import matplotlib.pyplot as plt\n",
    "import math"
   ]
  },
  {
   "cell_type": "code",
   "execution_count": 6,
   "id": "d67e88fd-d96e-4b51-ac67-eabd2789a62f",
   "metadata": {
    "tags": []
   },
   "outputs": [],
   "source": [
    "from lib.GRS import GRS as grs\n",
    "\n",
    "GRS = grs(getPath(path_src, \"data/GRS/\"))\n",
    "GRS.loadData()"
   ]
  },
  {
   "cell_type": "code",
   "execution_count": 7,
   "id": "ecb3b0c3-9b46-4f53-8828-a20a46465ce9",
   "metadata": {
    "tags": []
   },
   "outputs": [],
   "source": [
    "Lyot = {\n",
    "    \"lon\": 29.32,\n",
    "    \"lat\": 50.47,\n",
    "    \"formation\": 3.4e9,\n",
    "    \"diameter_km\": 220.31,\n",
    "}"
   ]
  },
  {
   "cell_type": "code",
   "execution_count": 8,
   "id": "4fadef16-7211-4f8b-a8bb-00b9e97d1c6d",
   "metadata": {},
   "outputs": [],
   "source": [
    "# def getCurieDepths_local(lon, lat, t, volatile_adjusted = True):\n",
    "\n",
    "\n",
    "HPE = {\n",
    "    \"U238\": {\n",
    "        \"isotopic_frac\": 0.9928,\n",
    "        \"heat_release_const\": 9.46e-5, # net energy per unit mass [W/kg]\n",
    "        \"half_life\": 4.47e9\n",
    "    },\n",
    "    \"U235\": {\n",
    "        \"isotopic_frac\": 0.0071,\n",
    "        \"heat_release_const\": 5.69e-4,\n",
    "        \"half_life\": 7.04e8\n",
    "    },\n",
    "    \"Th232\": {\n",
    "        \"isotopic_frac\": 1.00,\n",
    "        \"heat_release_const\": 2.64e-5,\n",
    "        \"half_life\": 1.40e10\n",
    "    },\n",
    "    \"K40\": {\n",
    "        \"isotopic_frac\": 1.191e-4,\n",
    "        \"heat_release_const\": 2.92e-5,\n",
    "        \"half_life\": 1.25e9\n",
    "    }\n",
    "}\n",
    "\n",
    "\n",
    "def calc_H(thisGRS, lon, lat, t, volatile_adjusted=True):\n",
    "\n",
    "    thisHPE = HPE\n",
    "    \n",
    "    # get concentrations of each element (these coordinates, current day)\n",
    "    for element in thisHPE:\n",
    "        elementname = ''.join([char for char in element if not char.isdigit()]).lower()\n",
    "        if elementname == 'u':\n",
    "            concentration = thisGRS.getConcentration(lon, lat, \"th\", volatile_adjusted) / 3.8\n",
    "        else:\n",
    "            concentration = thisGRS.getConcentration(lon, lat, elementname, volatile_adjusted)\n",
    "    \n",
    "    \n",
    "        if concentration == thisGRS.getNanVal():\n",
    "            return thisGRS.getNanVal()\n",
    "        thisHPE[element][\"concentration\"] = concentration\n",
    "    \n",
    "    # calculate crustal heat production (these coordinates, `t` years ago)\n",
    "    H = 0\n",
    "    for element in thisHPE:\n",
    "        H += (\n",
    "            thisHPE[element][\"isotopic_frac\"] \n",
    "            * thisHPE[element][\"concentration\"] \n",
    "            * thisHPE[element][\"heat_release_const\"] \n",
    "            * math.exp((t * math.log(2))/(thisHPE[element][\"half_life\"]))\n",
    "        )\n",
    "    return H\n",
    "            \n",
    "    \n",
    "\n",
    "    \n",
    "    "
   ]
  },
  {
   "cell_type": "raw",
   "id": "053aa0d4-cd04-4b04-ab1b-bdbadbc6c99b",
   "metadata": {
    "tags": []
   },
   "source": [
    "## verify plotting works with this rewritten code\n",
    "def calc_TempDepthProfile(thisGRS, lon, lat, t, q_b_mW, volatile_adjusted=True):\n",
    "    H = calc_H(thisGRS, lon, lat, t, volatile_adjusted) # heat production in crust [W kg^-1]    \n",
    "\n",
    "    # i address nanvals later on to make sure it's an arraylike :)\n",
    "    # if H == thisGRS.getNanVal():\n",
    "    #     return thisGRS.getNanVal()\n",
    "\n",
    "    rho = 2800 # density of crust [kg m^-3]\n",
    "    k_cr = 2.5 # thermal conductivity of crust [W m^-1 K^-1]\n",
    "    k_m = 4 # thermal conductivity of mantle [W m^-1 K^-1]\n",
    "    thickness_crust_m = 40e3 # from random map i found online -- eventually automate this!\n",
    "    q_b = q_b_mW * 10**-3 # basal heat flow, parameter sweep this from 0-50\n",
    "    \n",
    "    \n",
    "    def calc_T(depth_km):\n",
    "        depth_m = depth_km*1000\n",
    "        if depth_m <= thickness_crust_m:\n",
    "            T = ((rho * H * depth_m)/(k_cr))*(thickness_crust_m - depth_m/2) + (q_b * depth_m)/(k_cr)\n",
    "        else:\n",
    "            left = ((rho * H * thickness_crust_m)/(k_cr))*(thickness_crust_m - thickness_crust_m/2) + (q_b * thickness_crust_m)/(k_cr)\n",
    "            right = ((rho * H * thickness_crust_m**2)/(2*k_m)) + ((q_b * thickness_crust_m)/(k_m))\n",
    "            T_0 = left-right\n",
    "\n",
    "            T = T_0 + ((rho * H * thickness_crust_m**2)/(2*k_m)) + ((q_b * depth_m)/(k_m))\n",
    "        return T\n",
    "            \n",
    "            \n",
    "    depths_km = np.arange(0, 1000, 0.1)\n",
    "    \n",
    "    if H == thisGRS.getNanVal():\n",
    "        temps_C = [thisGRS.getNanVal() for d in depths_km]\n",
    "    else:\n",
    "        temps_C = [calc_T(d) for d in depths_km]\n",
    "    \n",
    "    # vfunc_calc_T = np.vectorize(calc_T)\n",
    "    # temps_C = vfunc_calc_T(depths_m)\n",
    "        \n",
    "    return (depths_km, temps_C)\n",
    "\n",
    "thiscrater = Lyot\n",
    "\n",
    "# test lyot crater\n",
    "depths_km, temps_C = calc_TempDepthProfile(GRS, thiscrater['lon'], thiscrater['lat'], thiscrater['formation'], 15)\n",
    "\n",
    "# test nanvals (silicon is undefined at these coords\n",
    "# depths_km, temps_C = calc_TempDepthProfile(GRS, 0, 55, thiscrater['formation'], 15)\n",
    "\n",
    "\n",
    "plt.plot(depths_km, temps_C)"
   ]
  },
  {
   "cell_type": "code",
   "execution_count": 84,
   "id": "9edb4ace-77f3-4a97-9dcf-b8cf2e31b5ff",
   "metadata": {},
   "outputs": [
    {
     "ename": "KeyboardInterrupt",
     "evalue": "",
     "output_type": "error",
     "traceback": [
      "\u001b[0;31m---------------------------------------------------------------------------\u001b[0m",
      "\u001b[0;31mKeyboardInterrupt\u001b[0m                         Traceback (most recent call last)",
      "Cell \u001b[0;32mIn[84], line 65\u001b[0m\n\u001b[1;32m     63\u001b[0m start_time \u001b[38;5;241m=\u001b[39m time\u001b[38;5;241m.\u001b[39mtime()\n\u001b[1;32m     64\u001b[0m \u001b[38;5;28;01mfor\u001b[39;00m i \u001b[38;5;129;01min\u001b[39;00m \u001b[38;5;28mrange\u001b[39m(\u001b[38;5;241m360\u001b[39m\u001b[38;5;241m*\u001b[39m\u001b[38;5;241m180\u001b[39m):\n\u001b[0;32m---> 65\u001b[0m     x \u001b[38;5;241m=\u001b[39m \u001b[43mcalc_CurieDepths\u001b[49m\u001b[43m(\u001b[49m\u001b[43mGRS\u001b[49m\u001b[43m,\u001b[49m\u001b[43m \u001b[49m\u001b[43mthiscrater\u001b[49m\u001b[43m[\u001b[49m\u001b[38;5;124;43m'\u001b[39;49m\u001b[38;5;124;43mlon\u001b[39;49m\u001b[38;5;124;43m'\u001b[39;49m\u001b[43m]\u001b[49m\u001b[43m,\u001b[49m\u001b[43m \u001b[49m\u001b[43mthiscrater\u001b[49m\u001b[43m[\u001b[49m\u001b[38;5;124;43m'\u001b[39;49m\u001b[38;5;124;43mlat\u001b[39;49m\u001b[38;5;124;43m'\u001b[39;49m\u001b[43m]\u001b[49m\u001b[43m,\u001b[49m\u001b[43m \u001b[49m\u001b[43mthiscrater\u001b[49m\u001b[43m[\u001b[49m\u001b[38;5;124;43m'\u001b[39;49m\u001b[38;5;124;43mformation\u001b[39;49m\u001b[38;5;124;43m'\u001b[39;49m\u001b[43m]\u001b[49m\u001b[43m,\u001b[49m\u001b[43m \u001b[49m\u001b[38;5;241;43m15\u001b[39;49m\u001b[43m,\u001b[49m\u001b[43m \u001b[49m\u001b[43mvolatile_adjusted\u001b[49m\u001b[38;5;241;43m=\u001b[39;49m\u001b[38;5;28;43;01mTrue\u001b[39;49;00m\u001b[43m)\u001b[49m\n\u001b[1;32m     66\u001b[0m s \u001b[38;5;241m=\u001b[39m time\u001b[38;5;241m.\u001b[39mtime() \u001b[38;5;241m-\u001b[39m start_time\n\u001b[1;32m     67\u001b[0m \u001b[38;5;28mprint\u001b[39m(s)\n",
      "Cell \u001b[0;32mIn[84], line 2\u001b[0m, in \u001b[0;36mcalc_CurieDepths\u001b[0;34m(thisGRS, lon, lat, t, q_b_mW, volatile_adjusted)\u001b[0m\n\u001b[1;32m      1\u001b[0m \u001b[38;5;28;01mdef\u001b[39;00m \u001b[38;5;21mcalc_CurieDepths\u001b[39m(thisGRS, lon, lat, t, q_b_mW, volatile_adjusted\u001b[38;5;241m=\u001b[39m\u001b[38;5;28;01mTrue\u001b[39;00m):\n\u001b[0;32m----> 2\u001b[0m     H \u001b[38;5;241m=\u001b[39m \u001b[43mcalc_H\u001b[49m\u001b[43m(\u001b[49m\u001b[43mthisGRS\u001b[49m\u001b[43m,\u001b[49m\u001b[43m \u001b[49m\u001b[43mlon\u001b[49m\u001b[43m,\u001b[49m\u001b[43m \u001b[49m\u001b[43mlat\u001b[49m\u001b[43m,\u001b[49m\u001b[43m \u001b[49m\u001b[43mt\u001b[49m\u001b[43m,\u001b[49m\u001b[43m \u001b[49m\u001b[43mvolatile_adjusted\u001b[49m\u001b[43m)\u001b[49m \u001b[38;5;66;03m# heat production in crust [W kg^-1]    \u001b[39;00m\n\u001b[1;32m      4\u001b[0m     \u001b[38;5;28;01mif\u001b[39;00m H \u001b[38;5;241m==\u001b[39m thisGRS\u001b[38;5;241m.\u001b[39mgetNanVal():\n\u001b[1;32m      5\u001b[0m         \u001b[38;5;28;01mreturn\u001b[39;00m (GRS\u001b[38;5;241m.\u001b[39mgetNanVal(),)\u001b[38;5;241m*\u001b[39m\u001b[38;5;241m3\u001b[39m\n",
      "Cell \u001b[0;32mIn[8], line 38\u001b[0m, in \u001b[0;36mcalc_H\u001b[0;34m(thisGRS, lon, lat, t, volatile_adjusted)\u001b[0m\n\u001b[1;32m     36\u001b[0m     concentration \u001b[38;5;241m=\u001b[39m thisGRS\u001b[38;5;241m.\u001b[39mgetConcentration(lon, lat, \u001b[38;5;124m\"\u001b[39m\u001b[38;5;124mth\u001b[39m\u001b[38;5;124m\"\u001b[39m, volatile_adjusted) \u001b[38;5;241m/\u001b[39m \u001b[38;5;241m3.8\u001b[39m\n\u001b[1;32m     37\u001b[0m \u001b[38;5;28;01melse\u001b[39;00m:\n\u001b[0;32m---> 38\u001b[0m     concentration \u001b[38;5;241m=\u001b[39m \u001b[43mthisGRS\u001b[49m\u001b[38;5;241;43m.\u001b[39;49m\u001b[43mgetConcentration\u001b[49m\u001b[43m(\u001b[49m\u001b[43mlon\u001b[49m\u001b[43m,\u001b[49m\u001b[43m \u001b[49m\u001b[43mlat\u001b[49m\u001b[43m,\u001b[49m\u001b[43m \u001b[49m\u001b[43melementname\u001b[49m\u001b[43m,\u001b[49m\u001b[43m \u001b[49m\u001b[43mvolatile_adjusted\u001b[49m\u001b[43m)\u001b[49m\n\u001b[1;32m     41\u001b[0m \u001b[38;5;28;01mif\u001b[39;00m concentration \u001b[38;5;241m==\u001b[39m thisGRS\u001b[38;5;241m.\u001b[39mgetNanVal():\n\u001b[1;32m     42\u001b[0m     \u001b[38;5;28;01mreturn\u001b[39;00m thisGRS\u001b[38;5;241m.\u001b[39mgetNanVal()\n",
      "File \u001b[0;32m~/sync/01_Research/Mars_Magnetics/code/05_mag_src_map/src/lib/GRS.py:190\u001b[0m, in \u001b[0;36mGRS.getConcentration\u001b[0;34m(self, lon, lat, elementname, normalized)\u001b[0m\n\u001b[1;32m    178\u001b[0m \u001b[38;5;250m\u001b[39m\u001b[38;5;124;03m\"\"\"\u001b[39;00m\n\u001b[1;32m    179\u001b[0m \u001b[38;5;124;03mGet the concentration of an element at the desired coordinate. Units in weight percent (Wt%) -- i.e. a 5% concentration would correspond to a return value of 0.05.\u001b[39;00m\n\u001b[1;32m    180\u001b[0m \u001b[38;5;124;03m\u001b[39;00m\n\u001b[0;32m   (...)\u001b[0m\n\u001b[1;32m    185\u001b[0m \u001b[38;5;124;03m    If atleast two of the nearest pixels are unresolved by GRS, just return the nanval.\u001b[39;00m\n\u001b[1;32m    186\u001b[0m \u001b[38;5;124;03m\"\"\"\u001b[39;00m\n\u001b[1;32m    189\u001b[0m \u001b[38;5;28;01mif\u001b[39;00m normalized:\n\u001b[0;32m--> 190\u001b[0m     \u001b[38;5;28;01mreturn\u001b[39;00m \u001b[38;5;28;43mself\u001b[39;49m\u001b[38;5;241;43m.\u001b[39;49m\u001b[43m__getAdjustedConcentration\u001b[49m\u001b[43m(\u001b[49m\u001b[43mlon\u001b[49m\u001b[43m,\u001b[49m\u001b[43m \u001b[49m\u001b[43mlat\u001b[49m\u001b[43m,\u001b[49m\u001b[43m \u001b[49m\u001b[43melementname\u001b[49m\u001b[43m)\u001b[49m\n\u001b[1;32m    191\u001b[0m \u001b[38;5;28;01melse\u001b[39;00m:\n\u001b[1;32m    192\u001b[0m     clon \u001b[38;5;241m=\u001b[39m lon2clon(lon)\n",
      "File \u001b[0;32m~/sync/01_Research/Mars_Magnetics/code/05_mag_src_map/src/lib/GRS.py:341\u001b[0m, in \u001b[0;36mGRS.__getAdjustedConcentration\u001b[0;34m(self, lon, lat, elementname)\u001b[0m\n\u001b[1;32m    328\u001b[0m \u001b[38;5;28;01mdef\u001b[39;00m \u001b[38;5;21m__getAdjustedConcentration\u001b[39m(\u001b[38;5;28mself\u001b[39m, lon, lat, elementname):\n\u001b[1;32m    329\u001b[0m \u001b[38;5;250m    \u001b[39m\u001b[38;5;124;03m\"\"\"\u001b[39;00m\n\u001b[1;32m    330\u001b[0m \u001b[38;5;124;03m    Helper method for \"getConcentration\"\u001b[39;00m\n\u001b[1;32m    331\u001b[0m \u001b[38;5;124;03m    \u001b[39;00m\n\u001b[0;32m   (...)\u001b[0m\n\u001b[1;32m    338\u001b[0m \u001b[38;5;124;03m    > we applied to the chemical maps by renormalizing to Cl, stoichiometric H2O, and S-free basis.\u001b[39;00m\n\u001b[1;32m    339\u001b[0m \u001b[38;5;124;03m    \"\"\"\u001b[39;00m\n\u001b[0;32m--> 341\u001b[0m     init_conc \u001b[38;5;241m=\u001b[39m \u001b[38;5;28;43mself\u001b[39;49m\u001b[38;5;241;43m.\u001b[39;49m\u001b[43mgetConcentration\u001b[49m\u001b[43m(\u001b[49m\u001b[43mlon\u001b[49m\u001b[43m,\u001b[49m\u001b[43m \u001b[49m\u001b[43mlat\u001b[49m\u001b[43m,\u001b[49m\u001b[43m \u001b[49m\u001b[43melementname\u001b[49m\u001b[43m,\u001b[49m\u001b[43m \u001b[49m\u001b[43mnormalized\u001b[49m\u001b[38;5;241;43m=\u001b[39;49m\u001b[38;5;28;43;01mFalse\u001b[39;49;00m\u001b[43m)\u001b[49m\n\u001b[1;32m    342\u001b[0m     \u001b[38;5;66;03m# if elementname == \"th\":\u001b[39;00m\n\u001b[1;32m    343\u001b[0m     \u001b[38;5;66;03m#     init_conc *= 10e-4\u001b[39;00m\n\u001b[1;32m    345\u001b[0m     sum_volatile_conc \u001b[38;5;241m=\u001b[39m \u001b[38;5;241m0\u001b[39m\n",
      "File \u001b[0;32m~/sync/01_Research/Mars_Magnetics/code/05_mag_src_map/src/lib/GRS.py:208\u001b[0m, in \u001b[0;36mGRS.getConcentration\u001b[0;34m(self, lon, lat, elementname, normalized)\u001b[0m\n\u001b[1;32m    206\u001b[0m     lats\u001b[38;5;241m.\u001b[39mappend(\u001b[38;5;28mself\u001b[39m\u001b[38;5;241m.\u001b[39mdata[i][\u001b[38;5;241m0\u001b[39m][\u001b[38;5;124m\"\u001b[39m\u001b[38;5;124mlat\u001b[39m\u001b[38;5;124m\"\u001b[39m])\n\u001b[1;32m    207\u001b[0m \u001b[38;5;66;03m# print(lats)\u001b[39;00m\n\u001b[0;32m--> 208\u001b[0m colas \u001b[38;5;241m=\u001b[39m \u001b[43m[\u001b[49m\u001b[43mlat2cola\u001b[49m\u001b[43m(\u001b[49m\u001b[43mlat\u001b[49m\u001b[43m)\u001b[49m\u001b[43m \u001b[49m\u001b[38;5;28;43;01mfor\u001b[39;49;00m\u001b[43m \u001b[49m\u001b[43mlat\u001b[49m\u001b[43m \u001b[49m\u001b[38;5;129;43;01min\u001b[39;49;00m\u001b[43m \u001b[49m\u001b[43mlats\u001b[49m\u001b[43m]\u001b[49m\n\u001b[1;32m    209\u001b[0m \u001b[38;5;66;03m# print(colas)\u001b[39;00m\n\u001b[1;32m    210\u001b[0m \n\u001b[1;32m    211\u001b[0m \u001b[38;5;66;03m## get indexes and values for four nearest pixels\u001b[39;00m\n\u001b[1;32m    213\u001b[0m \u001b[38;5;28;01mif\u001b[39;00m lon \u001b[38;5;241m<\u001b[39m\u001b[38;5;241m=\u001b[39m lons[\u001b[38;5;241m0\u001b[39m] \u001b[38;5;129;01mor\u001b[39;00m lon \u001b[38;5;241m>\u001b[39m\u001b[38;5;241m=\u001b[39m lons[\u001b[38;5;241m-\u001b[39m\u001b[38;5;241m1\u001b[39m]: \u001b[38;5;66;03m# edge cases\u001b[39;00m\n",
      "File \u001b[0;32m~/sync/01_Research/Mars_Magnetics/code/05_mag_src_map/src/lib/GRS.py:208\u001b[0m, in \u001b[0;36m<listcomp>\u001b[0;34m(.0)\u001b[0m\n\u001b[1;32m    206\u001b[0m     lats\u001b[38;5;241m.\u001b[39mappend(\u001b[38;5;28mself\u001b[39m\u001b[38;5;241m.\u001b[39mdata[i][\u001b[38;5;241m0\u001b[39m][\u001b[38;5;124m\"\u001b[39m\u001b[38;5;124mlat\u001b[39m\u001b[38;5;124m\"\u001b[39m])\n\u001b[1;32m    207\u001b[0m \u001b[38;5;66;03m# print(lats)\u001b[39;00m\n\u001b[0;32m--> 208\u001b[0m colas \u001b[38;5;241m=\u001b[39m [lat2cola(lat) \u001b[38;5;28;01mfor\u001b[39;00m lat \u001b[38;5;129;01min\u001b[39;00m lats]\n\u001b[1;32m    209\u001b[0m \u001b[38;5;66;03m# print(colas)\u001b[39;00m\n\u001b[1;32m    210\u001b[0m \n\u001b[1;32m    211\u001b[0m \u001b[38;5;66;03m## get indexes and values for four nearest pixels\u001b[39;00m\n\u001b[1;32m    213\u001b[0m \u001b[38;5;28;01mif\u001b[39;00m lon \u001b[38;5;241m<\u001b[39m\u001b[38;5;241m=\u001b[39m lons[\u001b[38;5;241m0\u001b[39m] \u001b[38;5;129;01mor\u001b[39;00m lon \u001b[38;5;241m>\u001b[39m\u001b[38;5;241m=\u001b[39m lons[\u001b[38;5;241m-\u001b[39m\u001b[38;5;241m1\u001b[39m]: \u001b[38;5;66;03m# edge cases\u001b[39;00m\n",
      "\u001b[0;31mKeyboardInterrupt\u001b[0m: "
     ]
    }
   ],
   "source": [
    "def calc_CurieDepths(thisGRS, lon, lat, t, q_b_mW, volatile_adjusted=True):\n",
    "    H = calc_H(thisGRS, lon, lat, t, volatile_adjusted) # heat production in crust [W kg^-1]    \n",
    "\n",
    "    if H == thisGRS.getNanVal():\n",
    "        return (GRS.getNanVal(),)*3\n",
    "\n",
    "    rho = 2800 # density of crust [kg m^-3]\n",
    "    k_cr = 2.5 # thermal conductivity of crust [W m^-1 K^-1]\n",
    "    k_m = 4 # thermal conductivity of mantle [W m^-1 K^-1]\n",
    "    thickness_crust_m = 40e3 # from random map i found online -- eventually automate this!\n",
    "    q_b = q_b_mW * 10**-3 # basal heat flow, parameter sweep this from 0-50\n",
    "    \n",
    "    \n",
    "    def calc_T(depth_km):\n",
    "        depth_m = depth_km*1000\n",
    "        if depth_m <= thickness_crust_m:\n",
    "            T = ((rho * H * depth_m)/(k_cr))*(thickness_crust_m - depth_m/2) + (q_b * depth_m)/(k_cr)\n",
    "        else:\n",
    "            left = ((rho * H * thickness_crust_m)/(k_cr))*(thickness_crust_m - thickness_crust_m/2) + (q_b * thickness_crust_m)/(k_cr)\n",
    "            right = ((rho * H * thickness_crust_m**2)/(2*k_m)) + ((q_b * thickness_crust_m)/(k_m))\n",
    "            T_0 = left-right\n",
    "\n",
    "            T = T_0 + ((rho * H * thickness_crust_m**2)/(2*k_m)) + ((q_b * depth_m)/(k_m))\n",
    "        return T\n",
    "    \n",
    "    curie_temps = (320,580,670)\n",
    "    curie_depths = []\n",
    "    error = 0.01\n",
    "    \n",
    "    for curie_temp in curie_temps:\n",
    "        depth_left = 0\n",
    "        depth_right = 500\n",
    "        depth_mid = (depth_right+depth_left)/2\n",
    "\n",
    "        temp_left = calc_T(depth_left)\n",
    "        temp_right = calc_T(depth_right)\n",
    "        temp_mid = calc_T(depth_mid)\n",
    "\n",
    "        assert temp_left < curie_temp and curie_temp < temp_right, 'erm what the fish'\n",
    "        \n",
    "        while abs( temp_mid - curie_temp ) > error:\n",
    "            if temp_mid < curie_temp:\n",
    "                depth_left = depth_mid\n",
    "                temp_left = temp_mid\n",
    "            else:\n",
    "                depth_right = depth_mid\n",
    "                temp_right = temp_mid                \n",
    "            depth_mid = (depth_right+depth_left)/2\n",
    "            temp_mid = calc_T(depth_mid)\n",
    "        \n",
    "        curie_depths.append(depth_mid)\n",
    "        \n",
    "    # for i in range(3):\n",
    "    #     print(curie_depths[i])\n",
    "    #     print(calc_T(curie_depths[i]))\n",
    "    #     print()\n",
    "        \n",
    "    return curie_depths\n",
    "            \n",
    "    \n",
    "thiscrater = Lyot\n",
    "import time\n",
    "start_time = time.time()\n",
    "for i in range(360*180):\n",
    "    x = calc_CurieDepths(GRS, thiscrater['lon'], thiscrater['lat'], thiscrater['formation'], 15, volatile_adjusted=True)\n",
    "s = time.time() - start_time\n",
    "print(s)\n"
   ]
  },
  {
   "cell_type": "code",
   "execution_count": null,
   "id": "07a3cc1f-8395-4d62-9cbd-0e4b49fbd0b8",
   "metadata": {},
   "outputs": [],
   "source": []
  },
  {
   "cell_type": "code",
   "execution_count": null,
   "id": "1ada07f0-bbe7-4f1c-98b3-d3684fd6c75e",
   "metadata": {},
   "outputs": [],
   "source": []
  },
  {
   "cell_type": "code",
   "execution_count": 61,
   "id": "8f8f06ba-104c-4efc-b1d2-f1f2e2bd6824",
   "metadata": {
    "tags": []
   },
   "outputs": [
    {
     "name": "stdout",
     "output_type": "stream",
     "text": [
      "4.68994140625\n",
      "21.995550394058228\n"
     ]
    }
   ],
   "source": [
    "target = 22\n",
    "error = 0.01\n",
    "def foo(x): return x**2\n",
    "\n",
    "left = 0\n",
    "right = 10\n",
    "mid = (right+left)/2\n",
    "\n",
    "while abs(foo(mid)-target) > error:\n",
    "    if foo(mid) > target:\n",
    "        right = mid\n",
    "    else:\n",
    "        left = mid\n",
    "    mid = (right+left)/2\n",
    "    \n",
    "print(mid)\n",
    "print(foo(mid))"
   ]
  },
  {
   "cell_type": "code",
   "execution_count": null,
   "id": "ccc07149-98d9-4554-bfa9-367dd8f7770f",
   "metadata": {},
   "outputs": [],
   "source": []
  },
  {
   "cell_type": "code",
   "execution_count": null,
   "id": "0b388ab5-fc79-43fb-89ee-484443efc795",
   "metadata": {},
   "outputs": [],
   "source": []
  },
  {
   "cell_type": "code",
   "execution_count": 38,
   "id": "cbe73c36-fc1d-4cc3-a4c4-02f7536fdc0a",
   "metadata": {
    "tags": []
   },
   "outputs": [
    {
     "data": {
      "text/plain": [
       "(-1e-10, -1e-10, -1e-10)"
      ]
     },
     "execution_count": 38,
     "metadata": {},
     "output_type": "execute_result"
    }
   ],
   "source": [
    "(GRS.getNanVal(),)*3"
   ]
  },
  {
   "cell_type": "code",
   "execution_count": 31,
   "id": "71be18a5-03fc-41a0-925f-c42dfd9adf69",
   "metadata": {
    "tags": []
   },
   "outputs": [
    {
     "data": {
      "text/plain": [
       "1"
      ]
     },
     "execution_count": 31,
     "metadata": {},
     "output_type": "execute_result"
    }
   ],
   "source": [
    "abs(-1)"
   ]
  }
 ],
 "metadata": {
  "kernelspec": {
   "display_name": "Python 3 (ipykernel)",
   "language": "python",
   "name": "python3"
  },
  "language_info": {
   "codemirror_mode": {
    "name": "ipython",
    "version": 3
   },
   "file_extension": ".py",
   "mimetype": "text/x-python",
   "name": "python",
   "nbconvert_exporter": "python",
   "pygments_lexer": "ipython3",
   "version": "3.11.0"
  }
 },
 "nbformat": 4,
 "nbformat_minor": 5
}
