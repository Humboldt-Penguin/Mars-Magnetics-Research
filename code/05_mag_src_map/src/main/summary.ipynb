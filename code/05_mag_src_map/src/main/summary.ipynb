{
 "cells": [
  {
   "cell_type": "markdown",
   "id": "03fe6225-bf4b-4703-a798-25cc64da2554",
   "metadata": {},
   "source": [
    "Prior meeting: Tues 3/7/23\n",
    "\n",
    "Next meeting: [fill in]\n",
    "\n",
    "Goals:\n",
    "- Get ready for LPSC\n",
    "---"
   ]
  },
  {
   "cell_type": "markdown",
   "id": "517cf0b4-4adf-41c6-b499-7c0cdc85415f",
   "metadata": {
    "tags": []
   },
   "source": [
    "---\n",
    "# 0. Setup\n",
    "---"
   ]
  },
  {
   "cell_type": "markdown",
   "id": "1ec0a487-1c3c-4f25-bf51-c5e046e90a15",
   "metadata": {},
   "source": [
    "---\n",
    "## Add path to source"
   ]
  },
  {
   "cell_type": "code",
   "execution_count": 1,
   "id": "06d3d4e2-4f99-4283-9c71-7693fd2d91e3",
   "metadata": {
    "tags": []
   },
   "outputs": [
    {
     "name": "stdout",
     "output_type": "stream",
     "text": [
      "Path to source: C:\\Users\\zk117\\Documents\\01.Research\\Mars_Magnetics__uptodate\\code\\05_mag_src_map\\src\n"
     ]
    }
   ],
   "source": [
    "def getPath(*args):\n",
    "    \"\"\"Join all arguments into a single path. Use 'current' as a stand in for path to current file.\"\"\"\n",
    "    import os\n",
    "    args = [os.getcwd() if arg == 'current' else arg for arg in args]\n",
    "    return os.path.abspath(os.path.join(*args))\n",
    "\n",
    "    \n",
    "def path_addSrc(fullpath_src = None, relpath_src = None, parent = False, verbose = False):\n",
    "    \"\"\"\n",
    "    Add directory \"src/\" to path.\n",
    "        \n",
    "    PARAMETERS:\n",
    "        fullpath_src : string\n",
    "            Path to source from root.\n",
    "        relpath_src : string\n",
    "            Path to source from directory of current file.\n",
    "        parent : boolean\n",
    "            Use parent folder as source\n",
    "        verbose : boolean\n",
    "            Prints source directory path.\n",
    "    \n",
    "    RETURN:\n",
    "        path_src : string\n",
    "            Path to source from root.\n",
    "    \"\"\"\n",
    "    \n",
    "    import sys\n",
    "    import os\n",
    "\n",
    "    if fullpath_src:\n",
    "        path_src = getPath(fullpath_src)\n",
    "    elif relpath_src:\n",
    "        path_src = getPath('current', relpath_src)\n",
    "    elif parent:\n",
    "        path_src = getPath('current', '..')\n",
    "        \n",
    "    if verbose: print(\"Path to source: \" + path_src)\n",
    "    \n",
    "    sys.path.append(path_src)\n",
    "    return path_src\n",
    "\n",
    "\n",
    "path_src = path_addSrc(parent=True, verbose=True)"
   ]
  },
  {
   "cell_type": "markdown",
   "id": "f4a755e9-4f11-468e-b746-c4c12afd21b6",
   "metadata": {},
   "source": [
    "---\n",
    "## Download data\n",
    "All data available here: https://drive.google.com/drive/u/0/folders/1D8oWu05X83Xa8dKB1C_SUutBNvbJUt4n"
   ]
  },
  {
   "cell_type": "code",
   "execution_count": 26,
   "id": "9374b1d3-3ac4-4f90-9bbc-6944fa26a751",
   "metadata": {
    "tags": []
   },
   "outputs": [
    {
     "name": "stdin",
     "output_type": "stream",
     "text": [
      "The provided `path_src` parameter doesn't contain \"home\". On Linux systems, this means you might be deleting important directories. If you proceed, `path_src/data/` will be deleted. Make sure you have provided the correct path. \n",
      "\n",
      "Would you like to proceed? [y/n]  y\n"
     ]
    },
    {
     "name": "stdout",
     "output_type": "stream",
     "text": [
      "\n",
      "Data folder contents: \n",
      "\tcraters\n",
      "\tcrustal_heat_flow\n",
      "\tcrustal_thickness\n",
      "\tGRS\n",
      "\tmagnetization_depth\n",
      "\tmvn_mag\n",
      "\tREADME.txt\n"
     ]
    }
   ],
   "source": [
    "from lib.DataDownloader import DataDownloader as dd\n",
    "dd.download_folder(path_src=path_src, url=\"https://drive.google.com/drive/u/0/folders/1D8oWu05X83Xa8dKB1C_SUutBNvbJUt4n\", overwrite=True)"
   ]
  },
  {
   "cell_type": "markdown",
   "id": "254f3d11-7ec6-4cb2-b8be-06513e35c96e",
   "metadata": {},
   "source": [
    "---\n",
    "## Import crater data"
   ]
  },
  {
   "cell_type": "code",
   "execution_count": 3,
   "id": "f6a64bf2-dcfb-4b20-9fed-bbdd963f6d31",
   "metadata": {
    "tags": []
   },
   "outputs": [],
   "source": [
    "from lib.Craters import Craters as CraterClass\n",
    "Craters = CraterClass()\n",
    "\n",
    "path = getPath(path_src, 'data', 'craters', 'Catalog_Mars_Release_2020_1kmPlus_FullMorphData.csv')\n",
    "Craters.loadData(path, minDiam=70, maxDiam=1000)"
   ]
  },
  {
   "cell_type": "markdown",
   "id": "e96b4510-5742-4003-9280-b040927a26bc",
   "metadata": {},
   "source": [
    "---\n",
    "## Libraries"
   ]
  },
  {
   "cell_type": "code",
   "execution_count": 4,
   "id": "21067801-57ad-48b9-9fa0-5f0f1e707966",
   "metadata": {
    "tags": []
   },
   "outputs": [],
   "source": [
    "import numpy as np\n",
    "import matplotlib.pyplot as plt\n",
    "import math"
   ]
  },
  {
   "cell_type": "markdown",
   "id": "11cbe675-3c36-4b8f-a2a0-ca97b9a77e0d",
   "metadata": {
    "jp-MarkdownHeadingCollapsed": true,
    "tags": []
   },
   "source": [
    "---\n",
    "---\n",
    "# 1. Crustal Thickness\n",
    "---"
   ]
  },
  {
   "cell_type": "markdown",
   "id": "4c744e5d-2e64-4355-bdad-9deae1b62cd9",
   "metadata": {},
   "source": [
    "---\n",
    "## 1.1. Description\n",
    "[excerpt from `src/data/crustal_thickness/README.txt`]\n",
    "\n",
    "SOURCE:\n",
    "- Data is generated by the \"InSight Crustal Thickness Archive\" code by Mark A. Wieczorek: \n",
    "    - link: https://zenodo.org/record/6477509 (doi: 10.5281/zenodo.6477509)\n",
    "- Code is supplemental to the manuscript:\n",
    "    - Wieczorek, M. A., et al., InSight constraints on the global character of the Martian crust, Journal of Geophysical Research: Planets, 2022.\n",
    "\n",
    "PARAMETERS:\n",
    "- We use `make-grids.py` with parameters:\n",
    "    - Reference interior model = DWThot\n",
    "        - Emailed Gong about what he's using but he hasn't gotten back to me, gonna try talking to Weiczoreck at LPSC\n",
    "    - Seismic thickness at InSight landing site (km) = 30\n",
    "    - rho_north (kg/m3) = 2900\n",
    "    - rho_south (kg/m3) = 2900\n",
    "    - Grid spacing in degrees = 0.1 (see file name)"
   ]
  },
  {
   "cell_type": "markdown",
   "id": "7f94dead-dc61-4a3e-b455-d497ad1b8016",
   "metadata": {},
   "source": [
    "---\n",
    "## 1.2. Load data"
   ]
  },
  {
   "cell_type": "code",
   "execution_count": 5,
   "id": "46d4d507-e4c0-469d-8f8d-d581ba737c0f",
   "metadata": {
    "tags": []
   },
   "outputs": [],
   "source": [
    "from lib.Crust import Crust as CrustClass\n",
    "\n",
    "Crust = CrustClass()\n",
    "Crust.loadData(path_src, spacing=0.1)"
   ]
  },
  {
   "cell_type": "markdown",
   "id": "ba227128-66ba-4771-9b65-5f7b0c1bb4ac",
   "metadata": {},
   "source": [
    "---\n",
    "## 1.3. Example 1: Create (*fully interpolated*) crustal thickness map\n",
    "i.e. all crustal thickness data points come from bilinear interpolation between the 4 points closest to the coordinate in question"
   ]
  },
  {
   "cell_type": "code",
   "execution_count": 6,
   "id": "6d7e02c2-288d-4dc1-b119-53771b1c58c9",
   "metadata": {
    "tags": []
   },
   "outputs": [],
   "source": [
    "# dat = []\n",
    "\n",
    "# for lat in np.arange(-90,90,1):\n",
    "#     newline = []\n",
    "#     for clon in np.arange(0,360,1):\n",
    "#         lon = Craters.clon2lon(clon)\n",
    "#         x = Crust.getThickness(lon, lat)\n",
    "#         newline.append(x)\n",
    "#     dat.append(newline)\n",
    "\n",
    "    \n",
    "# # dat = np.asarray(dat)\n",
    "# # dat = np.ma.masked_where((dat == GRS.getNanVal()), dat)\n",
    "\n",
    "# fig = plt.figure(figsize=(12,10))\n",
    "# ax = plt.axes()\n",
    "# im = ax.imshow(dat[::-1], cmap=\"jet\")\n",
    "\n",
    "# cax = fig.add_axes([ax.get_position().x1+0.02,ax.get_position().y0,0.02,ax.get_position().height])\n",
    "# plt.colorbar(im, cax=cax)"
   ]
  },
  {
   "cell_type": "markdown",
   "id": "0c41dd55-8d6a-400d-a128-411e83a7cda5",
   "metadata": {},
   "source": [
    "We verify this by comparing it against the crustal thickness maps created by (1) [Gong & Wieczorek 2021](https://agupubs.onlinelibrary.wiley.com/doi/full/10.1029/2020JE006690), and (2) Wieczorek's crustal thickness map generator library [ctplanet](https://github.com/MarkWieczorek/ctplanet):\n",
    "\n",
    "<img src=\"https://i.imgur.com/ZOoYSBo.png\" width=800 />\n",
    "\n",
    "<img src=\"https://i.imgur.com/YE75rQS.png\" width=800 />\n"
   ]
  },
  {
   "cell_type": "markdown",
   "id": "ab60785e-08cd-4dcc-8696-b51408c59a0a",
   "metadata": {},
   "source": [
    "---\n",
    "## 1.4. Example 2: Plot crustal thickness around Henry Crater"
   ]
  },
  {
   "cell_type": "code",
   "execution_count": 7,
   "id": "9f69eb62-c933-4eed-8643-77196c07f33c",
   "metadata": {
    "tags": []
   },
   "outputs": [],
   "source": [
    "# thiscrater = Craters.getByName('Henry')\n",
    "# radius_th = Craters.km2theta(thiscrater['diam']/2)\n",
    "# scaling = 2\n",
    "\n",
    "# dat = []\n",
    "\n",
    "# for lat in np.arange(thiscrater['lat']-radius_th*scaling,thiscrater['lat']+radius_th*scaling,0.05):\n",
    "#     newline = []\n",
    "#     for lon in np.arange(thiscrater['lon']-radius_th*scaling,thiscrater['lon']+radius_th*scaling,0.05):\n",
    "#         x = Crust.getThickness(lon, lat)\n",
    "#         newline.append(x)\n",
    "#     dat.append(newline)\n",
    "\n",
    "    \n",
    "# # dat = np.asarray(dat)\n",
    "# # dat = np.ma.masked_where((dat == GRS.getNanVal()), dat)\n",
    "\n",
    "# fig = plt.figure(figsize=(10,7))\n",
    "# ax = plt.axes()\n",
    "# im = ax.imshow(dat[::-1], cmap=\"jet\")\n",
    "\n",
    "# cax = fig.add_axes([ax.get_position().x1+0.02,ax.get_position().y0,0.02,ax.get_position().height])\n",
    "# plt.colorbar(im, cax=cax)"
   ]
  },
  {
   "cell_type": "markdown",
   "id": "c6b260a5-26a1-4289-8b66-9f534d05a395",
   "metadata": {},
   "source": [
    "---\n",
    "## 1.5. Example 3: Get average crustal thickness around Henry crater"
   ]
  },
  {
   "cell_type": "code",
   "execution_count": 8,
   "id": "699ee1ed-e647-4ffc-8996-ab8c8d2801b1",
   "metadata": {
    "tags": []
   },
   "outputs": [
    {
     "data": {
      "text/plain": [
       "43.66251168960871"
      ]
     },
     "execution_count": 8,
     "metadata": {},
     "output_type": "execute_result"
    }
   ],
   "source": [
    "henry = Craters.getByName('Henry')\n",
    "radius_th = Craters.km2theta(henry['diam']/2)\n",
    "Crust.getAvgThickness(henry['lon'], henry['lat'], radius_th)"
   ]
  },
  {
   "cell_type": "raw",
   "id": "274b9f3b-39e0-48e5-bd26-535b1cf669c1",
   "metadata": {
    "tags": []
   },
   "source": [
    "henry = Craters.getByName('Henry')\n",
    "radius_th = Craters.km2theta(henry['diam']/2)\n",
    "Crust.getAvgThickness(henry['lon'], henry['lat'], radius_th*1.5) - Crust.getAvgThickness(henry['lon'], henry['lat'], radius_th)/((2*1.5)**2)"
   ]
  },
  {
   "cell_type": "markdown",
   "id": "d238384d-336e-4e91-b7f3-33d07047e140",
   "metadata": {},
   "source": [
    "---\n",
    "## 1.6. Some more cool plots"
   ]
  },
  {
   "cell_type": "markdown",
   "id": "43cf2140-d1e3-478c-8152-88b176d136d5",
   "metadata": {},
   "source": [
    "### Lyot"
   ]
  },
  {
   "cell_type": "code",
   "execution_count": 9,
   "id": "5a642099-4564-4e6d-9f49-be9a698309e5",
   "metadata": {
    "tags": []
   },
   "outputs": [],
   "source": [
    "# thiscrater = Craters.getByName('Lyot')\n",
    "# radius_th = Craters.km2theta(thiscrater['diam']/2)\n",
    "# scaling = 3\n",
    "\n",
    "# dat = []\n",
    "\n",
    "# for lat in np.arange(thiscrater['lat']-radius_th*scaling,thiscrater['lat']+radius_th*scaling,0.1):\n",
    "#     newline = []\n",
    "#     for lon in np.arange(thiscrater['lon']-radius_th*scaling,thiscrater['lon']+radius_th*scaling,0.1):\n",
    "#         x = Crust.getThickness(lon, lat)\n",
    "#         newline.append(x)\n",
    "#     dat.append(newline)\n",
    "\n",
    "    \n",
    "# # dat = np.asarray(dat)\n",
    "# # dat = np.ma.masked_where((dat == GRS.getNanVal()), dat)\n",
    "\n",
    "# fig = plt.figure(figsize=(10,7))\n",
    "# ax = plt.axes()\n",
    "# im = ax.imshow(dat[::-1], cmap=\"jet\")\n",
    "\n",
    "# cax = fig.add_axes([ax.get_position().x1+0.02,ax.get_position().y0,0.02,ax.get_position().height])\n",
    "# plt.colorbar(im, cax=cax)"
   ]
  },
  {
   "cell_type": "markdown",
   "id": "8281fea0-6662-4dca-953f-1f7d410f7a5d",
   "metadata": {},
   "source": [
    "### Newton"
   ]
  },
  {
   "cell_type": "code",
   "execution_count": 10,
   "id": "1d77e9c1-1783-403a-8acd-9435910cc414",
   "metadata": {
    "tags": []
   },
   "outputs": [],
   "source": [
    "# thiscrater = Craters.getByName('Newton')\n",
    "# radius_th = Craters.km2theta(thiscrater['diam']/2)\n",
    "# scaling = 3\n",
    "\n",
    "# dat = []\n",
    "\n",
    "# for lat in np.arange(thiscrater['lat']-radius_th*scaling,thiscrater['lat']+radius_th*scaling,0.1):\n",
    "#     newline = []\n",
    "#     for lon in np.arange(thiscrater['lon']-radius_th*scaling,thiscrater['lon']+radius_th*scaling,0.1):\n",
    "#         x = Crust.getThickness(lon, lat)\n",
    "#         newline.append(x)\n",
    "#     dat.append(newline)\n",
    "\n",
    "    \n",
    "# # dat = np.asarray(dat)\n",
    "# # dat = np.ma.masked_where((dat == GRS.getNanVal()), dat)\n",
    "\n",
    "# fig = plt.figure(figsize=(10,7))\n",
    "# ax = plt.axes()\n",
    "# im = ax.imshow(dat[::-1], cmap=\"jet\")\n",
    "\n",
    "# cax = fig.add_axes([ax.get_position().x1+0.02,ax.get_position().y0,0.02,ax.get_position().height])\n",
    "# plt.colorbar(im, cax=cax)"
   ]
  },
  {
   "cell_type": "markdown",
   "id": "2d8d4569-ccf4-4d06-9d39-edd81d0b5d8f",
   "metadata": {},
   "source": [
    "### Tikhonravov"
   ]
  },
  {
   "cell_type": "code",
   "execution_count": 11,
   "id": "ed6c37b7-6346-4569-8954-fad40c13e27f",
   "metadata": {
    "tags": []
   },
   "outputs": [],
   "source": [
    "# thiscrater = Craters.getByName(\"Tikhonravov\")\n",
    "# radius_th = Craters.km2theta(thiscrater['diam']/2)\n",
    "# scaling = 3\n",
    "\n",
    "# dat = []\n",
    "\n",
    "# for lat in np.arange(thiscrater['lat']-radius_th*scaling,thiscrater['lat']+radius_th*scaling,0.1):\n",
    "#     newline = []\n",
    "#     for lon in np.arange(thiscrater['lon']-radius_th*scaling,thiscrater['lon']+radius_th*scaling,0.1):\n",
    "#         x = Crust.getThickness(lon, lat)\n",
    "#         newline.append(x)\n",
    "#     dat.append(newline)\n",
    "\n",
    "    \n",
    "# # dat = np.asarray(dat)\n",
    "# # dat = np.ma.masked_where((dat == GRS.getNanVal()), dat)\n",
    "\n",
    "# fig = plt.figure(figsize=(10,7))\n",
    "# ax = plt.axes()\n",
    "# im = ax.imshow(dat[::-1], cmap=\"jet\")\n",
    "\n",
    "# cax = fig.add_axes([ax.get_position().x1+0.02,ax.get_position().y0,0.02,ax.get_position().height])\n",
    "# plt.colorbar(im, cax=cax)"
   ]
  },
  {
   "cell_type": "markdown",
   "id": "19356b04-1d76-4aed-8000-9477dfcebb32",
   "metadata": {},
   "source": [
    "### Gusev"
   ]
  },
  {
   "cell_type": "code",
   "execution_count": 12,
   "id": "61cf45f5-06db-44fb-95cd-6d28b2e981a2",
   "metadata": {
    "tags": []
   },
   "outputs": [],
   "source": [
    "# thiscrater = Craters.getByName(\"Gusev\")\n",
    "# radius_th = Craters.km2theta(thiscrater['diam']/2)\n",
    "# scaling = 3\n",
    "\n",
    "# dat = []\n",
    "\n",
    "# for lat in np.arange(thiscrater['lat']-radius_th*scaling,thiscrater['lat']+radius_th*scaling,0.1):\n",
    "#     newline = []\n",
    "#     for lon in np.arange(thiscrater['lon']-radius_th*scaling,thiscrater['lon']+radius_th*scaling,0.1):\n",
    "#         x = Crust.getThickness(lon, lat)\n",
    "#         newline.append(x)\n",
    "#     dat.append(newline)\n",
    "\n",
    "    \n",
    "# # dat = np.asarray(dat)\n",
    "# # dat = np.ma.masked_where((dat == GRS.getNanVal()), dat)\n",
    "\n",
    "# fig = plt.figure(figsize=(10,7))\n",
    "# ax = plt.axes()\n",
    "# im = ax.imshow(dat[::-1], cmap=\"jet\")\n",
    "\n",
    "# cax = fig.add_axes([ax.get_position().x1+0.02,ax.get_position().y0,0.02,ax.get_position().height])\n",
    "# plt.colorbar(im, cax=cax)"
   ]
  },
  {
   "cell_type": "markdown",
   "id": "3546e832-0327-4dc7-8e1e-ee7b83177a36",
   "metadata": {
    "jp-MarkdownHeadingCollapsed": true,
    "tags": []
   },
   "source": [
    "---\n",
    "---\n",
    "# 2. Heat Flow\n",
    "---"
   ]
  },
  {
   "cell_type": "markdown",
   "id": "1ea4a93d-a0dd-4708-8391-07f0d13a8c75",
   "metadata": {},
   "source": [
    "---\n",
    "## 2.1. Description from paper\n",
    "\n",
    "[10] The final term in equation 1 is $H( \\theta ,\\phi ,t)$, or heat production per unit mass, whose calculation is more involved as a function of position and time. The lithosphere of Mars contains certain radioactive isotopes $^{235}\\text{U}$, $^{238}\\text{U}$, $^{232}\\text{Th}$, and $^{40}\\text{K}$ which produce upward-flowing heat as they decay over time. This accounts for the majority of conductive heat loss to the surface for both Mars and Earth. The equation for $H$ is given by\n",
    "\\begin{equation}\n",
    "H( \\theta ,\\phi ,t) =\\sum _{X} f_{X} \\cdot C_{X}( \\theta ,\\phi ) \\cdot H_{X} \\cdot \\left(\\frac{t\\cdot \\ln 2}{\\tau _{X}}\\right) ,\n",
    "\\end{equation}\n",
    "for $X\\in \\left\\{^{235}\\text{U} ,^{238}\\text{U} ,^{232}\\text{Th} ,^{40}\\text{K}\\right\\}$, where $f_{X}$ is the isotopic fraction of element $X$; $H_{X}$ is the heat release rate constant of element $X$; and $\\tau _{X}$ is the half-life of element $X$. All three of these values are well-defined constants discussed in numerous prior works \\cite{temp_id_992458856131005, turcotte2014schubert, temp_id_9542413773852181}. The first dependent variable in equation 2 is $t$, which is how long ago we wish to calculate $H$ relative to present day (this is necessary because radioactive heat-producing elements will decrease in abundance from their initial concentrations over time as they decay). This $t$ is taken to be the previously determined time of formation of a crater. \n",
    "\n",
    "\n",
    "\n",
    "[11] The second dependent quantity in equation 2 is $C_{X}( \\theta ,\\phi )$, which represents the concentration by mass of element $X$ at some position. To get this value, we used $5^\\circ \\times 5^\\circ $ chemical abundance maps of the Martian shallow subsurface derived from spectroscopy by the Mars Odyssey Gamma Ray Spectrometer (GRS) Suite \\cite{temp_id_17328796999934304}. Specifically, we extract near-surface elemental concentrations of $\\text{K}$ and $\\text{Th}$ at the four \"pixels\" closest to the crater, and use weighted bilinear interpolation to estimate the concentrations at the exact coordinates of the crater. The elemental concentration of $\\text{U}$ can then be calculated using a cosmochemically constant $\\text{Th} /\\text{U}$ mass ratio of $3.8$. At this point, it's important to note that the GRS chemical maps only represent the top tens of centimeters of Martian surface, and are therefore heavily influenced by near-surface regolith, ice, and dust deposits. However, previous studies provide strong reasons in defense of vertically homogeneous distribution of these heat producing elements given certain adjustments \\cite{temp_id_17328796999934304, temp_id_9195588768017229}. To make these $\\text{K} ,\\text{Th} ,$ and $\\text{U}$ measurements accurately represent the bulk chemistry of the entire Martian upper lithosphere, we must renormalize our values to a volatile-free basis. This is done by using the same methods and data suite to extract near-surface elemental concentrations of $\\text{Cl} ,\\text{H}_{2}\\text{O} ,$ and $\\text{S}$ at the desired coordinate, summing these to find the net concentration by mass of volatiles denoted as $V$, and then multiplying the $\\text{K} ,\\text{Th} ,$ and $\\text{U}$ measurements by $\\frac{1}{1-V}$ \\ each. We note that at high latitudes, water ice saturating regolith pore space overwhelms the signatures of other elements in gamma spectra, preventing GRS instruments from collecting meaningful data. "
   ]
  },
  {
   "cell_type": "markdown",
   "id": "85301c05-e2f8-44a3-bcfb-a9abcbf801c4",
   "metadata": {},
   "source": [
    "---\n",
    "## 2.2 GRS concentrations (*fully interpolated*)"
   ]
  },
  {
   "cell_type": "code",
   "execution_count": 13,
   "id": "15f5a3c0-416d-43f7-9609-1cbed7a28c8d",
   "metadata": {
    "tags": []
   },
   "outputs": [],
   "source": [
    "from lib.GRS import GRS as GRSClass\n",
    "\n",
    "GRS = GRSClass(getPath(path_src, \"data/GRS/\"))\n",
    "GRS.loadData()"
   ]
  },
  {
   "cell_type": "markdown",
   "id": "f0327717-e36c-42f3-b382-dfc64e1a5512",
   "metadata": {},
   "source": [
    "### Potassium"
   ]
  },
  {
   "cell_type": "code",
   "execution_count": 14,
   "id": "0b78a2d4-659e-472e-b6f4-e3c5fba2ca9e",
   "metadata": {
    "tags": []
   },
   "outputs": [],
   "source": [
    "# dat = []\n",
    "\n",
    "# for lat in np.arange(-75,75,1):\n",
    "#     newline = []\n",
    "#     for lon in np.arange(-180,180,1):\n",
    "#         x = GRS.getConcentration(lon, lat, 'k', normalized=False)\n",
    "#         newline.append(x)\n",
    "#     dat.append(newline)\n",
    "\n",
    "    \n",
    "# dat = np.asarray(dat)\n",
    "# dat = np.ma.masked_where((dat == GRS.getNanVal()), dat)\n",
    "\n",
    "# fig = plt.figure(figsize=(10,7))\n",
    "# ax = plt.axes()\n",
    "# im = ax.imshow(dat[::-1], cmap=\"jet\")\n",
    "\n",
    "# cax = fig.add_axes([ax.get_position().x1+0.02,ax.get_position().y0,0.02,ax.get_position().height])\n",
    "# plt.colorbar(im, cax=cax)"
   ]
  },
  {
   "cell_type": "markdown",
   "id": "a47fcd10-2da1-4e22-8841-ef94f4008f36",
   "metadata": {},
   "source": [
    "Comparison with [GRS maps](https://pds-geosciences.wustl.edu/ody/ody-m-grs-5-elements-v1/odgm_xxxx/browse/browse.htm).\n",
    "\n",
    "<img src=\"https://pds-geosciences.wustl.edu/ody/ody-m-grs-5-elements-v1/odgm_xxxx/browse/k_conc_map.jpg\" width=800 />"
   ]
  },
  {
   "cell_type": "markdown",
   "id": "85286b96-badf-446b-bf3c-c39d251e68e6",
   "metadata": {},
   "source": [
    "### Thorium"
   ]
  },
  {
   "cell_type": "code",
   "execution_count": 15,
   "id": "8b6328a8-12d0-4b1d-b4fb-a09048e0f206",
   "metadata": {
    "tags": []
   },
   "outputs": [],
   "source": [
    "# dat = []\n",
    "\n",
    "# for lat in np.arange(-75,75,1):\n",
    "#     newline = []\n",
    "#     for lon in np.arange(-180,180,1):\n",
    "#         x = GRS.getConcentration(lon, lat, 'th', normalized=False)\n",
    "#         newline.append(x)\n",
    "#     dat.append(newline)\n",
    "\n",
    "    \n",
    "# dat = np.asarray(dat)\n",
    "# dat = np.ma.masked_where((dat == GRS.getNanVal()), dat)\n",
    "\n",
    "# fig = plt.figure(figsize=(10,7))\n",
    "# ax = plt.axes()\n",
    "# im = ax.imshow(dat[::-1], cmap=\"jet\")\n",
    "\n",
    "# cax = fig.add_axes([ax.get_position().x1+0.02,ax.get_position().y0,0.02,ax.get_position().height])\n",
    "# plt.colorbar(im, cax=cax)"
   ]
  },
  {
   "cell_type": "markdown",
   "id": "c0c13ae8-b193-4972-9ec3-557097ddf6d2",
   "metadata": {},
   "source": [
    "Comparison with [GRS maps](https://pds-geosciences.wustl.edu/ody/ody-m-grs-5-elements-v1/odgm_xxxx/browse/browse.htm).\n",
    "\n",
    "<img src=\"https://pds-geosciences.wustl.edu/ody/ody-m-grs-5-elements-v1/odgm_xxxx/browse/th_conc_map.jpg\" width=800 />"
   ]
  },
  {
   "cell_type": "markdown",
   "id": "7e4680f5-715d-4064-abfb-e29bdd5bf5c9",
   "metadata": {},
   "source": [
    "--- \n",
    "## 2.3. Crustal heat production map\n",
    "Calculate heat production rate in lithosphere [W/kg?] at a specific coordinate/time due to decay of radiogenic heat producing elements (U238, U235, Th232, K40).\n",
    "\\begin{equation}\n",
    "H( \\theta ,\\phi ,t) =\\sum _{X} f_{X} \\cdot C_{X}( \\theta ,\\phi ) \\cdot H_{X} \\cdot \\left(\\frac{t\\cdot \\ln 2}{\\tau _{X}}\\right) ,\n",
    "\\end{equation}\n",
    "for $X\\in \\left\\{^{235}\\text{U} ,^{238}\\text{U} ,^{232}\\text{Th} ,^{40}\\text{K}\\right\\}$\n",
    "\n",
    "**NOTE: We are using t = 3.5 Ga**"
   ]
  },
  {
   "cell_type": "code",
   "execution_count": 16,
   "id": "94cf9180-4aa4-4c1e-91a3-e1af1956f37b",
   "metadata": {
    "tags": []
   },
   "outputs": [],
   "source": [
    "from lib.HeatCalculator import HeatCalculator as HeatCalculatorClass\n",
    "\n",
    "HeatCalculator = HeatCalculatorClass(GRS, Crust)"
   ]
  },
  {
   "cell_type": "markdown",
   "id": "ae55795d-c5bc-4f6b-93ec-92c2d9a2abaf",
   "metadata": {},
   "source": [
    "### WITHOUT volatile normalization"
   ]
  },
  {
   "cell_type": "code",
   "execution_count": 17,
   "id": "51fbc9c6-230f-403b-a847-a38def235cec",
   "metadata": {
    "tags": []
   },
   "outputs": [],
   "source": [
    "# dat = []\n",
    "\n",
    "# for lat in np.arange(-75,75,2):\n",
    "#     newline = []\n",
    "#     for clon in np.arange(0,360,2):\n",
    "#         lon = Craters.clon2lon(clon)\n",
    "#         H = HeatCalculator.calc_H(lon, lat, t=3.5e9, volatile_adjusted=False)\n",
    "#         x = H\n",
    "#         newline.append(x)\n",
    "#     dat.append(newline)\n",
    "\n",
    "    \n",
    "# dat = np.asarray(dat)\n",
    "# dat = np.ma.masked_where((dat == GRS.getNanVal()), dat)\n",
    "\n",
    "# fig = plt.figure(figsize=(12,10))\n",
    "# ax = plt.axes()\n",
    "# im = ax.imshow(dat[::-1], cmap=\"jet\")\n",
    "\n",
    "# cax = fig.add_axes([ax.get_position().x1+0.02,ax.get_position().y0,0.02,ax.get_position().height])\n",
    "# plt.colorbar(im, cax=cax)"
   ]
  },
  {
   "cell_type": "markdown",
   "id": "aa5ff52d-4e8e-4d5b-b2c3-157a8eac52f5",
   "metadata": {},
   "source": [
    "### WITH volatile normalization"
   ]
  },
  {
   "cell_type": "code",
   "execution_count": 18,
   "id": "7df4d427-16d2-4ab6-a2b2-89a09fdc3515",
   "metadata": {
    "tags": []
   },
   "outputs": [],
   "source": [
    "# dat = []\n",
    "\n",
    "# for lat in np.arange(-75,75,2):\n",
    "#     newline = []\n",
    "#     for clon in np.arange(0,360,2):\n",
    "#         lon = Craters.clon2lon(clon)\n",
    "#         H = HeatCalculator.calc_H(lon, lat, t=3.5e9, volatile_adjusted=True)\n",
    "#         x = H\n",
    "#         newline.append(x)\n",
    "#     dat.append(newline)\n",
    "\n",
    "    \n",
    "# dat = np.asarray(dat)\n",
    "# dat = np.ma.masked_where((dat == GRS.getNanVal()), dat)\n",
    "\n",
    "# fig = plt.figure(figsize=(12,10))\n",
    "# ax = plt.axes()\n",
    "# im = ax.imshow(dat[::-1], cmap=\"jet\")\n",
    "\n",
    "# cax = fig.add_axes([ax.get_position().x1+0.02,ax.get_position().y0,0.02,ax.get_position().height])\n",
    "# plt.colorbar(im, cax=cax)"
   ]
  },
  {
   "cell_type": "markdown",
   "id": "9a188e20-66ba-4877-8bd2-b49730caa3c6",
   "metadata": {},
   "source": [
    "---\n",
    "## 2.4. Crustal heat flow map\n",
    "\n",
    "Watts/m^2, calculated with $\\rho \\cdot H(\\theta,\\phi,t) \\cdot z_{\\text{crust}}(\\theta, \\phi)$\n",
    "\n",
    "- (we assume constant $\\rho = 2900$)"
   ]
  },
  {
   "cell_type": "code",
   "execution_count": 19,
   "id": "39dcf104-0885-4fa8-9e2a-2b49acd58e07",
   "metadata": {
    "tags": []
   },
   "outputs": [],
   "source": [
    "# dat = []\n",
    "\n",
    "# for lat in np.arange(-75,75,2):\n",
    "#     newline = []\n",
    "#     for clon in np.arange(0,360,2):\n",
    "#         lon = Craters.clon2lon(clon)\n",
    "        \n",
    "#         rho = Crust.getDensity()\n",
    "#         H = HeatCalculator.calc_H(lon, lat, t=3.5e9, volatile_adjusted=True)\n",
    "#         z_crust = Crust.getThickness(lon, lat) * 1000\n",
    "        \n",
    "#         x = (rho * H * z_crust)*1000 # convert to mW!!!\n",
    "#         newline.append(x)\n",
    "#     dat.append(newline)\n",
    "\n",
    "    \n",
    "# dat = np.asarray(dat)\n",
    "# # dat = np.ma.masked_where((dat == GRS.getNanVal()), dat)\n",
    "# dat = np.ma.masked_where((dat < 0), dat)\n",
    "\n",
    "# fig = plt.figure(figsize=(12,10))\n",
    "# ax = plt.axes()\n",
    "# im = ax.imshow(dat[::-1], cmap=\"jet\")\n",
    "\n",
    "# cax = fig.add_axes([ax.get_position().x1+0.02,ax.get_position().y0,0.02,ax.get_position().height])\n",
    "# plt.colorbar(im, cax=cax)"
   ]
  },
  {
   "cell_type": "markdown",
   "id": "90f08cb2-17c1-4488-bfd1-b2a9d3c56ecb",
   "metadata": {},
   "source": [
    "### Comparison with Luju's map"
   ]
  },
  {
   "cell_type": "code",
   "execution_count": 20,
   "id": "7aecad3f-0367-4d4a-b840-903e1584df43",
   "metadata": {
    "tags": []
   },
   "outputs": [
    {
     "data": {
      "text/plain": [
       "<matplotlib.colorbar.Colorbar at 0x151219c5a50>"
      ]
     },
     "execution_count": 20,
     "metadata": {},
     "output_type": "execute_result"
    },
    {
     "data": {
      "image/png": "[encoded data removed]",
      "text/plain": [
       "<Figure size 1000x700 with 2 Axes>"
      ]
     },
     "metadata": {},
     "output_type": "display_data"
    }
   ],
   "source": [
    "import scipy.io as sio\n",
    "\n",
    "# matfile = sio.loadmat(\"HcrGRS_Hm30.mat\")\n",
    "# H_cr = matfile['hf_m30']\n",
    "\n",
    "matfile = sio.loadmat(getPath(path_src, 'data', 'crustal_heat_flow', 'HcrGRS_Hm0.mat'))\n",
    "H_cr = matfile['nhf']\n",
    "\n",
    "\n",
    "fig = plt.figure(figsize=(10,7))\n",
    "ax = plt.axes()\n",
    "im = ax.imshow(H_cr[35:150], cmap=\"jet\")\n",
    "\n",
    "cax = fig.add_axes([ax.get_position().x1+0.02,ax.get_position().y0,0.02,ax.get_position().height])\n",
    "plt.colorbar(im, cax=cax)"
   ]
  },
  {
   "cell_type": "markdown",
   "id": "bb183a24-fd99-4849-8c5b-6da7b56ada9e",
   "metadata": {
    "jp-MarkdownHeadingCollapsed": true,
    "tags": []
   },
   "source": [
    "---\n",
    "# 3. Curie Depths"
   ]
  },
  {
   "cell_type": "code",
   "execution_count": 21,
   "id": "9205a15a-0cb7-4f04-acbe-8ba3e3763307",
   "metadata": {
    "tags": []
   },
   "outputs": [],
   "source": [
    "from lib.HeatCalculator import HeatCalculator as HeatCalculatorClass\n",
    "\n",
    "HeatCalculator = HeatCalculatorClass(GRS, Crust)"
   ]
  },
  {
   "cell_type": "code",
   "execution_count": 23,
   "id": "6e96ec8b-9830-42de-8aab-f5bf78b46e14",
   "metadata": {},
   "outputs": [
    {
     "data": {
      "text/plain": [
       "[<matplotlib.lines.Line2D at 0x15121053350>]"
      ]
     },
     "execution_count": 23,
     "metadata": {},
     "output_type": "execute_result"
    },
    {
     "data": {
      "image/png": "[encoded data removed]",
      "text/plain": [
       "<Figure size 640x480 with 1 Axes>"
      ]
     },
     "metadata": {},
     "output_type": "display_data"
    }
   ],
   "source": [
    "# thiscrater = Craters.getByName('Henry')\n",
    "\n",
    "# depths_km, temps_C = HeatCalculator.calc_TempDepthProfile(thiscrater['lon'], thiscrater['lat'], thiscrater['age'], 30, 100)\n",
    "\n",
    "# plt.plot(depths_km, temps_C)"
   ]
  },
  {
   "cell_type": "code",
   "execution_count": 24,
   "id": "3cd73864-61fb-4c69-b8cd-e25990d0b687",
   "metadata": {
    "tags": []
   },
   "outputs": [
    {
     "data": {
      "text/plain": [
       "<matplotlib.colorbar.Colorbar at 0x15120ea5a50>"
      ]
     },
     "execution_count": 24,
     "metadata": {},
     "output_type": "execute_result"
    },
    {
     "data": {
      "image/png": "[encoded data removed]",
      "text/plain": [
       "<Figure size 1200x1000 with 2 Axes>"
      ]
     },
     "metadata": {},
     "output_type": "display_data"
    }
   ],
   "source": [
    "# dat = []\n",
    "\n",
    "# for lat in np.arange(-75,75,2):\n",
    "#     newline = []\n",
    "#     for clon in np.arange(0,360,2):\n",
    "#         lon = Craters.clon2lon(clon)\n",
    "#         x = HeatCalculator.calc_CurieDepths(lon, lat, t=3.5e9, q_b_mW=30, curie_temps=580, volatile_adjusted=True)\n",
    "#         newline.append(x)\n",
    "#     dat.append(newline)\n",
    "\n",
    "    \n",
    "# dat = np.asarray(dat)\n",
    "# dat = np.ma.masked_where((dat == GRS.getNanVal()), dat)\n",
    "\n",
    "# fig = plt.figure(figsize=(12,10))\n",
    "# ax = plt.axes()\n",
    "# im = ax.imshow(dat[::-1], cmap=\"jet\")\n",
    "\n",
    "# cax = fig.add_axes([ax.get_position().x1+0.02,ax.get_position().y0,0.02,ax.get_position().height])\n",
    "# plt.colorbar(im, cax=cax)"
   ]
  },
  {
   "cell_type": "code",
   "execution_count": 25,
   "id": "319f428a-70ee-4867-bfff-af34deca5e91",
   "metadata": {
    "tags": []
   },
   "outputs": [
    {
     "data": {
      "text/plain": [
       "<matplotlib.colorbar.Colorbar at 0x15120c23cd0>"
      ]
     },
     "execution_count": 25,
     "metadata": {},
     "output_type": "execute_result"
    },
    {
     "data": {
      "image/png": "[encoded data removed]",
      "text/plain": [
       "<Figure size 1000x700 with 2 Axes>"
      ]
     },
     "metadata": {},
     "output_type": "display_data"
    }
   ],
   "source": [
    "# thiscrater = Craters.getByName('Henry')\n",
    "# radius_th = Craters.km2theta(thiscrater['diam']/2)\n",
    "# scaling = 2\n",
    "\n",
    "# dat = []\n",
    "\n",
    "# for lat in np.arange(thiscrater['lat']-radius_th*scaling,thiscrater['lat']+radius_th*scaling,0.05):\n",
    "#     newline = []\n",
    "#     for lon in np.arange(thiscrater['lon']-radius_th*scaling,thiscrater['lon']+radius_th*scaling,0.05):\n",
    "#         x = HeatCalculator.calc_CurieDepths(lon, lat, t=3.5e9, q_b_mW=30, curie_temps=580, volatile_adjusted=True)\n",
    "#         newline.append(x)\n",
    "#     dat.append(newline)\n",
    "\n",
    "    \n",
    "# # dat = np.asarray(dat)\n",
    "# # dat = np.ma.masked_where((dat == GRS.getNanVal()), dat)\n",
    "\n",
    "# fig = plt.figure(figsize=(10,7))\n",
    "# ax = plt.axes()\n",
    "# im = ax.imshow(dat[::-1], cmap=\"jet\")\n",
    "\n",
    "# cax = fig.add_axes([ax.get_position().x1+0.02,ax.get_position().y0,0.02,ax.get_position().height])\n",
    "# plt.colorbar(im, cax=cax)"
   ]
  },
  {
   "cell_type": "markdown",
   "id": "9fc58660-0efc-48fb-99a0-aa7e315e64d3",
   "metadata": {
    "tags": []
   },
   "source": [
    "---\n",
    "# 4. Impact Demag"
   ]
  },
  {
   "cell_type": "code",
   "execution_count": null,
   "id": "c1b4fc39-b4a6-4c62-a543-6754de066529",
   "metadata": {},
   "outputs": [],
   "source": [
    "def calc_P(diameter_km, r_km, z_km):\n",
    "    \n",
    "    ## unit conversions\n",
    "    diameter_m = diameter_km * 1000\n",
    "    r_m = r_km * 1000 # horizontal distance from impact site\n",
    "    z_m = z_km * 1000 # depth from floor of crater (?)\n",
    "    \n",
    "    \n",
    "    ## start complicated math shit -- NOTE THAT EVERYTHING IS IN SI, I.E. METERS NOT KILOMETERS!!!\n",
    "    \n",
    "    diam_obs = diameter_m # observed crater diameter\n",
    "    diam_star = 7 * 1000 # transition diameter from simple to complex crater, assumed 7km for mars\n",
    "    diam_trans = 0.7576 * (diam_obs ** 0.921) * (diam_star ** 0.079)\n",
    "    # print(diam_trans / 1000)\n",
    "    \n",
    "    v_proj = 10 * 1000 # impact velocity, varies from 8-12 km/s, assumed 10 km/s\n",
    "    g = 3.721 # surface gravity\n",
    "    E = ((diam_trans * v_proj**0.09 * g**0.22)/(0.2212)) ** (1/0.26) # energy of impactor\n",
    "    \n",
    "    rho = 2900 # density of impactor, assumed 2900 kg/m^3 for basaltic\n",
    "    r_proj = ((3 * E)/(2 * math.pi * rho * v_proj**2))**(1/3) # radius of impactor, assumed to be spherical basaltic projectile\n",
    "    \n",
    "    R_0 = 0.75 * r_proj # radius of isobaric core, ~70% of projectile radius\n",
    "    \n",
    "    C_basalt = 3.5 * 1000 # bulk speed of sound in material, assumed 3.5 km/s for kinosaki basalt\n",
    "    S_basalt = 1.5 # shock parameter of material, assumed 1.5 for kinosaki basalt\n",
    "    \n",
    "    P_0 = 0.25 * rho * v_proj * (2*C_basalt + S_basalt*v_proj) # isobaric pressure (within isobaric core)\n",
    "    \n",
    "    R_direct = math.sqrt( (z_m - R_0)**2 + r_m**2 ) # distance travelled by direct pressure waves\n",
    "    R_reflect = math.sqrt( (z_m + R_0)**2 + r_m**2 ) # distance travelled by reflected pressure waves\n",
    "    \n",
    "    tau = (R_reflect - R_direct) / C_basalt # time delay between arrival of initial and reflected pressure waves\n",
    "    tau_rise = r_proj / v_proj # time rise (?)\n",
    "    \n",
    "    def naive_P(this_r):\n",
    "        if (this_r <= R_0):\n",
    "            P = P_0\n",
    "        else:        \n",
    "            n = 1.87 # exponential decay constant, assumed invariant with distance from impact\n",
    "            # P = P_0 * ((this_r / R_0) ** -n) # for some reason this blows up ????? so i use the shahnas equation instead lol\n",
    "            P = rho * (0.5*v_proj) * (C_basalt + S_basalt * (0.5*v_proj) * (R_0/this_r)**n ) * (R_0/this_r)**n\n",
    "        return P\n",
    "    \n",
    "    if (tau > tau_rise):\n",
    "        P_eff = naive_P(R_direct)\n",
    "    else: # reduced peak pressure due to interference of waves\n",
    "        P_eff = naive_P(R_direct) - naive_P(R_reflect) * (1 - (tau / tau_rise)) \n",
    "        \n",
    "    P_eff = P_eff * 1e-9 # adjust to units of gigapascals\n",
    "\n",
    "    return P_eff"
   ]
  },
  {
   "cell_type": "markdown",
   "id": "4fa3cd66-b4d7-4e78-8ada-f35814f28494",
   "metadata": {},
   "source": [
    "---\n",
    "# 5. Mag Depth"
   ]
  },
  {
   "cell_type": "code",
   "execution_count": 41,
   "id": "504e8f8b-de53-421e-8dc1-43afa5a4308e",
   "metadata": {
    "tags": []
   },
   "outputs": [
    {
     "data": {
      "text/plain": [
       "(412, 6)"
      ]
     },
     "execution_count": 41,
     "metadata": {},
     "output_type": "execute_result"
    }
   ],
   "source": [
    "dat = getPath(path_src,'data','magnetization_depth','20_17_8_134_150.dat')\n",
    "dat = np.loadtxt(dat)\n",
    "dat.shape"
   ]
  },
  {
   "cell_type": "code",
   "execution_count": 42,
   "id": "e153b044-664d-4417-a86c-85a5a63a7f0a",
   "metadata": {
    "tags": []
   },
   "outputs": [
    {
     "data": {
      "text/plain": [
       "(412, 3)"
      ]
     },
     "execution_count": 42,
     "metadata": {},
     "output_type": "execute_result"
    }
   ],
   "source": [
    "dat = dat[:,[0,1,3]]\n",
    "dat.shape"
   ]
  },
  {
   "cell_type": "code",
   "execution_count": null,
   "id": "d1ba0dcf-44d5-4454-aa05-12398e5e59ab",
   "metadata": {
    "tags": []
   },
   "outputs": [],
   "source": []
  }
 ],
 "metadata": {
  "kernelspec": {
   "display_name": "Python 3 (ipykernel)",
   "language": "python",
   "name": "python3"
  },
  "language_info": {
   "codemirror_mode": {
    "name": "ipython",
    "version": 3
   },
   "file_extension": ".py",
   "mimetype": "text/x-python",
   "name": "python",
   "nbconvert_exporter": "python",
   "pygments_lexer": "ipython3",
   "version": "3.11.0"
  },
  "toc-autonumbering": false,
  "toc-showtags": false
 },
 "nbformat": 4,
 "nbformat_minor": 5
}
