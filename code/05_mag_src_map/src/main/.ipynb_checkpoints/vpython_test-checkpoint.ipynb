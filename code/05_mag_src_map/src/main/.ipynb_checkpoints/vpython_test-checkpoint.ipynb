{
 "cells": [
  {
   "cell_type": "markdown",
   "id": "b84d510e-cb0d-41df-8968-25d55fbc2e9a",
   "metadata": {},
   "source": [
    "Written by Zain Eris Kamal (zain.eris.kamal@rutgers.edu) on May 3, 2023.\n",
    "\n",
    "Context:\n",
    "- There's currently a satellite orbiting Mars called MAVEN, which has a magnetometer that measures magnetic fields. In order for this magnetometer to accurately measure the magnetic field of the crust, the satellite must be on the \"night side\" or \"shadow\" of the planet (approximately, see magnetotail studies). This is because highly energetic particles ejected from the Sun (called \"solar wind\") can create a plasma sheath around the planet that can interfere with the magnetic field measurements. \n",
    "    - Sample animation here: https://en.wikipedia.org/wiki/File:Animati3.gif\n",
    "\n",
    "Problem:\n",
    "- Currently, we filter \"nightside\" data by only looking at data collected between 20:00—09:00 according to the satellite's clock. However, this is in UTC, not Mars time. Lol.\n",
    "\n",
    "Solution:\n",
    "- Using the positions of the Sun, Mars, and MAVEN, we can geometrically determine when MAVEN is in the \"shadow\" of Mars. Another way to think about this is if you shoot a ray from the Sun to MAVEN, does it intersect Mars?\n",
    "\n",
    "Conclusion:\n",
    "- I use VPython to animate a simple star/planet/satellite scenario, which validates whether my vector math is correct. \n",
    "- It works: https://files.catbox.moe/7lngm4.mp4\n",
    "\n",
    "Future:\n",
    "- Use this vector math on actual MAVEN data. Maybe double-check with VPython.\n",
    "- Should I do these calculations with VPython or numpy? VPython provides really strong vector object and operations. See bottom-most cells for how I've implemented some of these operations in simple math.\n",
    "\n",
    "---"
   ]
  },
  {
   "cell_type": "code",
   "execution_count": 32,
   "id": "d1ae1214-7abe-45cd-8a27-d7a635e67be4",
   "metadata": {
    "tags": []
   },
   "outputs": [],
   "source": [
    "import numpy as np"
   ]
  },
  {
   "cell_type": "code",
   "execution_count": 72,
   "id": "78b37cac-fdec-46b2-b22b-805ad83b4592",
   "metadata": {
    "tags": []
   },
   "outputs": [
    {
     "data": {
      "text/html": [
       "<div id=\"glowscript\" class=\"glowscript\"></div>"
      ],
      "text/plain": [
       "<IPython.core.display.HTML object>"
      ]
     },
     "metadata": {},
     "output_type": "display_data"
    },
    {
     "data": {
      "application/javascript": [
       "if (typeof Jupyter !== \"undefined\") { window.__context = { glowscript_container: $(\"#glowscript\").removeAttr(\"id\")};}else{ element.textContent = ' ';}"
      ],
      "text/plain": [
       "<IPython.core.display.Javascript object>"
      ]
     },
     "metadata": {},
     "output_type": "display_data"
    },
    {
     "ename": "KeyboardInterrupt",
     "evalue": "",
     "output_type": "error",
     "traceback": [
      "\u001b[1;31m---------------------------------------------------------------------------\u001b[0m",
      "\u001b[1;31mKeyboardInterrupt\u001b[0m                         Traceback (most recent call last)",
      "Cell \u001b[1;32mIn[72], line 100\u001b[0m\n\u001b[0;32m     97\u001b[0m speed \u001b[38;5;241m=\u001b[39m \u001b[38;5;241m1\u001b[39m \u001b[38;5;241m/\u001b[39m (\u001b[38;5;241m5\u001b[39m \u001b[38;5;241m*\u001b[39m dt)\n\u001b[0;32m     99\u001b[0m \u001b[38;5;28;01mwhile\u001b[39;00m t \u001b[38;5;241m<\u001b[39m \u001b[38;5;241m1000\u001b[39m:\n\u001b[1;32m--> 100\u001b[0m     \u001b[43mrate\u001b[49m\u001b[43m(\u001b[49m\u001b[43mspeed\u001b[49m\u001b[43m)\u001b[49m\n\u001b[0;32m    102\u001b[0m \u001b[38;5;250m    \u001b[39m\u001b[38;5;124;03m''' calculate intersection '''\u001b[39;00m\n\u001b[0;32m    104\u001b[0m     sun2mars \u001b[38;5;241m=\u001b[39m mars\u001b[38;5;241m.\u001b[39mpos\u001b[38;5;241m-\u001b[39msun\u001b[38;5;241m.\u001b[39mpos\n",
      "File \u001b[1;32m~\\AppData\\Local\\mambaforge\\envs\\mars4\\Lib\\site-packages\\vpython\\rate_control.py:266\u001b[0m, in \u001b[0;36m_RateKeeper2.__call__\u001b[1;34m(self, N)\u001b[0m\n\u001b[0;32m    264\u001b[0m \u001b[38;5;28mself\u001b[39m\u001b[38;5;241m.\u001b[39mrval \u001b[38;5;241m=\u001b[39m N\n\u001b[0;32m    265\u001b[0m \u001b[38;5;28;01mif\u001b[39;00m \u001b[38;5;28mself\u001b[39m\u001b[38;5;241m.\u001b[39mrval \u001b[38;5;241m<\u001b[39m \u001b[38;5;241m1\u001b[39m: \u001b[38;5;28;01mraise\u001b[39;00m \u001b[38;5;167;01mValueError\u001b[39;00m(\u001b[38;5;124m\"\u001b[39m\u001b[38;5;124mrate value must be greater than or equal to 1\u001b[39m\u001b[38;5;124m\"\u001b[39m)\n\u001b[1;32m--> 266\u001b[0m \u001b[38;5;28;43msuper\u001b[39;49m\u001b[43m(\u001b[49m\u001b[43m_RateKeeper2\u001b[49m\u001b[43m,\u001b[49m\u001b[43m \u001b[49m\u001b[38;5;28;43mself\u001b[39;49m\u001b[43m)\u001b[49m\u001b[38;5;241;43m.\u001b[39;49m\u001b[38;5;21;43m__call__\u001b[39;49m\u001b[43m(\u001b[49m\u001b[38;5;28;43mself\u001b[39;49m\u001b[38;5;241;43m.\u001b[39;49m\u001b[43mrval\u001b[49m\u001b[43m)\u001b[49m\n",
      "File \u001b[1;32m~\\AppData\\Local\\mambaforge\\envs\\mars4\\Lib\\site-packages\\vpython\\rate_control.py:220\u001b[0m, in \u001b[0;36mRateKeeper.__call__\u001b[1;34m(self, maxRate)\u001b[0m\n\u001b[0;32m    217\u001b[0m \u001b[38;5;66;03m# Determine how much time is left before the next predicted call to rate:\u001b[39;00m\n\u001b[0;32m    218\u001b[0m dt \u001b[38;5;241m=\u001b[39m \u001b[38;5;28mself\u001b[39m\u001b[38;5;241m.\u001b[39mlastSleep \u001b[38;5;241m+\u001b[39m \u001b[38;5;28mself\u001b[39m\u001b[38;5;241m.\u001b[39mcalls\u001b[38;5;241m*\u001b[39m(\u001b[38;5;28mself\u001b[39m\u001b[38;5;241m.\u001b[39muserTime \u001b[38;5;241m+\u001b[39m \u001b[38;5;28mself\u001b[39m\u001b[38;5;241m.\u001b[39mcallTime \u001b[38;5;241m+\u001b[39m \u001b[38;5;28mself\u001b[39m\u001b[38;5;241m.\u001b[39mdelay) \u001b[38;5;241m+\u001b[39m \\\n\u001b[0;32m    219\u001b[0m      renders\u001b[38;5;241m*\u001b[39m\u001b[38;5;28mself\u001b[39m\u001b[38;5;241m.\u001b[39mrenderTime \u001b[38;5;241m+\u001b[39m sleeps\u001b[38;5;241m*\u001b[39m\u001b[38;5;28mself\u001b[39m\u001b[38;5;241m.\u001b[39minteractionPeriod \u001b[38;5;241m-\u001b[39m _clock()\n\u001b[1;32m--> 220\u001b[0m \u001b[43m_sleep\u001b[49m\u001b[43m(\u001b[49m\u001b[43mdt\u001b[49m\u001b[43m)\u001b[49m\n\u001b[0;32m    221\u001b[0m \u001b[38;5;28mself\u001b[39m\u001b[38;5;241m.\u001b[39mlastSleep \u001b[38;5;241m=\u001b[39m _clock()\n\u001b[0;32m    222\u001b[0m \u001b[38;5;28mself\u001b[39m\u001b[38;5;241m.\u001b[39mcalls \u001b[38;5;241m=\u001b[39m \u001b[38;5;241m0\u001b[39m\n",
      "File \u001b[1;32m~\\AppData\\Local\\mambaforge\\envs\\mars4\\Lib\\site-packages\\vpython\\rate_control.py:68\u001b[0m, in \u001b[0;36m_sleep\u001b[1;34m(dt)\u001b[0m\n\u001b[0;32m     66\u001b[0m     \u001b[38;5;28;01mreturn\u001b[39;00m\n\u001b[0;32m     67\u001b[0m tend \u001b[38;5;241m=\u001b[39m _clock()\u001b[38;5;241m+\u001b[39mdt\n\u001b[1;32m---> 68\u001b[0m \u001b[38;5;28;01mwhile\u001b[39;00m \u001b[43m_clock\u001b[49m\u001b[43m(\u001b[49m\u001b[43m)\u001b[49m\u001b[43m \u001b[49m\u001b[38;5;241;43m<\u001b[39;49m\u001b[43m \u001b[49m\u001b[43mtend\u001b[49m:\n\u001b[0;32m     69\u001b[0m     \u001b[38;5;28;01mpass\u001b[39;00m\n",
      "\u001b[1;31mKeyboardInterrupt\u001b[0m: "
     ]
    }
   ],
   "source": [
    "from vpython import *\n",
    "scene = canvas()\n",
    "\n",
    "\n",
    "\n",
    "# # scene = canvas()\n",
    "# sphere()\n",
    "\n",
    "\n",
    "\n",
    "\n",
    "\n",
    "# Calculate the force vector exerted on b1 by b2\n",
    "def f_g(b1, b2):\n",
    "    if b1.pos == b2.pos:\n",
    "        return vec(0, 0, 0) # The force of a body on itself is 0\n",
    "\n",
    "    G = 1 # Use 6.67430E-11 for real world values; 1 is more convenient\n",
    "    \n",
    "    r_vec = b2.pos - b1.pos # Vector from b1 to b2\n",
    "\n",
    "    # Prevent gravitational force becoming absurdly large when bodies pass through each other\n",
    "    if mag(r_vec) < (b1.radius + b2.radius):\n",
    "        r_mag = b1.radius + b2.radius\n",
    "    else:\n",
    "        r_mag = mag(r_vec)\n",
    "\n",
    "    return ((G * b1.mass * b2.mass) / (r_mag ** 2)) * hat(r_vec) # Equation for gravity force vector\n",
    "\n",
    "\n",
    "\n",
    "\n",
    "\n",
    "\n",
    "sun = sphere(\n",
    "    pos=vec(-10,-7,-4),\n",
    "    color=vec(1,1,0),\n",
    ")\n",
    "\n",
    "mars = sphere(\n",
    "    pos=vec(0,0,0),\n",
    "    color=vec(1,0.5,0),\n",
    "    radius=0.5,\n",
    "    mass=100\n",
    ")\n",
    "\n",
    "maven = sphere(\n",
    "    pos = mars.pos + vec(1,-1,1),\n",
    "    radius=0.1,\n",
    "    mass=1,\n",
    "    v=vec(3,6,-1),\n",
    "    color=vec(1,0,0)\n",
    ")\n",
    "\n",
    "\n",
    "arr = arrow(\n",
    "    pos=sun.pos,\n",
    "    axis=maven.pos-sun.pos,\n",
    "    shaftwidth=0.1,\n",
    "    headwidth=0.2,\n",
    "    color=vec(0,1,0)\n",
    ")\n",
    "\n",
    "\n",
    "\n",
    "''' what angle does the shadow of mars make? i.e. what's the angle between sun2mars and a vector to a point on the surface of Mars that lies on the plane perpendicular to sun2mars. '''\n",
    "\n",
    "\n",
    "\n",
    "sun2mars = mars.pos-sun.pos\n",
    "sun2mvn = maven.pos-sun.pos\n",
    "\n",
    "\n",
    "\n",
    "mars2surface = norm( vec(-sun2mars.y, sun2mars.x, 0) ) * mars.radius\n",
    "\n",
    "half_angle_mars = diff_angle(sun2mars, mars2surface-sun.pos)\n",
    "\n",
    "\n",
    "## ^ check this with:\n",
    "# print(dot(mars2surface, sun2mars))\n",
    "\n",
    "\n",
    "\n",
    "\n",
    "\n",
    "\n",
    "\n",
    "\n",
    "''' animation '''\n",
    "\n",
    "\n",
    "\n",
    "\n",
    "t=0\n",
    "dt = 0.01\n",
    "speed = 1 / (5 * dt)\n",
    "\n",
    "while t < 1000:\n",
    "    rate(speed)\n",
    "    \n",
    "    ''' calculate intersection '''\n",
    "    \n",
    "    sun2mars = mars.pos-sun.pos\n",
    "    sun2mvn = maven.pos-sun.pos\n",
    "    \n",
    "    curr_angle = diff_angle(sun2mars, sun2mvn)\n",
    "    \n",
    "    if ( (curr_angle < half_angle_mars) and (sun2mars.mag < sun2mvn.mag) ):\n",
    "        arr.color = vec(1,0,0)\n",
    "    else:\n",
    "        arr.color = vec(0,1,0)\n",
    "    \n",
    "    \n",
    "    \n",
    "    \n",
    "    ''' animate '''\n",
    "    \n",
    "    maven.v += (f_g(maven,mars)/maven.mass)*dt\n",
    "    maven.pos += maven.v*dt\n",
    "    \n",
    "    \n",
    "    arr.axis = sun2mvn\n",
    "    \n",
    "    t+=dt"
   ]
  },
  {
   "cell_type": "code",
   "execution_count": 75,
   "id": "cfcc18e5-92c3-44c2-8c2a-06e4aa917fd7",
   "metadata": {
    "tags": []
   },
   "outputs": [
    {
     "name": "stdout",
     "output_type": "stream",
     "text": [
      "0.13968322270977082\n",
      "0.13968322270977002\n"
     ]
    }
   ],
   "source": [
    "# print(sun2mars)\n",
    "# print(sun2mvn)\n",
    "# print()\n",
    "\n",
    "\n",
    "# def dot(a: vector, b: vector) -> float:\n",
    "#     return a.x*b.x + a.y*b.y + a.z*b.z\n",
    "# print(dot(sun2mars,sun2mvn))\n",
    "\n",
    "\n",
    "# print(sun2mars.dot(sun2mvn))\n",
    "# print()\n",
    "\n",
    "# print(sun2mars.mag)\n",
    "# print(sun2mvn.mag)\n",
    "# print()\n",
    "\n",
    "\n",
    "''' Hard-coding the `diff_angle` function in case I have to implement this in numpy '''\n",
    "\n",
    "print(np.arccos(\n",
    "    sun2mars.dot(sun2mvn) / (sun2mars.mag * sun2mvn.mag)\n",
    "))\n",
    "\n",
    "print(diff_angle(sun2mars, sun2mvn))\n",
    "\n",
    "# print(half_angle_mars)"
   ]
  },
  {
   "cell_type": "code",
   "execution_count": 76,
   "id": "e12398d5-2d12-4290-a5ea-cbdb484a188f",
   "metadata": {
    "tags": []
   },
   "outputs": [
    {
     "name": "stdout",
     "output_type": "stream",
     "text": [
      "0.0\n"
     ]
    }
   ],
   "source": [
    "''' Verifying that my `half_angle_mars` is correct '''\n",
    "print(dot(mars2surface, sun2mars))"
   ]
  }
 ],
 "metadata": {
  "kernelspec": {
   "display_name": "Python 3 (ipykernel)",
   "language": "python",
   "name": "python3"
  },
  "language_info": {
   "codemirror_mode": {
    "name": "ipython",
    "version": 3
   },
   "file_extension": ".py",
   "mimetype": "text/x-python",
   "name": "python",
   "nbconvert_exporter": "python",
   "pygments_lexer": "ipython3",
   "version": "3.11.3"
  }
 },
 "nbformat": 4,
 "nbformat_minor": 5
}
