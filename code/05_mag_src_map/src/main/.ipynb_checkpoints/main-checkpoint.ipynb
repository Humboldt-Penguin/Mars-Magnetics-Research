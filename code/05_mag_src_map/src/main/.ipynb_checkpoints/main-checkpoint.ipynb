{
 "cells": [
  {
   "cell_type": "markdown",
   "id": "dcb17212-8ec5-4f88-acd9-9a8f05be03b9",
   "metadata": {},
   "source": [
    "TODO:\n",
    "* ~~move GRS stuff to its own class~~\n",
    "  * ~~double check i'm getting concentrations at the right coordinates~~\n",
    "  * ~~double check volatile normalization~~\n",
    "  * ~~double check plotting~~\n",
    "* ~~data downloader~~\n",
    "* come up with a crater class"
   ]
  },
  {
   "cell_type": "markdown",
   "id": "f7dfec5a-08a4-4b20-b42d-ca1474db0f96",
   "metadata": {
    "tags": []
   },
   "source": [
    "---\n",
    "# 0. Setup"
   ]
  },
  {
   "cell_type": "markdown",
   "id": "cda36e89-8451-47bb-b13a-178ca2f2349a",
   "metadata": {},
   "source": [
    "## Add path to source"
   ]
  },
  {
   "cell_type": "code",
   "execution_count": 1,
   "id": "a22f0293-5fc5-48ce-a60d-64ee86cce285",
   "metadata": {
    "tags": []
   },
   "outputs": [
    {
     "name": "stdout",
     "output_type": "stream",
     "text": [
      "Path to source: /home/lain/sync/01_Research/Mars_Magnetics/code/05_mag_src_map/src\n"
     ]
    }
   ],
   "source": [
    "## This is OD way to deal with paths\n",
    "\n",
    "def getPath(*args):\n",
    "    \"\"\"Join all arguments into a single path. Use 'current' as a stand in for path to current file.\"\"\"\n",
    "    import os\n",
    "    args = [os.getcwd() if arg == 'current' else arg for arg in args]\n",
    "    return os.path.abspath(os.path.join(*args))\n",
    "\n",
    "    \n",
    "def path_addSrc(fullpath_src = None, relpath_src = None, parent = False, verbose = False):\n",
    "    \"\"\"\n",
    "    Add directory \"src/\" to path.\n",
    "        \n",
    "    PARAMETERS:\n",
    "        fullpath_src : string\n",
    "            Path to source from root.\n",
    "        relpath_src : string\n",
    "            Path to source from directory of current file.\n",
    "        parent : boolean\n",
    "            Use parent folder as source\n",
    "        verbose : boolean\n",
    "            Prints source directory path.\n",
    "    \n",
    "    RETURN:\n",
    "        path_src : string\n",
    "            Path to source from root.\n",
    "    \"\"\"\n",
    "    \n",
    "    import sys\n",
    "    import os\n",
    "\n",
    "    if fullpath_src:\n",
    "        path_src = getPath(fullpath_src)\n",
    "    elif relpath_src:\n",
    "        path_src = getPath('current', relpath_src)\n",
    "    elif parent:\n",
    "        path_src = getPath('current', '..')\n",
    "        \n",
    "    if verbose: print(\"Path to source: \" + path_src)\n",
    "    \n",
    "    sys.path.append(path_src)\n",
    "    return path_src\n",
    "\n",
    "\n",
    "path_src = path_addSrc(parent=True, verbose=True)"
   ]
  },
  {
   "cell_type": "markdown",
   "id": "32cc9614-1716-4e2a-8403-021687023352",
   "metadata": {},
   "source": [
    "## Download data"
   ]
  },
  {
   "cell_type": "code",
   "execution_count": 2,
   "id": "2ec57823-e021-4e77-9af2-7bd3f80b9209",
   "metadata": {
    "tags": []
   },
   "outputs": [
    {
     "name": "stdout",
     "output_type": "stream",
     "text": [
      "Data folder already exists. To overwrite, add `overwrite=True` param.\n",
      "\n",
      "Data folder contents: \n",
      "\tREADME.txt\n",
      "\tcraters\n",
      "\tGRS\n",
      "\tcrustal_heat_flow\n",
      "\tcrustal_thickness\n"
     ]
    }
   ],
   "source": [
    "from lib.DataDownloader import DataDownloader as dd\n",
    "\n",
    "dd.download_folder(path_src=path_src, url=\"https://drive.google.com/drive/u/0/folders/1TF29m-zZGOpxP6kgpJiojLmVYRt3oF3t\", overwrite=False)"
   ]
  },
  {
   "cell_type": "markdown",
   "id": "d8b10680-bfe6-4cd0-b9eb-c6f96ebda72c",
   "metadata": {},
   "source": [
    "---\n",
    "# 1. Analysis"
   ]
  },
  {
   "cell_type": "code",
   "execution_count": 3,
   "id": "379a0482-d0ee-44db-b1e6-b25464b6e9cc",
   "metadata": {
    "tags": []
   },
   "outputs": [],
   "source": [
    "import numpy as np\n",
    "# import scipy.optimize as sy\n",
    "import matplotlib.pyplot as plt\n",
    "# from numba import jit\n",
    "import math\n",
    "\n",
    "\n",
    "from lib.GRS import GRS as grs\n",
    "\n",
    "GRS = grs(getPath(path_src, \"data/GRS/\"))\n",
    "GRS.loadData()"
   ]
  },
  {
   "cell_type": "code",
   "execution_count": 4,
   "id": "ecb3b0c3-9b46-4f53-8828-a20a46465ce9",
   "metadata": {
    "tags": []
   },
   "outputs": [],
   "source": [
    "Lyot = {\n",
    "    \"lon\": 29.32,\n",
    "    \"lat\": 50.47,\n",
    "    \"formation\": 3.4e9,\n",
    "    \"diameter_km\": 220.31,\n",
    "}"
   ]
  },
  {
   "cell_type": "code",
   "execution_count": 5,
   "id": "4fadef16-7211-4f8b-a8bb-00b9e97d1c6d",
   "metadata": {},
   "outputs": [],
   "source": [
    "# def getCurieDepths_local(lon, lat, t, volatile_adjusted = True):\n",
    "\n",
    "\n",
    "HPE = {\n",
    "    \"U238\": {\n",
    "        \"isotopic_frac\": 0.9928,\n",
    "        \"heat_release_const\": 9.46e-5, # net energy per unit mass [W/kg]\n",
    "        \"half_life\": 4.47e9\n",
    "    },\n",
    "    \"U235\": {\n",
    "        \"isotopic_frac\": 0.0071,\n",
    "        \"heat_release_const\": 5.69e-4,\n",
    "        \"half_life\": 7.04e8\n",
    "    },\n",
    "    \"Th232\": {\n",
    "        \"isotopic_frac\": 1.00,\n",
    "        \"heat_release_const\": 2.64e-5,\n",
    "        \"half_life\": 1.40e10\n",
    "    },\n",
    "    \"K40\": {\n",
    "        \"isotopic_frac\": 1.191e-4,\n",
    "        \"heat_release_const\": 2.92e-5,\n",
    "        \"half_life\": 1.25e9\n",
    "    }\n",
    "}\n",
    "\n",
    "\n",
    "def calc_H(thisGRS, lon, lat, t, volatile_adjusted=True):\n",
    "\n",
    "    thisHPE = HPE\n",
    "    \n",
    "    # get concentrations of each element (these coordinates, current day)\n",
    "    for element in thisHPE:\n",
    "        elementname = ''.join([char for char in element if not char.isdigit()]).lower()\n",
    "        if elementname == 'u':\n",
    "            concentration = thisGRS.getConcentration(lon, lat, \"th\", volatile_adjusted) / 3.8\n",
    "        else:\n",
    "            concentration = thisGRS.getConcentration(lon, lat, elementname, volatile_adjusted)\n",
    "    \n",
    "    \n",
    "        if concentration == thisGRS.getNanVal():\n",
    "            return thisGRS.getNanVal()\n",
    "        thisHPE[element][\"concentration\"] = concentration\n",
    "    \n",
    "    # calculate crustal heat production (these coordinates, `t` years ago)\n",
    "    H = 0\n",
    "    for element in thisHPE:\n",
    "        H += (\n",
    "            thisHPE[element][\"isotopic_frac\"] \n",
    "            * thisHPE[element][\"concentration\"] \n",
    "            * thisHPE[element][\"heat_release_const\"] \n",
    "            * math.exp((t * math.log(2))/(thisHPE[element][\"half_life\"]))\n",
    "        )\n",
    "    return H\n",
    "            \n",
    "    \n",
    "\n",
    "    \n",
    "    "
   ]
  },
  {
   "cell_type": "raw",
   "id": "053aa0d4-cd04-4b04-ab1b-bdbadbc6c99b",
   "metadata": {
    "tags": []
   },
   "source": [
    "## verify plotting works with this rewritten code\n",
    "def calc_TempDepthProfile(thisGRS, lon, lat, t, q_b_mW, volatile_adjusted=True):\n",
    "    H = calc_H(thisGRS, lon, lat, t, volatile_adjusted) # heat production in crust [W kg^-1]    \n",
    "\n",
    "    # i address nanvals later on to make sure it's an arraylike :)\n",
    "    # if H == thisGRS.getNanVal():\n",
    "    #     return thisGRS.getNanVal()\n",
    "\n",
    "    rho = 2800 # density of crust [kg m^-3]\n",
    "    k_cr = 2.5 # thermal conductivity of crust [W m^-1 K^-1]\n",
    "    k_m = 4 # thermal conductivity of mantle [W m^-1 K^-1]\n",
    "    thickness_crust_m = 40e3 # from random map i found online -- eventually automate this!\n",
    "    q_b = q_b_mW * 10**-3 # basal heat flow, parameter sweep this from 0-50\n",
    "    \n",
    "    \n",
    "    def calc_T(depth_km):\n",
    "        depth_m = depth_km*1000\n",
    "        if depth_m <= thickness_crust_m:\n",
    "            T = ((rho * H * depth_m)/(k_cr))*(thickness_crust_m - depth_m/2) + (q_b * depth_m)/(k_cr)\n",
    "        else:\n",
    "            left = ((rho * H * thickness_crust_m)/(k_cr))*(thickness_crust_m - thickness_crust_m/2) + (q_b * thickness_crust_m)/(k_cr)\n",
    "            right = ((rho * H * thickness_crust_m**2)/(2*k_m)) + ((q_b * thickness_crust_m)/(k_m))\n",
    "            T_0 = left-right\n",
    "\n",
    "            T = T_0 + ((rho * H * thickness_crust_m**2)/(2*k_m)) + ((q_b * depth_m)/(k_m))\n",
    "        return T\n",
    "            \n",
    "            \n",
    "    depths_km = np.arange(0, 1000, 0.1)\n",
    "    \n",
    "    if H == thisGRS.getNanVal():\n",
    "        temps_C = [thisGRS.getNanVal() for d in depths_km]\n",
    "    else:\n",
    "        temps_C = [calc_T(d) for d in depths_km]\n",
    "    \n",
    "    # vfunc_calc_T = np.vectorize(calc_T)\n",
    "    # temps_C = vfunc_calc_T(depths_m)\n",
    "        \n",
    "    return (depths_km, temps_C)\n",
    "\n",
    "thiscrater = Lyot\n",
    "\n",
    "# test lyot crater\n",
    "depths_km, temps_C = calc_TempDepthProfile(GRS, thiscrater['lon'], thiscrater['lat'], thiscrater['formation'], 15)\n",
    "\n",
    "# test nanvals (silicon is undefined at these coords\n",
    "# depths_km, temps_C = calc_TempDepthProfile(GRS, 0, 55, thiscrater['formation'], 15)\n",
    "\n",
    "\n",
    "plt.plot(depths_km, temps_C)"
   ]
  },
  {
   "cell_type": "code",
   "execution_count": 6,
   "id": "9edb4ace-77f3-4a97-9dcf-b8cf2e31b5ff",
   "metadata": {},
   "outputs": [],
   "source": [
    "def calc_CurieDepths(thisGRS, lon, lat, t, q_b_mW, volatile_adjusted=True):\n",
    "    H = calc_H(thisGRS, lon, lat, t, volatile_adjusted) # heat production in crust [W kg^-1]    \n",
    "\n",
    "    if H == thisGRS.getNanVal():\n",
    "        return (GRS.getNanVal(),)*3\n",
    "\n",
    "    rho = 2900 # density of crust [kg m^-3]\n",
    "    # \"In Figure 8, we plot the depth of magnetization as a function of crustal thickness. Here we use a crustal thickness model of Wieczorek et al. (2020) which assumes a uniform crustal density of 2,900 kg urn:x-wiley:21699097:media:jgre21714:jgre21714-math-0110 and a minimum crustal thickness of 5 km within the Isidis impact basin.\"\n",
    "    \n",
    "    k_cr = 2.5 # thermal conductivity of crust [W m^-1 K^-1]\n",
    "    k_m = 4 # thermal conductivity of mantle [W m^-1 K^-1]\n",
    "    thickness_crust_m = 40e3 # from random map i found online -- eventually automate this!\n",
    "    q_b = q_b_mW * 10**-3 # basal heat flow, parameter sweep this from 0-50\n",
    "    \n",
    "    def calc_T(depth_km):\n",
    "        depth_m = depth_km*1000\n",
    "        if depth_m <= thickness_crust_m:\n",
    "            T = ((rho * H * depth_m)/(k_cr))*(thickness_crust_m - depth_m/2) + (q_b * depth_m)/(k_cr)\n",
    "        else:\n",
    "            left = ((rho * H * thickness_crust_m)/(k_cr))*(thickness_crust_m - thickness_crust_m/2) + (q_b * thickness_crust_m)/(k_cr)\n",
    "            right = ((rho * H * thickness_crust_m**2)/(2*k_m)) + ((q_b * thickness_crust_m)/(k_m))\n",
    "            T_0 = left-right\n",
    "\n",
    "            T = T_0 + ((rho * H * thickness_crust_m**2)/(2*k_m)) + ((q_b * depth_m)/(k_m))\n",
    "        return T\n",
    "    \n",
    "    curie_temps = (320,580,670)\n",
    "    curie_depths = []\n",
    "    error = 0.01\n",
    "    \n",
    "    for curie_temp in curie_temps:\n",
    "        depth_left = 0\n",
    "        depth_right = 500\n",
    "        depth_mid = (depth_right+depth_left)/2\n",
    "\n",
    "        temp_left = calc_T(depth_left)\n",
    "        temp_right = calc_T(depth_right)\n",
    "        temp_mid = calc_T(depth_mid)\n",
    "\n",
    "        assert temp_left < curie_temp and curie_temp < temp_right, 'erm what the fish'\n",
    "        \n",
    "        while abs( temp_mid - curie_temp ) > error:\n",
    "            if temp_mid < curie_temp:\n",
    "                depth_left = depth_mid\n",
    "                temp_left = temp_mid\n",
    "            else:\n",
    "                depth_right = depth_mid\n",
    "                temp_right = temp_mid                \n",
    "            depth_mid = (depth_right+depth_left)/2\n",
    "            temp_mid = calc_T(depth_mid)\n",
    "        \n",
    "        curie_depths.append(depth_mid)\n",
    "        \n",
    "    # for i in range(3):\n",
    "    #     print(curie_depths[i])\n",
    "    #     print(calc_T(curie_depths[i]))\n",
    "    #     print()\n",
    "        \n",
    "    return curie_depths\n",
    "            \n",
    "    \n",
    "# thiscrater = Lyot\n",
    "\n",
    "# # import time\n",
    "# # start_time = time.time()\n",
    "# # for i in range(360*180):\n",
    "# #     x = calc_CurieDepths(GRS, thiscrater['lon'], thiscrater['lat'], thiscrater['formation'], 15, volatile_adjusted=True)\n",
    "# # s = time.time() - start_time\n",
    "# # print(s)\n",
    "\n",
    "# import timeit\n",
    "# timeit.timeit(lambda: calc_CurieDepths(GRS, thiscrater['lon'], thiscrater['lat'], thiscrater['formation'], 15, volatile_adjusted=True), number = 10000)"
   ]
  },
  {
   "cell_type": "code",
   "execution_count": 7,
   "id": "07a3cc1f-8395-4d62-9cbd-0e4b49fbd0b8",
   "metadata": {},
   "outputs": [
    {
     "data": {
      "text/plain": [
       "<matplotlib.colorbar.Colorbar at 0x7f5bd8e41b40>"
      ]
     },
     "execution_count": 7,
     "metadata": {},
     "output_type": "execute_result"
    },
    {
     "data": {
      "image/png": "[encoded data removed]",
      "text/plain": [
       "<Figure size 700x500 with 2 Axes>"
      ]
     },
     "metadata": {},
     "output_type": "display_data"
    }
   ],
   "source": [
    "dat = []\n",
    "\n",
    "for lat in range(-90,91):\n",
    "    newline = []\n",
    "    for lon in range(-180,181):\n",
    "        x = calc_CurieDepths(GRS, lon, lat, 0, 15, volatile_adjusted=True)\n",
    "        newline.append(x[2])\n",
    "    dat.append(newline)\n",
    "\n",
    "# plt.imshow(test[::-1], cmap=\"jet\")\n",
    "# plt.colorbar()\n",
    "dat = np.asarray(dat)\n",
    "dat = np.ma.masked_where((dat == GRS.getNanVal()), dat)\n",
    "\n",
    "fig = plt.figure(figsize=(7,5))\n",
    "ax = plt.axes()\n",
    "im = ax.imshow(dat[::-1], cmap=\"jet\")\n",
    "\n",
    "cax = fig.add_axes([ax.get_position().x1+0.02,ax.get_position().y0,0.02,ax.get_position().height])\n",
    "plt.colorbar(im, cax=cax)"
   ]
  },
  {
   "cell_type": "code",
   "execution_count": null,
   "id": "1ada07f0-bbe7-4f1c-98b3-d3684fd6c75e",
   "metadata": {},
   "outputs": [],
   "source": []
  },
  {
   "cell_type": "code",
   "execution_count": null,
   "id": "d8aa88d6-6e65-4962-841a-f950af401ba6",
   "metadata": {},
   "outputs": [],
   "source": []
  },
  {
   "cell_type": "code",
   "execution_count": 8,
   "id": "0fed1243-0b41-4cf6-a062-b311d77e7e17",
   "metadata": {
    "tags": []
   },
   "outputs": [],
   "source": [
    "dat = np.loadtxt(getPath(path_src, 'data', 'crustal_thickness', 'Mars-thick-DWThotCrust1-30-2900-2900.xyz'), delimiter=',')"
   ]
  },
  {
   "cell_type": "code",
   "execution_count": 10,
   "id": "c8ab4bbb-0edc-4700-9665-ebe05639392b",
   "metadata": {
    "tags": []
   },
   "outputs": [
    {
     "data": {
      "text/plain": [
       "array([0.000e+00, 1.000e-01, 2.000e-01, ..., 3.598e+02, 3.599e+02,\n",
       "       3.600e+02])"
      ]
     },
     "execution_count": 10,
     "metadata": {},
     "output_type": "execute_result"
    }
   ],
   "source": [
    "dat[:,1]"
   ]
  },
  {
   "cell_type": "code",
   "execution_count": 19,
   "id": "58782ebf-6578-4d09-aae0-4ebe6c1438b5",
   "metadata": {
    "tags": []
   },
   "outputs": [
    {
     "name": "stdout",
     "output_type": "stream",
     "text": [
      "29.32\n",
      "50.47\n",
      "[[  50.5     29.3     23.808 2900.   ]]\n"
     ]
    }
   ],
   "source": [
    "lon = Lyot['lon']\n",
    "lat = Lyot['lat']\n",
    "\n",
    "i_nearest = np.where( (dat[:,0]==round(lat,1)) & (dat[:,1]==round(lon,1)) )\n",
    "\n",
    "print(lon)\n",
    "print(lat)\n",
    "print(dat[i])"
   ]
  },
  {
   "cell_type": "code",
   "execution_count": 20,
   "id": "e0db8875-61f1-4f67-894d-292c54960ea4",
   "metadata": {},
   "outputs": [],
   "source": [
    "import numpy as np\n",
    "\n",
    "class CrustalThickness:\n",
    "    dat = []\n",
    "    path = ''\n",
    "    \n",
    "    def __init__(self, path):\n",
    "        self.path = path\n",
    "        return\n",
    "    \n",
    "    def loadData(self):\n",
    "        self.dat = np.loadtxt(self.path, delimmiter=',')\n",
    "        return\n",
    "    \n",
    "    def getCoordinate(self, lon, lat):\n",
    "        i_nearest = np.where( (dat[:,0]==round(lat,1)) & (dat[:,1]==round(lon,1)) )\n",
    "        return dat[i,2]"
   ]
  },
  {
   "cell_type": "code",
   "execution_count": null,
   "id": "7e542b86-544f-437c-ade4-1a274d3bf11b",
   "metadata": {},
   "outputs": [],
   "source": []
  }
 ],
 "metadata": {
  "kernelspec": {
   "display_name": "Python 3 (ipykernel)",
   "language": "python",
   "name": "python3"
  },
  "language_info": {
   "codemirror_mode": {
    "name": "ipython",
    "version": 3
   },
   "file_extension": ".py",
   "mimetype": "text/x-python",
   "name": "python",
   "nbconvert_exporter": "python",
   "pygments_lexer": "ipython3",
   "version": "3.10.9"
  }
 },
 "nbformat": 4,
 "nbformat_minor": 5
}
