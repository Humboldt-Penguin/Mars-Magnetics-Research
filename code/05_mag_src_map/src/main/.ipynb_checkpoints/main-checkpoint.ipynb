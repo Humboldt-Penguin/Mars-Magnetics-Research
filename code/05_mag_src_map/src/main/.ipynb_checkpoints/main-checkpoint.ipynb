{
 "cells": [
  {
   "cell_type": "markdown",
   "id": "dcb17212-8ec5-4f88-acd9-9a8f05be03b9",
   "metadata": {},
   "source": [
    "TODO:\n",
    "* ~~move GRS stuff to its own class~~\n",
    "  * ~~double check i'm getting concentrations at the right coordinates~~\n",
    "  * ~~double check volatile normalization~~\n",
    "  * ~~double check plotting~~\n",
    "* ~~data downloader~~\n",
    "* come up with a crater class"
   ]
  },
  {
   "cell_type": "markdown",
   "id": "f7dfec5a-08a4-4b20-b42d-ca1474db0f96",
   "metadata": {
    "jp-MarkdownHeadingCollapsed": true,
    "tags": []
   },
   "source": [
    "---\n",
    "# 0. Setup"
   ]
  },
  {
   "cell_type": "markdown",
   "id": "cda36e89-8451-47bb-b13a-178ca2f2349a",
   "metadata": {},
   "source": [
    "## Add path to source"
   ]
  },
  {
   "cell_type": "code",
   "execution_count": 1,
   "id": "a22f0293-5fc5-48ce-a60d-64ee86cce285",
   "metadata": {
    "tags": []
   },
   "outputs": [],
   "source": [
    "## This is OD way to deal with paths\n",
    "\n",
    "def getPath(*args):\n",
    "    \"\"\"Join all arguments into a single path. Use 'current' as a stand in for path to current file.\"\"\"\n",
    "    import os\n",
    "    args = [os.getcwd() if arg == 'current' else arg for arg in args]\n",
    "    return os.path.abspath(os.path.join(*args))\n",
    "\n",
    "    \n",
    "def path_addSrc(fullpath_src = None, relpath_src = None, parent = False, verbose = False):\n",
    "    \"\"\"\n",
    "    Add directory \"src/\" to path.\n",
    "        \n",
    "    PARAMETERS:\n",
    "        fullpath_src : string\n",
    "            Path to source from root.\n",
    "        relpath_src : string\n",
    "            Path to source from directory of current file.\n",
    "        parent : boolean\n",
    "            Use parent folder as source\n",
    "        verbose : boolean\n",
    "            Prints source directory path.\n",
    "    \n",
    "    RETURN:\n",
    "        path_src : string\n",
    "            Path to source from root.\n",
    "    \"\"\"\n",
    "    \n",
    "    import sys\n",
    "    import os\n",
    "\n",
    "    if fullpath_src:\n",
    "        path_src = getPath(fullpath_src)\n",
    "    elif relpath_src:\n",
    "        path_src = getPath('current', relpath_src)\n",
    "    elif parent:\n",
    "        path_src = getPath('current', '..')\n",
    "        \n",
    "    if verbose: print(\"Path to source: \" + path_src)\n",
    "    \n",
    "    sys.path.append(path_src)\n",
    "    return path_src"
   ]
  },
  {
   "cell_type": "code",
   "execution_count": 2,
   "id": "35313b37-e222-47c1-94d9-f3a00bae5830",
   "metadata": {
    "tags": []
   },
   "outputs": [
    {
     "name": "stdout",
     "output_type": "stream",
     "text": [
      "Path to source: /home/lain/sync/01_Research/Mars_Magnetics/code/05_mag_src_map/src\n"
     ]
    }
   ],
   "source": [
    "path_src = path_addSrc(parent=True, verbose=True)"
   ]
  },
  {
   "cell_type": "markdown",
   "id": "32cc9614-1716-4e2a-8403-021687023352",
   "metadata": {},
   "source": [
    "## Download data"
   ]
  },
  {
   "cell_type": "code",
   "execution_count": 3,
   "id": "2ec57823-e021-4e77-9af2-7bd3f80b9209",
   "metadata": {
    "tags": []
   },
   "outputs": [
    {
     "name": "stdout",
     "output_type": "stream",
     "text": [
      "Data folder already exists. To overwrite, add `overwrite=True` param.\n",
      "\n",
      "Data folder contents: \n",
      "\tREADME.txt\n",
      "\tcraters\n",
      "\tGRS\n",
      "\tcrustal_heat_flow\n"
     ]
    }
   ],
   "source": [
    "from lib.DataDownloader import DataDownloader as dd\n",
    "\n",
    "dd.download_folder(path_src=path_src, url=\"https://drive.google.com/drive/u/0/folders/1TF29m-zZGOpxP6kgpJiojLmVYRt3oF3t\", overwrite=False)"
   ]
  },
  {
   "cell_type": "markdown",
   "id": "d8b10680-bfe6-4cd0-b9eb-c6f96ebda72c",
   "metadata": {},
   "source": [
    "---\n",
    "# 1. Analysis"
   ]
  },
  {
   "cell_type": "code",
   "execution_count": 5,
   "id": "379a0482-d0ee-44db-b1e6-b25464b6e9cc",
   "metadata": {
    "tags": []
   },
   "outputs": [],
   "source": [
    "from lib.GRS import GRS as grs\n",
    "\n",
    "GRS = grs(getPath(path_src, \"data/GRS/\"))\n",
    "GRS.loadData()"
   ]
  },
  {
   "cell_type": "code",
   "execution_count": 7,
   "id": "ecb3b0c3-9b46-4f53-8828-a20a46465ce9",
   "metadata": {
    "tags": []
   },
   "outputs": [],
   "source": [
    "henry = {\n",
    "    \"lon\": 23.4,\n",
    "    \"lat\": 10.8,\n",
    "    \"formation\": 3.6e9,\n",
    "    \"diameter_km\": 167.58,\n",
    "}"
   ]
  },
  {
   "cell_type": "code",
   "execution_count": 8,
   "id": "4fadef16-7211-4f8b-a8bb-00b9e97d1c6d",
   "metadata": {},
   "outputs": [],
   "source": [
    "# def getCurieDepths_local(myGRS, lon, lat, t, volatile_adjusted = True):\n",
    "myGRS = GRS\n",
    "lon = henry['lon']\n",
    "lat = henry['lat']\n",
    "t = henry['formation']\n",
    "\n",
    "def calc_H(lon, lat, t, volatile_adjusted=True):\n",
    "    \n",
    "    HPE = {\n",
    "        \"U238\": {\n",
    "            \"isotopic_frac\": 0.9928,\n",
    "            \"heat_release_const\": 9.46e-5, # net energy per unit mass [W/kg]\n",
    "            \"half_life\": 4.47e9\n",
    "        },\n",
    "        \"U235\": {\n",
    "            \"isotopic_frac\": 0.0071,\n",
    "            \"heat_release_const\": 5.69e-4,\n",
    "            \"half_life\": 7.04e8\n",
    "        },\n",
    "        \"Th232\": {\n",
    "            \"isotopic_frac\": 1.00,\n",
    "            \"heat_release_const\": 2.64e-5,\n",
    "            \"half_life\": 1.40e10\n",
    "        },\n",
    "        \"K40\": {\n",
    "            \"isotopic_frac\": 1.191e-4,\n",
    "            \"heat_release_const\": 2.92e-5,\n",
    "            \"half_life\": 1.25e9\n",
    "        }\n",
    "    }\n",
    "    \n",
    "    "
   ]
  },
  {
   "cell_type": "code",
   "execution_count": null,
   "id": "18ee3454-67d9-4014-8fb7-c478579299db",
   "metadata": {},
   "outputs": [],
   "source": []
  },
  {
   "cell_type": "code",
   "execution_count": null,
   "id": "9edb4ace-77f3-4a97-9dcf-b8cf2e31b5ff",
   "metadata": {},
   "outputs": [],
   "source": []
  }
 ],
 "metadata": {
  "kernelspec": {
   "display_name": "Python 3 (ipykernel)",
   "language": "python",
   "name": "python3"
  },
  "language_info": {
   "codemirror_mode": {
    "name": "ipython",
    "version": 3
   },
   "file_extension": ".py",
   "mimetype": "text/x-python",
   "name": "python",
   "nbconvert_exporter": "python",
   "pygments_lexer": "ipython3",
   "version": "3.11.0"
  }
 },
 "nbformat": 4,
 "nbformat_minor": 5
}
