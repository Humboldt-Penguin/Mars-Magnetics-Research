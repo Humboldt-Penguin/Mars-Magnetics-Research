{
 "cells": [
  {
   "cell_type": "markdown",
   "id": "596b230d-b6c8-4148-95e0-440019bc4a5f",
   "metadata": {},
   "source": [
    "Note: This doesn't work for any commits after 5/1/2023 because I reworked the GRS.py module. \n",
    "\n",
    "Outputs are maintained for proof of concept, but to reproduce this as is, revert to a pre 5/1/2023 commit.\n",
    "\n",
    "---\n",
    "\n",
    "Make sure normalization works as intended (check against manual value)"
   ]
  },
  {
   "cell_type": "code",
   "execution_count": 11,
   "id": "48c725dd-9833-45c8-b607-464f1b549170",
   "metadata": {
    "tags": []
   },
   "outputs": [],
   "source": [
    "import sys\n",
    "import os\n",
    "import math\n",
    "sys.path.append(\"..\")\n",
    "\n",
    "from lib.GRS import GRS as grs"
   ]
  },
  {
   "cell_type": "code",
   "execution_count": 5,
   "id": "abd6751b-f182-4923-8e0b-a4a0b8aba2ae",
   "metadata": {
    "tags": []
   },
   "outputs": [],
   "source": [
    "GRS = grs('/home/lain/sync/01_Research/Mars_Magnetics/code/05_mag_src_map/src/data/GRS')\n",
    "GRS.loadData()"
   ]
  },
  {
   "cell_type": "code",
   "execution_count": 6,
   "id": "069aebde-9243-4d3c-b512-1cdb322f67c3",
   "metadata": {},
   "outputs": [
    {
     "name": "stdout",
     "output_type": "stream",
     "text": [
      "raw k: 4.5225000000000004e-07\n",
      "normalized k: 5.959420595414969e-07\n",
      "\n",
      "h2o: 0.024184999999999998\n",
      "cl: 0.0038525\n",
      "si: 0.21308\n",
      "sum volatiles: 0.24111749999999998\n",
      "\n",
      "manual normalization: 5.959420595414969e-07\n",
      "equal?: True\n"
     ]
    }
   ],
   "source": [
    "## Optional test: verify that normalization works as intended:\n",
    "\n",
    "lon = -90\n",
    "lat = -30\n",
    "\n",
    "k = GRS.getConcentration(lon,lat,\"th\", normalized=False)\n",
    "print(f'raw k: {k}')\n",
    "k_norm = GRS.getConcentration(lon,lat,\"th\", normalized=True)\n",
    "print(f'normalized k: {k_norm}')\n",
    "print()\n",
    "\n",
    "h2o = GRS.getConcentration(lon,lat,\"h2o\", normalized=False)\n",
    "cl = GRS.getConcentration(lon,lat,\"cl\", normalized=False)\n",
    "si = GRS.getConcentration(lon,lat,\"si\", normalized=False)\n",
    "print(f'h2o: {h2o}')\n",
    "print(f'cl: {cl}')\n",
    "print(f'si: {si}')\n",
    "print(f'sum volatiles: {h2o+cl+si}')\n",
    "print()\n",
    "\n",
    "k_norm_man = k / (1-(h2o+cl+si))\n",
    "print(f'manual normalization: {k_norm_man}')\n",
    "print(f'equal?: {k_norm == k_norm_man}')"
   ]
  },
  {
   "cell_type": "markdown",
   "id": "2750964a-86d8-46a7-9c23-1ae6d4021716",
   "metadata": {},
   "source": [
    "---\n",
    "## now check H calculation"
   ]
  },
  {
   "cell_type": "code",
   "execution_count": 8,
   "id": "7a085f51-7f2a-47b7-8cea-d181382729c1",
   "metadata": {
    "tags": []
   },
   "outputs": [],
   "source": [
    "henry = {\n",
    "    \"lon\": 23.4,\n",
    "    \"lat\": 10.8,\n",
    "    \"formation\": 3.6e9,\n",
    "    \"diameter_km\": 167.58,\n",
    "}"
   ]
  },
  {
   "cell_type": "code",
   "execution_count": 16,
   "id": "b4a9a585-afd4-4ec5-9eb6-b5373994bdeb",
   "metadata": {
    "tags": []
   },
   "outputs": [],
   "source": [
    "lon = henry['lon']+1\n",
    "lat = henry['lat']+1\n",
    "\n",
    "HPE = {\n",
    "    # Constants from:\n",
    "    #     - \"Amagmantic Hydrothermal Systems on Mars from Radiogenic Heat\", by Ojha et al. 2021,\n",
    "    #     - \"Geodynamics\", by Turcotte & Schubert 2014.\n",
    "    \"U238\": {\n",
    "        \"isotopic_frac\": 0.9928, # natural abundance of this isotope relative to all isotopes of this element\n",
    "        \"heat_release_const\": 9.46e-5, # net energy per unit mass [W/kg]\n",
    "        \"half_life\": 4.47e9\n",
    "    },\n",
    "    \"U235\": {\n",
    "        \"isotopic_frac\": 0.0071,\n",
    "        \"heat_release_const\": 5.69e-4,\n",
    "        \"half_life\": 7.04e8\n",
    "    },\n",
    "    \"Th232\": {\n",
    "        \"isotopic_frac\": 1.00,\n",
    "        \"heat_release_const\": 2.64e-5,\n",
    "        \"half_life\": 1.40e10\n",
    "    },\n",
    "    \"K40\": {\n",
    "        \"isotopic_frac\": 1.191e-4,\n",
    "        \"heat_release_const\": 2.92e-5,\n",
    "        \"half_life\": 1.25e9\n",
    "    }\n",
    "}\n",
    "\n"
   ]
  },
  {
   "cell_type": "code",
   "execution_count": 17,
   "id": "ea9eda79-d7e7-4409-a4c7-fbc67911a0fe",
   "metadata": {
    "tags": []
   },
   "outputs": [
    {
     "data": {
      "text/plain": [
       "2.825619125992331e-10"
      ]
     },
     "execution_count": 17,
     "metadata": {},
     "output_type": "execute_result"
    }
   ],
   "source": [
    "C_Th = GRS.getConcentration(lon,lat,'th', normalized=True)\n",
    "C_K = GRS.getConcentration(lon,lat,'k', normalized=True)\n",
    "C_U = C_Th / 3.8\n",
    "t = 4e9\n",
    "\n",
    "H = (\n",
    "    HPE['U238']['isotopic_frac'] * C_U * HPE['U238']['heat_release_const'] * math.exp( (t * math.log(2) )/(HPE['U238']['half_life']) ) +\n",
    "    HPE['U235']['isotopic_frac'] * C_U * HPE['U235']['heat_release_const'] * math.exp( (t * math.log(2) )/(HPE['U235']['half_life']) ) +\n",
    "    HPE['Th232']['isotopic_frac'] * C_Th * HPE['Th232']['heat_release_const'] * math.exp( (t * math.log(2) )/(HPE['Th232']['half_life']) ) +\n",
    "    HPE['K40']['isotopic_frac'] * C_K * HPE['K40']['heat_release_const'] * math.exp( (t * math.log(2) )/(HPE['K40']['half_life']) )\n",
    ")\n",
    "\n",
    "H"
   ]
  },
  {
   "cell_type": "code",
   "execution_count": 18,
   "id": "2a021ce6-f972-48d4-b8ae-dd3f9ceffde3",
   "metadata": {
    "tags": []
   },
   "outputs": [
    {
     "name": "stdout",
     "output_type": "stream",
     "text": [
      "{'U238': {'isotopic_frac': 0.9928, 'heat_release_const': 9.46e-05, 'half_life': 4470000000.0, 'concentration': 2.6614965421476245e-07}, 'U235': {'isotopic_frac': 0.0071, 'heat_release_const': 0.000569, 'half_life': 704000000.0, 'concentration': 2.6614965421476245e-07}, 'Th232': {'isotopic_frac': 1.0, 'heat_release_const': 2.64e-05, 'half_life': 14000000000.0, 'concentration': 1.0113686860160973e-06}, 'K40': {'isotopic_frac': 0.0001191, 'heat_release_const': 2.92e-05, 'half_life': 1250000000.0, 'concentration': 0.004641623858367363}}\n"
     ]
    },
    {
     "data": {
      "text/plain": [
       "2.825619125992331e-10"
      ]
     },
     "execution_count": 18,
     "metadata": {},
     "output_type": "execute_result"
    }
   ],
   "source": [
    "HPE = {\n",
    "    # Constants from:\n",
    "    #     - \"Amagmantic Hydrothermal Systems on Mars from Radiogenic Heat\", by Ojha et al. 2021,\n",
    "    #     - \"Geodynamics\", by Turcotte & Schubert 2014.\n",
    "    \"U238\": {\n",
    "        \"isotopic_frac\": 0.9928, # natural abundance of this isotope relative to all isotopes of this element\n",
    "        \"heat_release_const\": 9.46e-5, # net energy per unit mass [W/kg]\n",
    "        \"half_life\": 4.47e9\n",
    "    },\n",
    "    \"U235\": {\n",
    "        \"isotopic_frac\": 0.0071,\n",
    "        \"heat_release_const\": 5.69e-4,\n",
    "        \"half_life\": 7.04e8\n",
    "    },\n",
    "    \"Th232\": {\n",
    "        \"isotopic_frac\": 1.00,\n",
    "        \"heat_release_const\": 2.64e-5,\n",
    "        \"half_life\": 1.40e10\n",
    "    },\n",
    "    \"K40\": {\n",
    "        \"isotopic_frac\": 1.191e-4,\n",
    "        \"heat_release_const\": 2.92e-5,\n",
    "        \"half_life\": 1.25e9\n",
    "    }\n",
    "}\n",
    "\n",
    "\n",
    "def calc_H(thisGRS, lon, lat, t, volatile_adjusted=True):\n",
    "    \"\"\"\n",
    "    Calculate heat production rate in lithosphere [W/kg?] at a specific coordinate/time due to decay of radiogenic heat producing elements (U238, U235, Th232, K40).\n",
    "    \n",
    "    PARAMETERS:\n",
    "        thisGRS : GRS type object\n",
    "            Contains elemental abundances from GRS orbiter.\n",
    "        lon, lat : float\n",
    "            Coordinates at which to calculate H. These are used to find GRS data.\n",
    "        time : float\n",
    "            How many years in the past to calculate H. These are used to calculate elapsed half-lives of radiogenic HPEs.\n",
    "            Ex: `t=3.4e9` would specify 3.4 billion years in the past.\n",
    "        volatile_adjusted : bool\n",
    "            Determine whether or not to normalize GRS radiogenic HPE concentrations to a volatile-free basis. See the next method \"getAdjustedConcentration\" in the GRS.py class for details.\n",
    "\n",
    "    RETURN:\n",
    "        H : float\n",
    "            Heat production rate in lithosphere [W/kg?] at a specific coordinate/time due to decay of radiogenic heat producing elements (U238, U235, Th232, K40).\n",
    "            \n",
    "    METHODOLOGIES:\n",
    "        - Hahn et al 2011: Martian surface production and crustal heat flow from Mars Odyssey Gamma-Ray spectrometry\n",
    "        - Turcotte and Schubert 2001: Geodynamics (textbook)    \n",
    "    \"\"\"\n",
    "\n",
    "    \n",
    "    thisHPE = HPE\n",
    "    \n",
    "    # get concentrations of each element (these coordinates, current day)\n",
    "    for element in thisHPE:\n",
    "        elementname = ''.join([char for char in element if not char.isdigit()]).lower()\n",
    "        if elementname == 'u':\n",
    "            concentration = thisGRS.getConcentration(lon, lat, \"th\", volatile_adjusted) / 3.8\n",
    "        else:\n",
    "            concentration = thisGRS.getConcentration(lon, lat, elementname, volatile_adjusted)\n",
    "    \n",
    "    \n",
    "        if concentration == thisGRS.getNanVal():\n",
    "            return thisGRS.getNanVal()\n",
    "        thisHPE[element][\"concentration\"] = concentration\n",
    "        \n",
    "    print(thisHPE)\n",
    "    \n",
    "    # calculate crustal heat production (these coordinates, `t` years ago)\n",
    "    H = 0\n",
    "    for element in thisHPE:\n",
    "        H += (\n",
    "            thisHPE[element][\"isotopic_frac\"] \n",
    "            * thisHPE[element][\"concentration\"] \n",
    "            * thisHPE[element][\"heat_release_const\"] \n",
    "            * math.exp((t * math.log(2))/(thisHPE[element][\"half_life\"]))\n",
    "        )\n",
    "    return H\n",
    "            \n",
    "    \n",
    "calc_H(GRS, lon, lat, t)"
   ]
  }
 ],
 "metadata": {
  "kernelspec": {
   "display_name": "Python 3 (ipykernel)",
   "language": "python",
   "name": "python3"
  },
  "language_info": {
   "codemirror_mode": {
    "name": "ipython",
    "version": 3
   },
   "file_extension": ".py",
   "mimetype": "text/x-python",
   "name": "python",
   "nbconvert_exporter": "python",
   "pygments_lexer": "ipython3",
   "version": "3.11.3"
  }
 },
 "nbformat": 4,
 "nbformat_minor": 5
}
