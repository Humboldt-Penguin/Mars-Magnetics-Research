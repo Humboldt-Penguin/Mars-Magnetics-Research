{
 "cells": [
  {
   "cell_type": "code",
   "execution_count": 1,
   "id": "d743b47d-420b-4a1c-8b17-018c48dfdf5e",
   "metadata": {
    "tags": []
   },
   "outputs": [],
   "source": [
    "import requests\n",
    "\n",
    "def download_file_from_google_drive(id, destination):\n",
    "    URL = \"https://docs.google.com/uc?export=download\"\n",
    "\n",
    "    session = requests.Session()\n",
    "\n",
    "    response = session.get(URL, params = { 'id' : id }, stream = True)\n",
    "    token = get_confirm_token(response)\n",
    "\n",
    "    if token:\n",
    "        params = { 'id' : id, 'confirm' : token }\n",
    "        response = session.get(URL, params = params, stream = True)\n",
    "\n",
    "    save_response_content(response, destination)    \n",
    "\n",
    "def get_confirm_token(response):\n",
    "    for key, value in response.cookies.items():\n",
    "        if key.startswith('download_warning'):\n",
    "            return value\n",
    "\n",
    "    return None\n",
    "\n",
    "def save_response_content(response, destination):\n",
    "    CHUNK_SIZE = 32768\n",
    "\n",
    "    with open(destination, \"wb\") as f:\n",
    "        for chunk in response.iter_content(CHUNK_SIZE):\n",
    "            if chunk: # filter out keep-alive new chunks\n",
    "                f.write(chunk)\n",
    "\n",
    "# if __name__ == \"__main__\":\n",
    "#     file_id = 'TAKE ID FROM SHAREABLE LINK'\n",
    "#     destination = 'DESTINATION FILE ON YOUR DISK'\n",
    "#     download_file_from_google_drive(file_id, destination)"
   ]
  },
  {
   "cell_type": "code",
   "execution_count": 4,
   "id": "617d7dc5-a8f7-4b8c-be97-c12c5874fcc5",
   "metadata": {
    "tags": []
   },
   "outputs": [],
   "source": [
    "import os\n",
    "\n",
    "# https://drive.google.com/file/d/16RE3PtLEju7dA8sH0DwDArkBPGG9ZjVe/view?usp=sharing\n",
    "file_id = '16RE3PtLEju7dA8sH0DwDArkBPGG9ZjVe'\n",
    "\n",
    "destination = os.path.abspath(os.path.join(os.getcwd(), \"craters.zip\"))\n",
    "\n",
    "\n",
    "download_file_from_google_drive(file_id, destination)"
   ]
  },
  {
   "cell_type": "code",
   "execution_count": null,
   "id": "a91bc56c-ef4b-4298-abe1-48b2b235321a",
   "metadata": {},
   "outputs": [],
   "source": []
  },
  {
   "cell_type": "code",
   "execution_count": null,
   "id": "c02406ad-260e-4502-83f3-8f0253892e4c",
   "metadata": {},
   "outputs": [],
   "source": []
  },
  {
   "cell_type": "code",
   "execution_count": null,
   "id": "4d94198b-bbe7-4dab-b1ab-48d7bfae296e",
   "metadata": {},
   "outputs": [],
   "source": []
  },
  {
   "cell_type": "code",
   "execution_count": 6,
   "id": "0c4dcc73-dfc6-4b1b-9b59-471d92090093",
   "metadata": {
    "tags": []
   },
   "outputs": [],
   "source": [
    "import requests\n",
    "\n",
    "def download_file_from_google_drive(id, destination):\n",
    "    def get_confirm_token(response):\n",
    "        for key, value in response.cookies.items():\n",
    "            if key.startswith('download_warning'):\n",
    "                return value\n",
    "\n",
    "        return None\n",
    "\n",
    "    def save_response_content(response, destination):\n",
    "        CHUNK_SIZE = 32768\n",
    "\n",
    "        with open(destination, \"wb\") as f:\n",
    "            for chunk in response.iter_content(CHUNK_SIZE):\n",
    "                if chunk: # filter out keep-alive new chunks\n",
    "                    f.write(chunk)\n",
    "\n",
    "    URL = \"https://docs.google.com/uc?export=download\"\n",
    "\n",
    "    session = requests.Session()\n",
    "\n",
    "    response = session.get(URL, params = { 'id' : id }, stream = True)\n",
    "    token = get_confirm_token(response)\n",
    "\n",
    "    if token:\n",
    "        params = { 'id' : id, 'confirm' : token }\n",
    "        response = session.get(URL, params = params, stream = True)\n",
    "\n",
    "    save_response_content(response, destination)    \n",
    "\n",
    "\n",
    "# if __name__ == \"__main__\":\n",
    "import sys\n",
    "# if len(sys.argv) is not 3:\n",
    "#     print(\"Usage: python google_drive.py drive_file_id destination_file_path\")\n",
    "# else:\n",
    "\n",
    "\n",
    "# TAKE ID FROM SHAREABLE LINK\n",
    "# https://drive.google.com/file/d/16RE3PtLEju7dA8sH0DwDArkBPGG9ZjVe/view?usp=sharing\n",
    "file_id = '16RE3PtLEju7dA8sH0DwDArkBPGG9ZjVe'\n",
    "# DESTINATION FILE ON YOUR DISK\n",
    "destination = os.path.abspath(os.path.join(os.getcwd(), \"craters.zip\"))\n",
    "download_file_from_google_drive(file_id, destination)"
   ]
  },
  {
   "cell_type": "code",
   "execution_count": null,
   "id": "ee9ce4c6-93be-43cd-b2f4-978c3c3ab3d5",
   "metadata": {},
   "outputs": [],
   "source": []
  },
  {
   "cell_type": "code",
   "execution_count": null,
   "id": "472907e9-e843-45dd-8fc8-40ca14f4b80f",
   "metadata": {},
   "outputs": [],
   "source": []
  },
  {
   "cell_type": "code",
   "execution_count": null,
   "id": "a04eaf6c-295d-4334-9dc8-7f1f3e3125b4",
   "metadata": {},
   "outputs": [],
   "source": []
  },
  {
   "cell_type": "code",
   "execution_count": null,
   "id": "3a1a0e7d-17be-4b5b-b705-8dc56f2dd9fc",
   "metadata": {},
   "outputs": [],
   "source": []
  },
  {
   "cell_type": "code",
   "execution_count": 16,
   "id": "12029d7c-4423-4ad4-9565-6122a1d63961",
   "metadata": {
    "tags": []
   },
   "outputs": [],
   "source": [
    "import gdown\n",
    "import os\n",
    "\n",
    "# help(gdown.download_folder)\n",
    "\n",
    "url_data = \"https://drive.google.com/drive/u/0/folders/1TF29m-zZGOpxP6kgpJiojLmVYRt3oF3t\"\n",
    "path_data = os.path.abspath(os.path.join(os.getcwd(), \"datatest/\"))\n",
    "_ = gdown.download_folder(url=url_data, output=path_data, quiet=True, use_cookies=False)"
   ]
  },
  {
   "cell_type": "code",
   "execution_count": 17,
   "id": "ff57d443-672a-4899-97c6-8acb9a246a93",
   "metadata": {
    "tags": []
   },
   "outputs": [],
   "source": [
    "import zipfile\n",
    "\n",
    "for file in (os.listdir(path_data)):\n",
    "    fullfile = os.path.abspath(os.path.join(path_data, file))\n",
    "    if fullfile.endswith('.zip'):\n",
    "        with zipfile.ZipFile(fullfile, 'r') as zip_ref:\n",
    "            zip_ref.extractall(fullfile[:-4])\n",
    "            os.remove(fullfile)"
   ]
  },
  {
   "cell_type": "code",
   "execution_count": 14,
   "id": "a6476304-725e-4adc-bb4d-1b44ed715eb0",
   "metadata": {
    "tags": []
   },
   "outputs": [
    {
     "data": {
      "text/plain": [
       "'fuck'"
      ]
     },
     "execution_count": 14,
     "metadata": {},
     "output_type": "execute_result"
    }
   ],
   "source": [
    "x = \"fuck.zip\"\n",
    "x[:-4]"
   ]
  },
  {
   "cell_type": "code",
   "execution_count": null,
   "id": "6156b8b5-4766-44ed-9845-ac9b784dd754",
   "metadata": {},
   "outputs": [],
   "source": []
  },
  {
   "cell_type": "code",
   "execution_count": null,
   "id": "6b2a31d0-dec8-42c3-8a10-4a95e64cdf25",
   "metadata": {},
   "outputs": [],
   "source": []
  },
  {
   "cell_type": "code",
   "execution_count": null,
   "id": "16be80d1-a3b4-43fe-995f-5eec5d6091ba",
   "metadata": {},
   "outputs": [],
   "source": []
  },
  {
   "cell_type": "code",
   "execution_count": null,
   "id": "0e3ecbf7-c1c5-402b-8141-49082d8cd0ac",
   "metadata": {},
   "outputs": [],
   "source": []
  },
  {
   "cell_type": "code",
   "execution_count": 21,
   "id": "11595a70-cfac-436e-bb1f-4d8aa7f491c9",
   "metadata": {
    "tags": []
   },
   "outputs": [
    {
     "name": "stdout",
     "output_type": "stream",
     "text": [
      "/home/lain/sync/01_Research/Mars_Magnetics/code/05_mag_src_map/src\n",
      "\n",
      "['.ipynb_checkpoints', 'test.sh', 'build', 'main', 'data', 'model', 'datatest', 'tests', 'Untitled.ipynb', 'getdata.sh']\n",
      "\n",
      "['README.txt', '.ipynb_checkpoints', 'GRS', 'crustal_heat_flow']\n",
      "\n"
     ]
    },
    {
     "ename": "FileNotFoundError",
     "evalue": "[Errno 2] No such file or directory: 'ostest'",
     "output_type": "error",
     "traceback": [
      "\u001b[0;31m---------------------------------------------------------------------------\u001b[0m",
      "\u001b[0;31mFileNotFoundError\u001b[0m                         Traceback (most recent call last)",
      "Cell \u001b[0;32mIn[21], line 13\u001b[0m\n\u001b[1;32m     10\u001b[0m \u001b[38;5;28;01mimport\u001b[39;00m \u001b[38;5;21;01msys\u001b[39;00m\n\u001b[1;32m     11\u001b[0m sys\u001b[38;5;241m.\u001b[39mpath\u001b[38;5;241m.\u001b[39mappend(\u001b[38;5;124m\"\u001b[39m\u001b[38;5;124m..\u001b[39m\u001b[38;5;124m\"\u001b[39m)\n\u001b[0;32m---> 13\u001b[0m \u001b[38;5;28mprint\u001b[39m(\u001b[43mos\u001b[49m\u001b[38;5;241;43m.\u001b[39;49m\u001b[43mlistdir\u001b[49m\u001b[43m(\u001b[49m\u001b[38;5;124;43m'\u001b[39;49m\u001b[38;5;124;43mostest\u001b[39;49m\u001b[38;5;124;43m'\u001b[39;49m\u001b[43m)\u001b[49m)\n",
      "\u001b[0;31mFileNotFoundError\u001b[0m: [Errno 2] No such file or directory: 'ostest'"
     ]
    }
   ],
   "source": [
    "import os\n",
    "print(os.getcwd())\n",
    "print()\n",
    "print(os.listdir())\n",
    "print()\n",
    "print(os.listdir('data'))\n",
    "print()\n",
    "# print(os.listdir('ostest'))\n",
    "\n",
    "import sys\n",
    "sys.path.append(\"..\")\n",
    "\n",
    "print(os.listdir('ostest'))\n"
   ]
  }
 ],
 "metadata": {
  "kernelspec": {
   "display_name": "Python 3 (ipykernel)",
   "language": "python",
   "name": "python3"
  },
  "language_info": {
   "codemirror_mode": {
    "name": "ipython",
    "version": 3
   },
   "file_extension": ".py",
   "mimetype": "text/x-python",
   "name": "python",
   "nbconvert_exporter": "python",
   "pygments_lexer": "ipython3",
   "version": "3.11.0"
  }
 },
 "nbformat": 4,
 "nbformat_minor": 5
}
