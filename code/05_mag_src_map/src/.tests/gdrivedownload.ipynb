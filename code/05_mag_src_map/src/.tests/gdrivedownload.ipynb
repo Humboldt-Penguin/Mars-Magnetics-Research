{
 "cells": [
  {
   "cell_type": "raw",
   "id": "d46b1039-668a-4123-95b5-3f110a28120f",
   "metadata": {
    "tags": []
   },
   "source": [
    "import requests\n",
    "\n",
    "def download_file_from_google_drive(id, destination):\n",
    "    URL = \"https://docs.google.com/uc?export=download\"\n",
    "\n",
    "    session = requests.Session()\n",
    "\n",
    "    response = session.get(URL, params = { 'id' : id }, stream = True)\n",
    "    token = get_confirm_token(response)\n",
    "\n",
    "    if token:\n",
    "        params = { 'id' : id, 'confirm' : token }\n",
    "        response = session.get(URL, params = params, stream = True)\n",
    "\n",
    "    save_response_content(response, destination)    \n",
    "\n",
    "def get_confirm_token(response):\n",
    "    for key, value in response.cookies.items():\n",
    "        if key.startswith('download_warning'):\n",
    "            return value\n",
    "\n",
    "    return None\n",
    "\n",
    "def save_response_content(response, destination):\n",
    "    CHUNK_SIZE = 32768\n",
    "\n",
    "    with open(destination, \"wb\") as f:\n",
    "        for chunk in response.iter_content(CHUNK_SIZE):\n",
    "            if chunk: # filter out keep-alive new chunks\n",
    "                f.write(chunk)\n",
    "\n",
    "# if __name__ == \"__main__\":\n",
    "#     file_id = 'TAKE ID FROM SHAREABLE LINK'\n",
    "#     destination = 'DESTINATION FILE ON YOUR DISK'\n",
    "#     download_file_from_google_drive(file_id, destination)"
   ]
  },
  {
   "cell_type": "raw",
   "id": "34c904a9-2cfe-4943-88db-8144a19ad6df",
   "metadata": {
    "tags": []
   },
   "source": [
    "import os\n",
    "\n",
    "# https://drive.google.com/file/d/16RE3PtLEju7dA8sH0DwDArkBPGG9ZjVe/view?usp=sharing\n",
    "file_id = '16RE3PtLEju7dA8sH0DwDArkBPGG9ZjVe'\n",
    "\n",
    "destination = os.path.abspath(os.path.join(os.getcwd(), \"craters.zip\"))\n",
    "\n",
    "\n",
    "download_file_from_google_drive(file_id, destination)"
   ]
  },
  {
   "cell_type": "raw",
   "id": "4ebf3f51-bf21-4eae-a467-d6800b6d9861",
   "metadata": {},
   "source": []
  },
  {
   "cell_type": "raw",
   "id": "7184d015-d568-4086-8044-4de03cc79551",
   "metadata": {},
   "source": []
  },
  {
   "cell_type": "raw",
   "id": "f2d4c13f-7ac5-4c13-ade4-f9f183615251",
   "metadata": {},
   "source": []
  },
  {
   "cell_type": "raw",
   "id": "2c31c038-10fc-43bd-8e92-b76fd8c9d57a",
   "metadata": {
    "tags": []
   },
   "source": [
    "import requests\n",
    "\n",
    "def download_file_from_google_drive(id, destination):\n",
    "    def get_confirm_token(response):\n",
    "        for key, value in response.cookies.items():\n",
    "            if key.startswith('download_warning'):\n",
    "                return value\n",
    "\n",
    "        return None\n",
    "\n",
    "    def save_response_content(response, destination):\n",
    "        CHUNK_SIZE = 32768\n",
    "\n",
    "        with open(destination, \"wb\") as f:\n",
    "            for chunk in response.iter_content(CHUNK_SIZE):\n",
    "                if chunk: # filter out keep-alive new chunks\n",
    "                    f.write(chunk)\n",
    "\n",
    "    URL = \"https://docs.google.com/uc?export=download\"\n",
    "\n",
    "    session = requests.Session()\n",
    "\n",
    "    response = session.get(URL, params = { 'id' : id }, stream = True)\n",
    "    token = get_confirm_token(response)\n",
    "\n",
    "    if token:\n",
    "        params = { 'id' : id, 'confirm' : token }\n",
    "        response = session.get(URL, params = params, stream = True)\n",
    "\n",
    "    save_response_content(response, destination)    \n",
    "\n",
    "\n",
    "# if __name__ == \"__main__\":\n",
    "import sys\n",
    "# if len(sys.argv) is not 3:\n",
    "#     print(\"Usage: python google_drive.py drive_file_id destination_file_path\")\n",
    "# else:\n",
    "\n",
    "\n",
    "# TAKE ID FROM SHAREABLE LINK\n",
    "# https://drive.google.com/file/d/16RE3PtLEju7dA8sH0DwDArkBPGG9ZjVe/view?usp=sharing\n",
    "file_id = '16RE3PtLEju7dA8sH0DwDArkBPGG9ZjVe'\n",
    "# DESTINATION FILE ON YOUR DISK\n",
    "destination = os.path.abspath(os.path.join(os.getcwd(), \"craters.zip\"))\n",
    "download_file_from_google_drive(file_id, destination)"
   ]
  },
  {
   "cell_type": "raw",
   "id": "b4c2b648-b637-4c31-83ae-ef0af81b0705",
   "metadata": {},
   "source": []
  },
  {
   "cell_type": "raw",
   "id": "b74a88e0-3e1a-42bd-87a2-ae90593bed01",
   "metadata": {},
   "source": []
  },
  {
   "cell_type": "raw",
   "id": "e821514e-ccd6-40a0-9586-dde3f19c78c5",
   "metadata": {},
   "source": []
  },
  {
   "cell_type": "raw",
   "id": "873b2067-1718-48ef-9dfe-42f7d37f99fc",
   "metadata": {},
   "source": []
  },
  {
   "cell_type": "code",
   "execution_count": null,
   "id": "0bf0428f-9bba-4874-bd04-d34853ca8ed5",
   "metadata": {
    "tags": []
   },
   "outputs": [],
   "source": [
    "import gdown\n",
    "import os\n",
    "\n",
    "# help(gdown.download_folder)\n",
    "\n",
    "url_data = \"https://drive.google.com/drive/u/0/folders/1TF29m-zZGOpxP6kgpJiojLmVYRt3oF3t\"\n",
    "path_data = os.path.abspath(os.path.join(os.getcwd(), \"datatest/\"))\n",
    "_ = gdown.download_folder(url=url_data, output=path_data, quiet=True, use_cookies=False)"
   ]
  },
  {
   "cell_type": "code",
   "execution_count": null,
   "id": "d51d65c0-63b5-420a-b867-84badd3530a7",
   "metadata": {
    "tags": []
   },
   "outputs": [],
   "source": [
    "import zipfile\n",
    "\n",
    "for file in (os.listdir(path_data)):\n",
    "    fullfile = os.path.abspath(os.path.join(path_data, file))\n",
    "    if fullfile.endswith('.zip'):\n",
    "        with zipfile.ZipFile(fullfile, 'r') as zip_ref:\n",
    "            zip_ref.extractall(fullfile[:-4])\n",
    "            os.remove(fullfile)"
   ]
  },
  {
   "cell_type": "code",
   "execution_count": 22,
   "id": "3ecfba1c-94aa-4d90-a546-73ee88a0b3d0",
   "metadata": {
    "tags": []
   },
   "outputs": [
    {
     "name": "stdout",
     "output_type": "stream",
     "text": [
      "Help on function download_folder in module gdown.download_folder:\n",
      "\n",
      "download_folder(url=None, id=None, output=None, quiet=False, proxy=None, speed=None, use_cookies=True, remaining_ok=False, verify=True)\n",
      "    Downloads entire folder from URL.\n",
      "    \n",
      "    Parameters\n",
      "    ----------\n",
      "    url: str\n",
      "        URL of the Google Drive folder.\n",
      "        Must be of the format 'https://drive.google.com/drive/folders/{url}'.\n",
      "    id: str\n",
      "        Google Drive's folder ID.\n",
      "    output: str, optional\n",
      "        String containing the path of the output folder.\n",
      "        Defaults to current working directory.\n",
      "    quiet: bool, optional\n",
      "        Suppress terminal output.\n",
      "    proxy: str, optional\n",
      "        Proxy.\n",
      "    speed: float, optional\n",
      "        Download byte size per second (e.g., 256KB/s = 256 * 1024).\n",
      "    use_cookies: bool, optional\n",
      "        Flag to use cookies. Default is True.\n",
      "    verify: bool or string\n",
      "        Either a bool, in which case it controls whether the server's TLS\n",
      "        certificate is verified, or a string, in which case it must be a path\n",
      "        to a CA bundle to use. Default is True.\n",
      "    \n",
      "    Returns\n",
      "    -------\n",
      "    filenames: list of str\n",
      "        List of files downloaded, or None if failed.\n",
      "    \n",
      "    Example\n",
      "    -------\n",
      "    gdown.download_folder(\n",
      "        \"https://drive.google.com/drive/folders/\" +\n",
      "        \"1ZXEhzbLRLU1giKKRJkjm8N04cO_JoYE2\",\n",
      "    )\n",
      "\n"
     ]
    }
   ],
   "source": [
    "import gdown\n",
    "help(gdown.download_folder)"
   ]
  },
  {
   "cell_type": "code",
   "execution_count": 26,
   "id": "7e200abc-46cd-44b0-ab78-d21a480bb3bf",
   "metadata": {
    "tags": []
   },
   "outputs": [
    {
     "name": "stdout",
     "output_type": "stream",
     "text": [
      "hi\n"
     ]
    }
   ],
   "source": [
    "if 4 < 5: print(\"hi\")"
   ]
  },
  {
   "cell_type": "code",
   "execution_count": 31,
   "id": "55f24abb-7f4b-4bf1-9668-ff09e0901429",
   "metadata": {
    "tags": []
   },
   "outputs": [],
   "source": [
    "x = [1, 2, 3, 4]"
   ]
  },
  {
   "cell_type": "code",
   "execution_count": 43,
   "id": "30d59054-ad06-4c62-843d-e3cd98a9076b",
   "metadata": {
    "tags": []
   },
   "outputs": [
    {
     "name": "stdout",
     "output_type": "stream",
     "text": [
      "1\n",
      "\t2\n",
      "\t3\n",
      "\t4\n"
     ]
    }
   ],
   "source": [
    "print(*x, sep='\\n\\t')"
   ]
  },
  {
   "cell_type": "code",
   "execution_count": null,
   "id": "0e3ecbf7-c1c5-402b-8141-49082d8cd0ac",
   "metadata": {},
   "outputs": [],
   "source": []
  },
  {
   "cell_type": "raw",
   "id": "c36f0d9f-a403-469e-a788-8362200f6008",
   "metadata": {
    "tags": []
   },
   "source": [
    "import os\n",
    "print(os.getcwd())\n",
    "print()\n",
    "print(os.listdir())\n",
    "print()\n",
    "print(os.listdir('data'))\n",
    "print()\n",
    "# print(os.listdir('ostest'))\n",
    "\n",
    "import sys\n",
    "sys.path.append(\"..\")\n",
    "\n",
    "print(os.listdir('ostest'))\n"
   ]
  }
 ],
 "metadata": {
  "kernelspec": {
   "display_name": "Python 3 (ipykernel)",
   "language": "python",
   "name": "python3"
  },
  "language_info": {
   "codemirror_mode": {
    "name": "ipython",
    "version": 3
   },
   "file_extension": ".py",
   "mimetype": "text/x-python",
   "name": "python",
   "nbconvert_exporter": "python",
   "pygments_lexer": "ipython3",
   "version": "3.11.0"
  }
 },
 "nbformat": 4,
 "nbformat_minor": 5
}
