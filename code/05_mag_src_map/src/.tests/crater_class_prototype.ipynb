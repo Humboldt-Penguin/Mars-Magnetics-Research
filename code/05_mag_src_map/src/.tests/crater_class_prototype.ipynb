{
 "cells": [
  {
   "cell_type": "markdown",
   "id": "e43018fc-64a8-494a-81be-61f0379e8f21",
   "metadata": {},
   "source": [
    "Purpose: come up with a way to process/work with crater data before formalizing into a class"
   ]
  },
  {
   "cell_type": "markdown",
   "id": "42583001-5a4b-493b-a6bc-8d8c63b16821",
   "metadata": {},
   "source": [
    "---\n",
    "# 0. Setup"
   ]
  },
  {
   "cell_type": "markdown",
   "id": "a26a2692-7814-458d-b477-1430c70bc8d6",
   "metadata": {},
   "source": [
    "### Add path to source"
   ]
  },
  {
   "cell_type": "code",
   "execution_count": 1,
   "id": "17934432-1922-42a2-b228-36fadcc82961",
   "metadata": {
    "tags": []
   },
   "outputs": [
    {
     "name": "stdout",
     "output_type": "stream",
     "text": [
      "Path to source: C:\\Users\\zk117\\Documents\\01.Research\\Mars_Magnetics__uptodate\\code\\05_mag_src_map\\src\n"
     ]
    }
   ],
   "source": [
    "def getPath(*args):\n",
    "    \"\"\"Join all arguments into a single path. Use 'current' as a stand in for path to current file.\"\"\"\n",
    "    import os\n",
    "    args = [os.getcwd() if arg == 'current' else arg for arg in args]\n",
    "    return os.path.abspath(os.path.join(*args))\n",
    "\n",
    "    \n",
    "def path_addSrc(fullpath_src = None, relpath_src = None, parent = False, verbose = False):\n",
    "    \"\"\"\n",
    "    Add directory \"src/\" to path.\n",
    "        \n",
    "    PARAMETERS:\n",
    "        fullpath_src : string\n",
    "            Path to source from root.\n",
    "        relpath_src : string\n",
    "            Path to source from directory of current file.\n",
    "        parent : boolean\n",
    "            Use parent folder as source\n",
    "        verbose : boolean\n",
    "            Prints source directory path.\n",
    "    \n",
    "    RETURN:\n",
    "        path_src : string\n",
    "            Path to source from root.\n",
    "    \"\"\"\n",
    "    \n",
    "    import sys\n",
    "    import os\n",
    "\n",
    "    if fullpath_src:\n",
    "        path_src = getPath(fullpath_src)\n",
    "    elif relpath_src:\n",
    "        path_src = getPath('current', relpath_src)\n",
    "    elif parent:\n",
    "        path_src = getPath('current', '..')\n",
    "        \n",
    "    if verbose: print(\"Path to source: \" + path_src)\n",
    "    \n",
    "    sys.path.append(path_src)\n",
    "    return path_src\n",
    "\n",
    "\n",
    "path_src = path_addSrc(parent=True, verbose=True)"
   ]
  },
  {
   "cell_type": "markdown",
   "id": "36712c2f-51ae-463c-bdad-5a05562bcc38",
   "metadata": {},
   "source": [
    "### Download data\n",
    "All data available here: https://drive.google.com/drive/u/0/folders/1D8oWu05X83Xa8dKB1C_SUutBNvbJUt4n"
   ]
  },
  {
   "cell_type": "code",
   "execution_count": 30,
   "id": "86a3aaaa-2c68-4f0d-be3a-793e97e3629b",
   "metadata": {
    "tags": []
   },
   "outputs": [
    {
     "name": "stdout",
     "output_type": "stream",
     "text": [
      "Data folder already exists. To overwrite, add `overwrite=True` param.\n",
      "\n",
      "Data folder contents: \n",
      "\tcraters\n",
      "\tcrustal_heat_flow\n",
      "\tcrustal_thickness\n",
      "\tGRS\n",
      "\tmvn_mag\n",
      "\tREADME.txt\n"
     ]
    }
   ],
   "source": [
    "from lib.DataDownloader import DataDownloader as dd\n",
    "dd.download_folder(path_src=path_src, url=\"https://drive.google.com/drive/u/0/folders/1D8oWu05X83Xa8dKB1C_SUutBNvbJUt4n\", overwrite=False)"
   ]
  },
  {
   "cell_type": "markdown",
   "id": "6530f5ad-5f0a-44b0-b8be-01da6b5fb570",
   "metadata": {},
   "source": [
    "### Libraries"
   ]
  },
  {
   "cell_type": "code",
   "execution_count": 25,
   "id": "09c29ee3-d43c-4e35-9973-1aa7af118cc4",
   "metadata": {
    "tags": []
   },
   "outputs": [],
   "source": [
    "import numpy as np\n",
    "import matplotlib.pyplot as plt\n",
    "import pandas as pd\n",
    "import math"
   ]
  },
  {
   "cell_type": "markdown",
   "id": "5b95f1d0-d2c2-4858-a260-c50c3ed5ed6f",
   "metadata": {},
   "source": [
    "---\n",
    "# 1. Notebook version"
   ]
  },
  {
   "cell_type": "code",
   "execution_count": 148,
   "id": "8de56af9-ed05-48a8-90f3-b836d493dadd",
   "metadata": {},
   "outputs": [],
   "source": [
    "import pandas as pd\n",
    "\n",
    "class Craters:\n",
    "    \n",
    "    def __init__(self):\n",
    "        return\n",
    "    \n",
    "    \n",
    "    def loadData(self, path, minDiam=0, maxDiam=1500, extraInfo=True):\n",
    "        self.path = path\n",
    "        self.minDiam = minDiam\n",
    "        self.maxDiam = maxDiam\n",
    "        \n",
    "        # read\n",
    "        self.craters_df = pd.read_csv(path, usecols=[0,1,2,5])\n",
    "        # rename cols\n",
    "        # self.craters_df.rename(columns={'CRATER_ID':'id','LAT_CIRC_IMG':'lat','LON_CIRC_IMG':'clon','DIAM_CIRC_IMG':'diam'}, inplace=True)\n",
    "        self.craters_df.columns = ['id', 'lat', 'clon', 'diam']\n",
    "        # diameter cut\n",
    "        self.craters_df = self.craters_df[(self.craters_df['diam'] >= minDiam) & (self.craters_df['diam'] <= maxDiam)].sort_values(by=['diam'])\n",
    "        # add lon\n",
    "        self.craters_df['lon'] = clon2lon(self.craters_df['clon'])\n",
    "        # swap clon and lon\n",
    "        self.craters_df = self.craters_df.iloc[:, [0,4,1,3,2]]\n",
    "        self.craters_df.columns = ['id', 'lon', 'lat', 'diam', 'clon']\n",
    "        \n",
    "        \n",
    "        # add names, age, and age_error\n",
    "        if extraInfo:            \n",
    "            fn = getPath(path, '..', 'crater_names_ages.csv')\n",
    "            extra_df = pd.read_csv(fn)\n",
    "            \n",
    "            self.craters_df = self.craters_df.merge(extra_df, how='left', on='id')\n",
    "            self.craters_df.name.fillna('', inplace=True)\n",
    "            self.craters_df.age.fillna(-1, inplace=True)\n",
    "            self.craters_df.age_error.fillna(-1, inplace=True)\n",
    "            # print(craters_df.to_string())\n",
    "            \n",
    "        return\n",
    "    \n",
    "    \n",
    "    def getData(self):\n",
    "        return self.craters_df\n",
    "    \n",
    "    \n",
    "    def getByName(self,name):\n",
    "        return self.craters_df.loc[self.craters_df['name'] == name].iloc[0].to_dict()\n",
    "    \n",
    "    \n",
    "    def km2theta(self,km):\n",
    "        \"\"\"\n",
    "        Converts a crater's diameter from kilometers to degrees. \n",
    "\n",
    "        This equation is obtained by looking at many craters on JMars and\n",
    "        roughly measuring the angular separation between the left and right\n",
    "        edges. We then plot this against diameter in km (accessed from\n",
    "        generate_crater_locations.m) and then finding the line of best fit,\n",
    "        which is linear. Rough calculations here:\n",
    "            https://docs.google.com/spreadsheets/d/1Ylr_Oowq_jV1KNXEGuSvXbWNbPZNGUQF1jjv2eTC7Jg/edit?usp=sharing\n",
    "        \"\"\"\n",
    "        theta = 0.0185*km - 0.123\n",
    "        return theta\n",
    "    \n",
    "    \n",
    "    def theta2km(self,theta):\n",
    "        km = (theta+0.123)/0.0185\n",
    "        return km\n",
    "    \n",
    "    \n",
    "#############################################\n",
    "\n",
    "def lon2clon(lon):\n",
    "    return lon % 360\n",
    "def clon2lon(clon):\n",
    "    return ((clon-180) % 360) - 180\n",
    "\n",
    "\n",
    "def lat2cola(lat):\n",
    "    return lat % 180\n",
    "def cola2lat(cola):\n",
    "    return ((cola-90) % 180) - 90\n",
    "\n",
    "    \n",
    "def getPath(*args):\n",
    "    \"\"\"Join all arguments into a single path. Use 'current' as a stand in for path to current file.\"\"\"\n",
    "    import os\n",
    "    args = [os.getcwd() if arg == 'current' else arg for arg in args]\n",
    "    return os.path.abspath(os.path.join(*args))\n",
    "\n",
    "\n",
    "#############################################\n",
    "\n",
    "\n",
    "craters = Craters()\n",
    "path = getPath(path_src, 'data', 'craters', 'Catalog_Mars_Release_2020_1kmPlus_FullMorphData.csv')\n",
    "craters.loadData(path, 70, 1000)\n",
    "# craters.getByName('Henry')\n",
    "# print(craters.getData().to_string())"
   ]
  },
  {
   "cell_type": "markdown",
   "id": "49ac12ab-ac4b-4da6-8312-46cb58b14f47",
   "metadata": {},
   "source": [
    "---\n",
    "# 2. Transfer to class"
   ]
  },
  {
   "cell_type": "code",
   "execution_count": 1,
   "id": "d11c320f-4fe4-4de7-875d-5f32bd2aef35",
   "metadata": {
    "tags": []
   },
   "outputs": [
    {
     "ename": "ModuleNotFoundError",
     "evalue": "No module named 'lib.Craters'",
     "output_type": "error",
     "traceback": [
      "\u001b[1;31m---------------------------------------------------------------------------\u001b[0m",
      "\u001b[1;31mModuleNotFoundError\u001b[0m                       Traceback (most recent call last)",
      "Cell \u001b[1;32mIn[1], line 1\u001b[0m\n\u001b[1;32m----> 1\u001b[0m \u001b[38;5;28;01mfrom\u001b[39;00m \u001b[38;5;21;01mlib\u001b[39;00m\u001b[38;5;21;01m.\u001b[39;00m\u001b[38;5;21;01mCraters\u001b[39;00m \u001b[38;5;28;01mimport\u001b[39;00m Craters \u001b[38;5;28;01mas\u001b[39;00m CraterClass\n\u001b[0;32m      2\u001b[0m Craters \u001b[38;5;241m=\u001b[39m CraterClass()\n\u001b[0;32m      4\u001b[0m path \u001b[38;5;241m=\u001b[39m getPath(path_src, \u001b[38;5;124m'\u001b[39m\u001b[38;5;124mdata\u001b[39m\u001b[38;5;124m'\u001b[39m, \u001b[38;5;124m'\u001b[39m\u001b[38;5;124mcraters\u001b[39m\u001b[38;5;124m'\u001b[39m, \u001b[38;5;124m'\u001b[39m\u001b[38;5;124mCatalog_Mars_Release_2020_1kmPlus_FullMorphData.csv\u001b[39m\u001b[38;5;124m'\u001b[39m)\n",
      "\u001b[1;31mModuleNotFoundError\u001b[0m: No module named 'lib.Craters'"
     ]
    }
   ],
   "source": [
    "from lib.Craters import Craters as CraterClass\n",
    "Craters = CraterClass()\n",
    "\n",
    "path = getPath(path_src, 'data', 'craters', 'Catalog_Mars_Release_2020_1kmPlus_FullMorphData.csv')\n",
    "Craters.loadData(path,70,1000)\n",
    "# Craters.getByName('Henry')\n",
    "print(Craters.getData().to_string())"
   ]
  }
 ],
 "metadata": {
  "kernelspec": {
   "display_name": "Python 3 (ipykernel)",
   "language": "python",
   "name": "python3"
  },
  "language_info": {
   "codemirror_mode": {
    "name": "ipython",
    "version": 3
   },
   "file_extension": ".py",
   "mimetype": "text/x-python",
   "name": "python",
   "nbconvert_exporter": "python",
   "pygments_lexer": "ipython3",
   "version": "3.11.0"
  }
 },
 "nbformat": 4,
 "nbformat_minor": 5
}
