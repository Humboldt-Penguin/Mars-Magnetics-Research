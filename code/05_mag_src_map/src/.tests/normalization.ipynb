{
 "cells": [
  {
   "cell_type": "markdown",
   "id": "596b230d-b6c8-4148-95e0-440019bc4a5f",
   "metadata": {},
   "source": [
    "Make sure normalization works as intended (check against manual value)"
   ]
  },
  {
   "cell_type": "code",
   "execution_count": 4,
   "id": "48c725dd-9833-45c8-b607-464f1b549170",
   "metadata": {
    "tags": []
   },
   "outputs": [],
   "source": [
    "import sys\n",
    "import os\n",
    "sys.path.append(\"..\")\n",
    "\n",
    "from lib.GRS import GRS as grs"
   ]
  },
  {
   "cell_type": "code",
   "execution_count": 14,
   "id": "abd6751b-f182-4923-8e0b-a4a0b8aba2ae",
   "metadata": {
    "tags": []
   },
   "outputs": [],
   "source": [
    "GRS = grs('/home/lain/sync/01_Research/Mars_Magnetics/code/05_mag_src_map/src/data/GRS')\n",
    "GRS.loadData()"
   ]
  },
  {
   "cell_type": "code",
   "execution_count": 25,
   "id": "069aebde-9243-4d3c-b512-1cdb322f67c3",
   "metadata": {},
   "outputs": [
    {
     "name": "stdout",
     "output_type": "stream",
     "text": [
      "raw k: 4.5225000000000004e-07\n",
      "normalized k: 5.959420595414969e-07\n",
      "\n",
      "h2o: 0.024184999999999998\n",
      "cl: 0.0038525\n",
      "si: 0.21308\n",
      "sum volatiles: 0.24111749999999998\n",
      "\n",
      "manual normalization: 5.959420595414969e-07\n",
      "equal?: True\n"
     ]
    }
   ],
   "source": [
    "## Optional test: verify that normalization works as intended:\n",
    "\n",
    "lon = -90\n",
    "lat = -30\n",
    "\n",
    "k = GRS.getConcentration(lon,lat,\"th\", normalized=False)\n",
    "print(f'raw k: {k}')\n",
    "k_norm = GRS.getConcentration(lon,lat,\"th\", normalized=True)\n",
    "print(f'normalized k: {k_norm}')\n",
    "print()\n",
    "\n",
    "h2o = GRS.getConcentration(lon,lat,\"h2o\", normalized=False)\n",
    "cl = GRS.getConcentration(lon,lat,\"cl\", normalized=False)\n",
    "si = GRS.getConcentration(lon,lat,\"si\", normalized=False)\n",
    "print(f'h2o: {h2o}')\n",
    "print(f'cl: {cl}')\n",
    "print(f'si: {si}')\n",
    "print(f'sum volatiles: {h2o+cl+si}')\n",
    "print()\n",
    "\n",
    "k_norm_man = k / (1-(h2o+cl+si))\n",
    "print(f'manual normalization: {k_norm_man}')\n",
    "print(f'equal?: {k_norm == k_norm_man}')"
   ]
  },
  {
   "cell_type": "code",
   "execution_count": 19,
   "id": "159b0e01-3c5f-4335-91ed-89a52609594a",
   "metadata": {
    "tags": []
   },
   "outputs": [
    {
     "data": {
      "text/plain": [
       "5e-07"
      ]
     },
     "execution_count": 19,
     "metadata": {},
     "output_type": "execute_result"
    }
   ],
   "source": [
    "0.5/1000000"
   ]
  }
 ],
 "metadata": {
  "kernelspec": {
   "display_name": "Python 3 (ipykernel)",
   "language": "python",
   "name": "python3"
  },
  "language_info": {
   "codemirror_mode": {
    "name": "ipython",
    "version": 3
   },
   "file_extension": ".py",
   "mimetype": "text/x-python",
   "name": "python",
   "nbconvert_exporter": "python",
   "pygments_lexer": "ipython3",
   "version": "3.10.9"
  }
 },
 "nbformat": 4,
 "nbformat_minor": 5
}
