{
 "cells": [
  {
   "cell_type": "markdown",
   "id": "596b230d-b6c8-4148-95e0-440019bc4a5f",
   "metadata": {},
   "source": [
    "Make sure normalization works as intended (check against manual value)"
   ]
  },
  {
   "cell_type": "code",
   "execution_count": 4,
   "id": "48c725dd-9833-45c8-b607-464f1b549170",
   "metadata": {
    "tags": []
   },
   "outputs": [],
   "source": [
    "import sys\n",
    "sys.path.append(\"..\")\n",
    "\n",
    "from model.GRS import GRS as grs"
   ]
  },
  {
   "cell_type": "code",
   "execution_count": 5,
   "id": "abd6751b-f182-4923-8e0b-a4a0b8aba2ae",
   "metadata": {
    "tags": []
   },
   "outputs": [],
   "source": [
    "GRS = grs()\n",
    "GRS.loadData()"
   ]
  },
  {
   "cell_type": "code",
   "execution_count": 6,
   "id": "069aebde-9243-4d3c-b512-1cdb322f67c3",
   "metadata": {},
   "outputs": [
    {
     "name": "stdout",
     "output_type": "stream",
     "text": [
      "raw k: 0.0031625000000000004\n",
      "normalized k: 0.004308186917415633\n",
      "\n",
      "h2o: 0.060730000000000006\n",
      "cl: 0.005932499999999999\n",
      "si: 0.19927\n",
      "sum volatiles: 0.2659325\n",
      "\n",
      "manual normalization: 0.004308186917415633\n",
      "equal?: True\n"
     ]
    }
   ],
   "source": [
    "## Optional test: verify that normalization works as intended:\n",
    "\n",
    "k = GRS.getConcentration(0,0,\"k\", normalized=False)\n",
    "print(f'raw k: {k}')\n",
    "k_norm = GRS.getConcentration(0,0,\"k\", normalized=True)\n",
    "print(f'normalized k: {k_norm}')\n",
    "print()\n",
    "\n",
    "h2o = GRS.getConcentration(0,0,\"h2o\", normalized=False)\n",
    "cl = GRS.getConcentration(0,0,\"cl\", normalized=False)\n",
    "si = GRS.getConcentration(0,0,\"si\", normalized=False)\n",
    "print(f'h2o: {h2o}')\n",
    "print(f'cl: {cl}')\n",
    "print(f'si: {si}')\n",
    "print(f'sum volatiles: {h2o+cl+si}')\n",
    "print()\n",
    "\n",
    "k_norm_man = k / (1-(h2o+cl+si))\n",
    "print(f'manual normalization: {k_norm_man}')\n",
    "print(f'equal?: {k_norm == k_norm_man}')"
   ]
  }
 ],
 "metadata": {
  "kernelspec": {
   "display_name": "Python 3 (ipykernel)",
   "language": "python",
   "name": "python3"
  },
  "language_info": {
   "codemirror_mode": {
    "name": "ipython",
    "version": 3
   },
   "file_extension": ".py",
   "mimetype": "text/x-python",
   "name": "python",
   "nbconvert_exporter": "python",
   "pygments_lexer": "ipython3",
   "version": "3.11.0"
  }
 },
 "nbformat": 4,
 "nbformat_minor": 5
}
