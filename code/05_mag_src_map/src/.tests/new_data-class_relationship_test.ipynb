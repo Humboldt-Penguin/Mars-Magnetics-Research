{
 "cells": [
  {
   "cell_type": "markdown",
   "id": "8bdf28b0-698d-4544-b3cf-6e4f83ff16e2",
   "metadata": {},
   "source": [
    "Made on 5/1/2023 by Zain Eris Kamal\n",
    "\n",
    "I modified the GRS class so that it takes care of downloading/storing/accessing the most recent data with minimal complexity. \n",
    "\n",
    "This means that any user only needs the GRS.py file and its dependencies (DataDownloader.py and Utils.py). They don't need to worry about downloading the data themselves or structuring their project repository a certain way.\n",
    "\n",
    "---\n",
    "\n",
    "This notebook is a proof of concept for that functionality."
   ]
  },
  {
   "cell_type": "code",
   "execution_count": 1,
   "id": "bce81b18-b3ec-41de-b3df-c1c7e3fd4589",
   "metadata": {},
   "outputs": [
    {
     "name": "stdout",
     "output_type": "stream",
     "text": [
      "Path to source: C:\\Users\\Eris\\Documents\\sync_local\\01_Research\\Mars_Magnetics\\code\\05_mag_src_map\\src\n"
     ]
    }
   ],
   "source": [
    "def getPath(*args):\n",
    "    \"\"\"Join all arguments into a single path. Use 'current' as a stand in for path to current file.\"\"\"\n",
    "    import os\n",
    "    args = [os.getcwd() if arg == 'current' else arg for arg in args]\n",
    "    return os.path.abspath(os.path.join(*args))\n",
    "\n",
    "    \n",
    "def path_addSrc(fullpath_src = None, relpath_src = None, parent = False, verbose = False):\n",
    "    \"\"\"\n",
    "    Add directory \"src/\" to path.\n",
    "        \n",
    "    PARAMETERS:\n",
    "        fullpath_src : string\n",
    "            Path to source from root.\n",
    "        relpath_src : string\n",
    "            Path to source from directory of current file.\n",
    "        parent : boolean\n",
    "            Use parent folder as source\n",
    "        verbose : boolean\n",
    "            Prints source directory path.\n",
    "    \n",
    "    RETURN:\n",
    "        path_src : string\n",
    "            Path to source from root.\n",
    "    \"\"\"\n",
    "    \n",
    "    import sys\n",
    "    import os\n",
    "\n",
    "    if fullpath_src:\n",
    "        path_src = getPath(fullpath_src)\n",
    "    elif relpath_src:\n",
    "        path_src = getPath('current', relpath_src)\n",
    "    elif parent:\n",
    "        path_src = getPath('current', '..')\n",
    "        \n",
    "    if verbose: print(\"Path to source: \" + path_src)\n",
    "    \n",
    "    sys.path.append(path_src)\n",
    "    return path_src\n",
    "\n",
    "\n",
    "path_src = path_addSrc(parent=True, verbose=True)"
   ]
  },
  {
   "cell_type": "code",
   "execution_count": 2,
   "id": "99afd502-acbc-440d-85a4-4ddf791be4de",
   "metadata": {
    "tags": []
   },
   "outputs": [],
   "source": [
    "from lib.GRS import GRS as GRS_class\n",
    "from lib.Utils import Utils as utils"
   ]
  },
  {
   "cell_type": "code",
   "execution_count": 3,
   "id": "e739e5ff-ef1f-4277-ade3-7a6efd660036",
   "metadata": {
    "tags": []
   },
   "outputs": [],
   "source": [
    "GRS = GRS_class()"
   ]
  },
  {
   "cell_type": "code",
   "execution_count": 4,
   "id": "9f646d90-2894-4e7d-a344-6ef9b3d89308",
   "metadata": {
    "tags": []
   },
   "outputs": [
    {
     "name": "stdout",
     "output_type": "stream",
     "text": [
      "Data folder already exists at \n",
      "C:\\Users\\Eris\\Documents\\sync_local\\01_Research\\Mars_Magnetics\\code\\05_mag_src_map\\src\\data\\1_raw\\GRS. \n",
      "To overwrite, add `overwrite=True` param.\n",
      "\n"
     ]
    }
   ],
   "source": [
    "path__datahome = utils.getPath('current','..','data','1_raw')\n",
    "\n",
    "GRS.downloadData(path__datahome, overwrite=False, verbose=True)"
   ]
  },
  {
   "cell_type": "code",
   "execution_count": 5,
   "id": "98575322-ad87-48dc-8061-89231d824062",
   "metadata": {
    "tags": []
   },
   "outputs": [],
   "source": [
    "GRS.loadData()"
   ]
  },
  {
   "cell_type": "code",
   "execution_count": 6,
   "id": "803fd176-1b52-4cae-9219-572437b09f1b",
   "metadata": {
    "tags": []
   },
   "outputs": [
    {
     "data": {
      "image/png": "[encoded data removed]",
      "text/plain": [
       "<Figure size 700x500 with 2 Axes>"
      ]
     },
     "metadata": {},
     "output_type": "display_data"
    }
   ],
   "source": [
    "GRS.visualize('h2o')"
   ]
  }
 ],
 "metadata": {
  "kernelspec": {
   "display_name": "Python 3 (ipykernel)",
   "language": "python",
   "name": "python3"
  },
  "language_info": {
   "codemirror_mode": {
    "name": "ipython",
    "version": 3
   },
   "file_extension": ".py",
   "mimetype": "text/x-python",
   "name": "python",
   "nbconvert_exporter": "python",
   "pygments_lexer": "ipython3",
   "version": "3.11.3"
  }
 },
 "nbformat": 4,
 "nbformat_minor": 5
}
